{
 "cells": [
  {
   "cell_type": "markdown",
   "metadata": {
    "id": "A61bdqbL4tLa"
   },
   "source": [
    "# Introductions"
   ]
  },
  {
   "cell_type": "markdown",
   "metadata": {
    "id": "g5PxXuZdYRBo"
   },
   "source": [
    "#### Dataset\n",
    "Berisi mengenai tweet pada Olimpiade Tokyo 2021\n",
    "\n",
    "#### Sumber Dataset\n",
    "Data berasal dari Kaggle dengan link: https://www.kaggle.com/amritpal333/tokyo-olympics-2021-tweets?select=Olympics_Tokyo_tweets.csv\n",
    "\n",
    "#### Objectivity\n",
    "Membuat perbadingan performa Sentimen Analysis terhadap text tweeter pada olimpiade 2021 dengan metode Word Embedding GloVe"
   ]
  },
  {
   "cell_type": "markdown",
   "metadata": {
    "id": "J7MMMMvNYByX"
   },
   "source": [
    "# Import Pustaka"
   ]
  },
  {
   "cell_type": "code",
   "execution_count": 390,
   "metadata": {
    "colab": {
     "base_uri": "https://localhost:8080/"
    },
    "id": "WCthnApaZLGt",
    "outputId": "690d8857-e3cf-40c8-8509-c9e2dfc2dfee"
   },
   "outputs": [
    {
     "name": "stdout",
     "output_type": "stream",
     "text": [
      "Drive already mounted at /content/drive; to attempt to forcibly remount, call drive.mount(\"/content/drive\", force_remount=True).\n"
     ]
    }
   ],
   "source": [
    "from google.colab import drive\n",
    "drive.mount('/content/drive')"
   ]
  },
  {
   "cell_type": "code",
   "execution_count": 391,
   "metadata": {
    "colab": {
     "base_uri": "https://localhost:8080/"
    },
    "id": "hl_vKAIlXg0a",
    "outputId": "bf8da13c-65a5-4b9e-8551-097150b568e7"
   },
   "outputs": [
    {
     "name": "stdout",
     "output_type": "stream",
     "text": [
      "[nltk_data] Downloading package stopwords to /root/nltk_data...\n",
      "[nltk_data]   Package stopwords is already up-to-date!\n"
     ]
    }
   ],
   "source": [
    "import pandas as pd\n",
    "import numpy as np\n",
    "import matplotlib.pyplot as plt\n",
    "import seaborn as sns\n",
    "import tensorflow as tf\n",
    "\n",
    "import os\n",
    "import re\n",
    "import string\n",
    "import nltk\n",
    "import gensim\n",
    "import random\n",
    "nltk.download('stopwords')\n",
    "from tensorflow import keras\n",
    "from textblob import TextBlob\n",
    "from wordcloud import WordCloud\n",
    "from nltk.corpus import stopwords\n",
    "from collections import Counter\n",
    "from gensim.models import Word2Vec\n",
    "\n",
    "from keras.models import Sequential\n",
    "from tensorflow.keras.layers.experimental.preprocessing import TextVectorization\n",
    "from keras.preprocessing.text import Tokenizer\n",
    "from keras.layers import Dense, Embedding,LSTM\n",
    "from tensorflow.keras import layers\n",
    "from tensorflow.keras.utils import to_categorical\n",
    "from keras.preprocessing.sequence import pad_sequences\n",
    "\n",
    "from sklearn.model_selection import train_test_split\n",
    "from sklearn.metrics import accuracy_score, precision_recall_fscore_support\n",
    "from sklearn.metrics import classification_report\n",
    "\n",
    "%matplotlib inline"
   ]
  },
  {
   "cell_type": "markdown",
   "metadata": {
    "id": "rOhYNVoDYU7o"
   },
   "source": [
    "# Data Loading"
   ]
  },
  {
   "cell_type": "code",
   "execution_count": 392,
   "metadata": {
    "colab": {
     "base_uri": "https://localhost:8080/"
    },
    "id": "xNYFISDDYE1y",
    "outputId": "2bf86f14-e8fc-40bf-881c-f950f8265f0f"
   },
   "outputs": [
    {
     "name": "stderr",
     "output_type": "stream",
     "text": [
      "/usr/local/lib/python3.7/dist-packages/IPython/core/interactiveshell.py:2718: DtypeWarning: Columns (0,4,5,6,10) have mixed types.Specify dtype option on import or set low_memory=False.\n",
      "  interactivity=interactivity, compiler=compiler, result=result)\n"
     ]
    }
   ],
   "source": [
    "df = pd.read_csv('/content/drive/MyDrive/milestone2/Olympics_Tokyo_tweets.csv')"
   ]
  },
  {
   "cell_type": "markdown",
   "metadata": {
    "id": "30K5xOcd1seS"
   },
   "source": [
    "#### melihat data teratas"
   ]
  },
  {
   "cell_type": "code",
   "execution_count": 393,
   "metadata": {
    "colab": {
     "base_uri": "https://localhost:8080/",
     "height": 445
    },
    "id": "rnBaDhD7Ydq7",
    "outputId": "420c2e2a-6583-4a3e-bd8e-a92ae8773b36"
   },
   "outputs": [
    {
     "data": {
      "text/html": [
       "<div>\n",
       "<style scoped>\n",
       "    .dataframe tbody tr th:only-of-type {\n",
       "        vertical-align: middle;\n",
       "    }\n",
       "\n",
       "    .dataframe tbody tr th {\n",
       "        vertical-align: top;\n",
       "    }\n",
       "\n",
       "    .dataframe thead th {\n",
       "        text-align: right;\n",
       "    }\n",
       "</style>\n",
       "<table border=\"1\" class=\"dataframe\">\n",
       "  <thead>\n",
       "    <tr style=\"text-align: right;\">\n",
       "      <th></th>\n",
       "      <th>id</th>\n",
       "      <th>text</th>\n",
       "      <th>user_screen_name</th>\n",
       "      <th>user_location</th>\n",
       "      <th>retweet_count</th>\n",
       "      <th>favorited</th>\n",
       "      <th>favorite_count</th>\n",
       "      <th>user_description</th>\n",
       "      <th>user_created_at</th>\n",
       "      <th>user_followers</th>\n",
       "      <th>user_friends</th>\n",
       "      <th>date</th>\n",
       "      <th>language</th>\n",
       "    </tr>\n",
       "  </thead>\n",
       "  <tbody>\n",
       "    <tr>\n",
       "      <th>0</th>\n",
       "      <td>1419334065375924227</td>\n",
       "      <td>Rejected sports for the 2020 Olympics include ...</td>\n",
       "      <td>tbelmontedu</td>\n",
       "      <td>New Jersey</td>\n",
       "      <td>0</td>\n",
       "      <td>False</td>\n",
       "      <td>0</td>\n",
       "      <td>High School Language Arts Teacher. Technology ...</td>\n",
       "      <td>2013-01-21 00:03:31</td>\n",
       "      <td>778.0</td>\n",
       "      <td>661</td>\n",
       "      <td>2021-07-25 16:29:45</td>\n",
       "      <td>en</td>\n",
       "    </tr>\n",
       "    <tr>\n",
       "      <th>1</th>\n",
       "      <td>1419334059424043009</td>\n",
       "      <td>Why is the Team USA men basketball team playin...</td>\n",
       "      <td>silverchasm</td>\n",
       "      <td>Lynwood, CA</td>\n",
       "      <td>0</td>\n",
       "      <td>False</td>\n",
       "      <td>0</td>\n",
       "      <td>bleh</td>\n",
       "      <td>2014-05-13 18:54:40</td>\n",
       "      <td>66.0</td>\n",
       "      <td>553</td>\n",
       "      <td>2021-07-25 16:29:44</td>\n",
       "      <td>en</td>\n",
       "    </tr>\n",
       "    <tr>\n",
       "      <th>2</th>\n",
       "      <td>1419334056161030146</td>\n",
       "      <td>@my_hive_away I'm watching kayaking on the Oly...</td>\n",
       "      <td>cshaw12897514</td>\n",
       "      <td>NaN</td>\n",
       "      <td>0</td>\n",
       "      <td>False</td>\n",
       "      <td>0</td>\n",
       "      <td>not much to say, not very interesting. but I'm...</td>\n",
       "      <td>2020-10-19 14:15:06</td>\n",
       "      <td>494.0</td>\n",
       "      <td>757</td>\n",
       "      <td>2021-07-25 16:29:43</td>\n",
       "      <td>en</td>\n",
       "    </tr>\n",
       "    <tr>\n",
       "      <th>3</th>\n",
       "      <td>1419334052876795905</td>\n",
       "      <td>While girls her age are still trying to figuri...</td>\n",
       "      <td>AdultMediaTV</td>\n",
       "      <td>United States</td>\n",
       "      <td>0</td>\n",
       "      <td>False</td>\n",
       "      <td>0</td>\n",
       "      <td>Design | Photography | Film 18+ Test ready\\nIn...</td>\n",
       "      <td>2015-08-18 22:33:39</td>\n",
       "      <td>19.0</td>\n",
       "      <td>3</td>\n",
       "      <td>2021-07-25 16:29:42</td>\n",
       "      <td>en</td>\n",
       "    </tr>\n",
       "    <tr>\n",
       "      <th>4</th>\n",
       "      <td>1419334052180594699</td>\n",
       "      <td>@omensfromeden patty mills is at the Olympics???</td>\n",
       "      <td>muddyfoxglove</td>\n",
       "      <td>hozier.tamino.florence.etc.</td>\n",
       "      <td>0</td>\n",
       "      <td>False</td>\n",
       "      <td>0</td>\n",
       "      <td>what if i was a bog body and you were a bog bo...</td>\n",
       "      <td>2016-11-20 06:02:11</td>\n",
       "      <td>1153.0</td>\n",
       "      <td>622</td>\n",
       "      <td>2021-07-25 16:29:42</td>\n",
       "      <td>en</td>\n",
       "    </tr>\n",
       "  </tbody>\n",
       "</table>\n",
       "</div>"
      ],
      "text/plain": [
       "                    id  ... language\n",
       "0  1419334065375924227  ...       en\n",
       "1  1419334059424043009  ...       en\n",
       "2  1419334056161030146  ...       en\n",
       "3  1419334052876795905  ...       en\n",
       "4  1419334052180594699  ...       en\n",
       "\n",
       "[5 rows x 13 columns]"
      ]
     },
     "execution_count": 393,
     "metadata": {},
     "output_type": "execute_result"
    }
   ],
   "source": [
    "df.head()"
   ]
  },
  {
   "cell_type": "markdown",
   "metadata": {
    "id": "_CgW-BUb1seT"
   },
   "source": [
    "#### Melihat shape data"
   ]
  },
  {
   "cell_type": "code",
   "execution_count": 394,
   "metadata": {
    "colab": {
     "base_uri": "https://localhost:8080/"
    },
    "id": "J3GDRIspT7L5",
    "outputId": "b04fd3d9-e90c-42f4-b37a-361a6be1fa81"
   },
   "outputs": [
    {
     "data": {
      "text/plain": [
       "(312825, 13)"
      ]
     },
     "execution_count": 394,
     "metadata": {},
     "output_type": "execute_result"
    }
   ],
   "source": [
    "df.shape"
   ]
  },
  {
   "cell_type": "markdown",
   "metadata": {
    "id": "IsdDD-4H1seU"
   },
   "source": [
    "data terdiri dari 13 columns dan 312825 rows"
   ]
  },
  {
   "cell_type": "markdown",
   "metadata": {
    "id": "ppq-m-tI1seV"
   },
   "source": [
    "#### Melihat statistika data"
   ]
  },
  {
   "cell_type": "code",
   "execution_count": 395,
   "metadata": {
    "colab": {
     "base_uri": "https://localhost:8080/",
     "height": 297
    },
    "id": "8Vmvvcts1seV",
    "outputId": "32ea518c-e5e2-4618-8e5b-1a8f31bd03af"
   },
   "outputs": [
    {
     "data": {
      "text/html": [
       "<div>\n",
       "<style scoped>\n",
       "    .dataframe tbody tr th:only-of-type {\n",
       "        vertical-align: middle;\n",
       "    }\n",
       "\n",
       "    .dataframe tbody tr th {\n",
       "        vertical-align: top;\n",
       "    }\n",
       "\n",
       "    .dataframe thead th {\n",
       "        text-align: right;\n",
       "    }\n",
       "</style>\n",
       "<table border=\"1\" class=\"dataframe\">\n",
       "  <thead>\n",
       "    <tr style=\"text-align: right;\">\n",
       "      <th></th>\n",
       "      <th>user_followers</th>\n",
       "    </tr>\n",
       "  </thead>\n",
       "  <tbody>\n",
       "    <tr>\n",
       "      <th>count</th>\n",
       "      <td>3.127950e+05</td>\n",
       "    </tr>\n",
       "    <tr>\n",
       "      <th>mean</th>\n",
       "      <td>8.878023e+04</td>\n",
       "    </tr>\n",
       "    <tr>\n",
       "      <th>std</th>\n",
       "      <td>1.184703e+06</td>\n",
       "    </tr>\n",
       "    <tr>\n",
       "      <th>min</th>\n",
       "      <td>0.000000e+00</td>\n",
       "    </tr>\n",
       "    <tr>\n",
       "      <th>25%</th>\n",
       "      <td>1.130000e+02</td>\n",
       "    </tr>\n",
       "    <tr>\n",
       "      <th>50%</th>\n",
       "      <td>4.740000e+02</td>\n",
       "    </tr>\n",
       "    <tr>\n",
       "      <th>75%</th>\n",
       "      <td>2.048000e+03</td>\n",
       "    </tr>\n",
       "    <tr>\n",
       "      <th>max</th>\n",
       "      <td>7.806182e+07</td>\n",
       "    </tr>\n",
       "  </tbody>\n",
       "</table>\n",
       "</div>"
      ],
      "text/plain": [
       "       user_followers\n",
       "count    3.127950e+05\n",
       "mean     8.878023e+04\n",
       "std      1.184703e+06\n",
       "min      0.000000e+00\n",
       "25%      1.130000e+02\n",
       "50%      4.740000e+02\n",
       "75%      2.048000e+03\n",
       "max      7.806182e+07"
      ]
     },
     "execution_count": 395,
     "metadata": {},
     "output_type": "execute_result"
    }
   ],
   "source": [
    "df.describe()"
   ]
  },
  {
   "cell_type": "markdown",
   "metadata": {
    "id": "JDf2yomn1seV"
   },
   "source": [
    "#### Melihat columns data"
   ]
  },
  {
   "cell_type": "code",
   "execution_count": 396,
   "metadata": {
    "colab": {
     "base_uri": "https://localhost:8080/"
    },
    "id": "sKt63JTG1seW",
    "outputId": "09563524-6948-4956-ae7d-558572a96662"
   },
   "outputs": [
    {
     "data": {
      "text/plain": [
       "Index(['id', 'text', 'user_screen_name', 'user_location', 'retweet_count',\n",
       "       'favorited', 'favorite_count', 'user_description', 'user_created_at',\n",
       "       'user_followers', 'user_friends', 'date', 'language'],\n",
       "      dtype='object')"
      ]
     },
     "execution_count": 396,
     "metadata": {},
     "output_type": "execute_result"
    }
   ],
   "source": [
    "df.columns"
   ]
  },
  {
   "cell_type": "markdown",
   "metadata": {
    "id": "Xy7IeRYbZBIA"
   },
   "source": [
    "# Data Cleaning"
   ]
  },
  {
   "cell_type": "markdown",
   "metadata": {
    "id": "Ad9kFQZSZBIB"
   },
   "source": [
    "#### Membuat dataset baru"
   ]
  },
  {
   "cell_type": "code",
   "execution_count": 397,
   "metadata": {
    "colab": {
     "base_uri": "https://localhost:8080/",
     "height": 0
    },
    "id": "ta4UbPtzbjWs",
    "outputId": "a6bf11e4-9a09-47e4-9b9d-a1f2e4d6787d"
   },
   "outputs": [
    {
     "data": {
      "text/html": [
       "<div>\n",
       "<style scoped>\n",
       "    .dataframe tbody tr th:only-of-type {\n",
       "        vertical-align: middle;\n",
       "    }\n",
       "\n",
       "    .dataframe tbody tr th {\n",
       "        vertical-align: top;\n",
       "    }\n",
       "\n",
       "    .dataframe thead th {\n",
       "        text-align: right;\n",
       "    }\n",
       "</style>\n",
       "<table border=\"1\" class=\"dataframe\">\n",
       "  <thead>\n",
       "    <tr style=\"text-align: right;\">\n",
       "      <th></th>\n",
       "      <th>tweets</th>\n",
       "    </tr>\n",
       "  </thead>\n",
       "  <tbody>\n",
       "    <tr>\n",
       "      <th>0</th>\n",
       "      <td>Rejected sports for the 2020 Olympics include ...</td>\n",
       "    </tr>\n",
       "    <tr>\n",
       "      <th>1</th>\n",
       "      <td>Why is the Team USA men basketball team playin...</td>\n",
       "    </tr>\n",
       "    <tr>\n",
       "      <th>2</th>\n",
       "      <td>@my_hive_away I'm watching kayaking on the Oly...</td>\n",
       "    </tr>\n",
       "    <tr>\n",
       "      <th>3</th>\n",
       "      <td>While girls her age are still trying to figuri...</td>\n",
       "    </tr>\n",
       "    <tr>\n",
       "      <th>4</th>\n",
       "      <td>@omensfromeden patty mills is at the Olympics???</td>\n",
       "    </tr>\n",
       "    <tr>\n",
       "      <th>...</th>\n",
       "      <td>...</td>\n",
       "    </tr>\n",
       "    <tr>\n",
       "      <th>312820</th>\n",
       "      <td>This artistic swimming is unreal. #Olympics</td>\n",
       "    </tr>\n",
       "    <tr>\n",
       "      <th>312821</th>\n",
       "      <td>@fZaq6zCW8aVobP5 @Noormehr_Javan @Olympics @wo...</td>\n",
       "    </tr>\n",
       "    <tr>\n",
       "      <th>312822</th>\n",
       "      <td>finally someone said it!\\n@__ashutosh___ \\ndif...</td>\n",
       "    </tr>\n",
       "    <tr>\n",
       "      <th>312823</th>\n",
       "      <td>@hnonoo75 @Olympics @BahrainOlympic Congratula...</td>\n",
       "    </tr>\n",
       "    <tr>\n",
       "      <th>312824</th>\n",
       "      <td>Champian you won billion hearts today @Neeraj_...</td>\n",
       "    </tr>\n",
       "  </tbody>\n",
       "</table>\n",
       "<p>312825 rows × 1 columns</p>\n",
       "</div>"
      ],
      "text/plain": [
       "                                                   tweets\n",
       "0       Rejected sports for the 2020 Olympics include ...\n",
       "1       Why is the Team USA men basketball team playin...\n",
       "2       @my_hive_away I'm watching kayaking on the Oly...\n",
       "3       While girls her age are still trying to figuri...\n",
       "4        @omensfromeden patty mills is at the Olympics???\n",
       "...                                                   ...\n",
       "312820        This artistic swimming is unreal. #Olympics\n",
       "312821  @fZaq6zCW8aVobP5 @Noormehr_Javan @Olympics @wo...\n",
       "312822  finally someone said it!\\n@__ashutosh___ \\ndif...\n",
       "312823  @hnonoo75 @Olympics @BahrainOlympic Congratula...\n",
       "312824  Champian you won billion hearts today @Neeraj_...\n",
       "\n",
       "[312825 rows x 1 columns]"
      ]
     },
     "execution_count": 397,
     "metadata": {},
     "output_type": "execute_result"
    }
   ],
   "source": [
    "dataset = pd.DataFrame(df['text'].values, columns=['tweets'])\n",
    "dataset"
   ]
  },
  {
   "cell_type": "markdown",
   "metadata": {
    "id": "02BBgBI01seX"
   },
   "source": [
    "Dataset baru hanya mengambil feature tweets untuk dilakukan proses sentiment analysis"
   ]
  },
  {
   "cell_type": "markdown",
   "metadata": {
    "id": "M4FqxBjbZBIC"
   },
   "source": [
    "#### Melakukan pengecekan missing values"
   ]
  },
  {
   "cell_type": "code",
   "execution_count": 398,
   "metadata": {
    "colab": {
     "base_uri": "https://localhost:8080/"
    },
    "id": "U1rCmGANN2Px",
    "outputId": "06994198-7873-420b-e0bb-24eca35dd309"
   },
   "outputs": [
    {
     "data": {
      "text/plain": [
       "tweets    4\n",
       "dtype: int64"
      ]
     },
     "execution_count": 398,
     "metadata": {},
     "output_type": "execute_result"
    }
   ],
   "source": [
    "dataset.isna().sum()"
   ]
  },
  {
   "cell_type": "markdown",
   "metadata": {
    "id": "IqVmlG4d1seZ"
   },
   "source": [
    "terdapat 4 missing values pada features tweets"
   ]
  },
  {
   "cell_type": "markdown",
   "metadata": {
    "id": "ADARPOuWZBID"
   },
   "source": [
    "#### Mengatasi missing values"
   ]
  },
  {
   "cell_type": "code",
   "execution_count": 399,
   "metadata": {
    "colab": {
     "base_uri": "https://localhost:8080/"
    },
    "id": "qJnR339sbxKk",
    "outputId": "c6b5c3d5-0806-430f-964c-9d3c6e206fca"
   },
   "outputs": [
    {
     "data": {
      "text/plain": [
       "tweets    0\n",
       "dtype: int64"
      ]
     },
     "execution_count": 399,
     "metadata": {},
     "output_type": "execute_result"
    }
   ],
   "source": [
    "dataset.dropna(inplace=True)\n",
    "dataset.isna().sum()"
   ]
  },
  {
   "cell_type": "markdown",
   "metadata": {
    "id": "S4mmRk6_1seb"
   },
   "source": [
    "melakukan penghapusan data untuk mengatasi missing values"
   ]
  },
  {
   "cell_type": "markdown",
   "metadata": {
    "id": "4xfYjcBydBhF"
   },
   "source": [
    "#### Melakukan pembersihan text"
   ]
  },
  {
   "cell_type": "code",
   "execution_count": 400,
   "metadata": {
    "id": "6HaxVwmdtG90"
   },
   "outputs": [],
   "source": [
    "def remove_url(text):\n",
    "  url = re.compile(r\"https?://\\S+|www\\.\\S+\")\n",
    "  return url.sub(r\"\", text)\n",
    "\n",
    "def remove_html(text):\n",
    "  html = re.compile(r\"<.*?>\")\n",
    "  return html.sub(r\"\", text)\n",
    "\n",
    "def remove_num(text):\n",
    "  text = re.sub(r\"@[A-Za-z0-9]+\", '', text)\n",
    "  return text\n",
    "\n",
    "def remove_emoji(string):\n",
    "  emoji_pattern = re.compile(\n",
    "      \"[\"\n",
    "      u\"\\U0001F600-\\U0001F64F\" #Emoticons\n",
    "      u\"\\U0001F300-\\U0001F5FF\" #symbols & picture\n",
    "      u\"\\U0001F680-\\U0001F6FF\" #transport & map symbols\n",
    "      u\"\\U0001F1E0-\\U0001F1FF\" # flags(iOS)\n",
    "      u\"\\U00002702-\\U00002780\"\n",
    "      u\"\\U000024C2-\\U0001F251\"\n",
    "      \"]+\",\n",
    "      flags=re.UNICODE,\n",
    "  )\n",
    "  return emoji_pattern.sub(r\"\", string)\n",
    "\n",
    "def remove_punct(text):\n",
    "  table = str.maketrans(\"\",\"\", string.punctuation)\n",
    "  return text.translate(table)"
   ]
  },
  {
   "cell_type": "code",
   "execution_count": 401,
   "metadata": {
    "id": "_H01jpQ5tHMC"
   },
   "outputs": [],
   "source": [
    "dataset['tweets'] = dataset['tweets'].map(lambda x: remove_url(x))\n",
    "dataset['tweets'] = dataset['tweets'].map(lambda x: remove_html(x))\n",
    "dataset['tweets'] = dataset['tweets'].map(lambda x: remove_emoji(x))\n",
    "dataset['tweets'] = dataset['tweets'].map(lambda x: remove_punct(x))\n",
    "dataset['tweets'] = dataset['tweets'].apply(remove_num)"
   ]
  },
  {
   "cell_type": "markdown",
   "metadata": {
    "id": "KA5Z1vrl1sec"
   },
   "source": [
    "melakukan pembersihan untuk menghilangkan url, html, number, emoji dan punctuation pada features tweets"
   ]
  },
  {
   "cell_type": "markdown",
   "metadata": {
    "id": "0cmjMoHTZBIH"
   },
   "source": [
    "#### Menghilangkan stopwords"
   ]
  },
  {
   "cell_type": "code",
   "execution_count": 402,
   "metadata": {
    "id": "0hKi_BtOZBIH"
   },
   "outputs": [],
   "source": [
    "stop = set(stopwords.words('english'))\n",
    "\n",
    "\n",
    "def remove_stopwords(text):\n",
    "    text = [word.lower() for word in text.split() if word.lower() not in stop]\n",
    "    \n",
    "    return \" \".join(text)"
   ]
  },
  {
   "cell_type": "code",
   "execution_count": 403,
   "metadata": {
    "id": "uJWHslbnZBII"
   },
   "outputs": [],
   "source": [
    "dataset['tweets'] = dataset['tweets'].map(remove_stopwords)"
   ]
  },
  {
   "cell_type": "markdown",
   "metadata": {
    "id": "U-RHx4wlb820"
   },
   "source": [
    "Stop word adalah kata yang umum digunakan (seperti “the”, “a”, “an”, “in”) yang telah diprogram untuk diabaikan oleh search engine,\n",
    "untuk itu Kita akan menghapus stopwords sesuai dengan yang tersimpan dalam corpus nltk untuk mempercepat waktu pemrosesan. "
   ]
  },
  {
   "cell_type": "markdown",
   "metadata": {
    "id": "toVfD-qlgN_W"
   },
   "source": [
    "#### Membuat function untuk Subjektivitas"
   ]
  },
  {
   "cell_type": "code",
   "execution_count": 404,
   "metadata": {
    "id": "dub2hq__e9uU"
   },
   "outputs": [],
   "source": [
    "def getSubjectivity(text):\n",
    "  return TextBlob(text).sentiment.subjectivity"
   ]
  },
  {
   "cell_type": "markdown",
   "metadata": {
    "id": "2ektkBDS1sef"
   },
   "source": [
    "subjectivity untuk melihat value dari tweet itu adalah opini atau faktual"
   ]
  },
  {
   "cell_type": "markdown",
   "metadata": {
    "id": "rDAiRXQtgk8s"
   },
   "source": [
    "#### Membuat function untuk Polarity"
   ]
  },
  {
   "cell_type": "code",
   "execution_count": 405,
   "metadata": {
    "id": "9ow0p4jUgs9s"
   },
   "outputs": [],
   "source": [
    "def getPolarity(text):\n",
    "  return TextBlob(text).sentiment.polarity"
   ]
  },
  {
   "cell_type": "markdown",
   "metadata": {
    "id": "C10KBXMX1sef"
   },
   "source": [
    "Polarity digunakan untuk melihat seberapa positif atau negatif sebuah teks"
   ]
  },
  {
   "cell_type": "markdown",
   "metadata": {
    "id": "n-e-zFU6g7H8"
   },
   "source": [
    "#### Membuat Feature baru yaitu Subjectivity dan Polarity"
   ]
  },
  {
   "cell_type": "code",
   "execution_count": 406,
   "metadata": {
    "id": "AUbFSrtGg30o"
   },
   "outputs": [],
   "source": [
    "dataset['Subjectivity'] = dataset['tweets'].apply(getSubjectivity)\n",
    "dataset['Polarity'] = dataset['tweets'].apply(getPolarity)"
   ]
  },
  {
   "cell_type": "markdown",
   "metadata": {
    "id": "B80rIloviFUq"
   },
   "source": [
    "#### Melihat dataset baru"
   ]
  },
  {
   "cell_type": "code",
   "execution_count": 407,
   "metadata": {
    "colab": {
     "base_uri": "https://localhost:8080/",
     "height": 419
    },
    "id": "OfE7P97ThXjf",
    "outputId": "9f4697eb-beab-4e34-8953-1b50c753a75f"
   },
   "outputs": [
    {
     "data": {
      "text/html": [
       "<div>\n",
       "<style scoped>\n",
       "    .dataframe tbody tr th:only-of-type {\n",
       "        vertical-align: middle;\n",
       "    }\n",
       "\n",
       "    .dataframe tbody tr th {\n",
       "        vertical-align: top;\n",
       "    }\n",
       "\n",
       "    .dataframe thead th {\n",
       "        text-align: right;\n",
       "    }\n",
       "</style>\n",
       "<table border=\"1\" class=\"dataframe\">\n",
       "  <thead>\n",
       "    <tr style=\"text-align: right;\">\n",
       "      <th></th>\n",
       "      <th>tweets</th>\n",
       "      <th>Subjectivity</th>\n",
       "      <th>Polarity</th>\n",
       "    </tr>\n",
       "  </thead>\n",
       "  <tbody>\n",
       "    <tr>\n",
       "      <th>0</th>\n",
       "      <td>rejected sports 2020 olympics include bowling ...</td>\n",
       "      <td>0.000000</td>\n",
       "      <td>0.000000</td>\n",
       "    </tr>\n",
       "    <tr>\n",
       "      <th>1</th>\n",
       "      <td>team usa men basketball team playing horrible ...</td>\n",
       "      <td>1.000000</td>\n",
       "      <td>-0.450000</td>\n",
       "    </tr>\n",
       "    <tr>\n",
       "      <th>2</th>\n",
       "      <td>myhiveaway im watching kayaking olympics broad...</td>\n",
       "      <td>0.575000</td>\n",
       "      <td>0.375000</td>\n",
       "    </tr>\n",
       "    <tr>\n",
       "      <th>3</th>\n",
       "      <td>girls age still trying figuring open account o...</td>\n",
       "      <td>0.350000</td>\n",
       "      <td>0.050000</td>\n",
       "    </tr>\n",
       "    <tr>\n",
       "      <th>4</th>\n",
       "      <td>omensfromeden patty mills olympics</td>\n",
       "      <td>0.000000</td>\n",
       "      <td>0.000000</td>\n",
       "    </tr>\n",
       "    <tr>\n",
       "      <th>...</th>\n",
       "      <td>...</td>\n",
       "      <td>...</td>\n",
       "      <td>...</td>\n",
       "    </tr>\n",
       "    <tr>\n",
       "      <th>312820</th>\n",
       "      <td>artistic swimming unreal olympics</td>\n",
       "      <td>1.000000</td>\n",
       "      <td>0.333333</td>\n",
       "    </tr>\n",
       "    <tr>\n",
       "      <th>312821</th>\n",
       "      <td>fzaq6zcw8avobp5 noormehrjavan olympics worldka...</td>\n",
       "      <td>0.000000</td>\n",
       "      <td>0.000000</td>\n",
       "    </tr>\n",
       "    <tr>\n",
       "      <th>312822</th>\n",
       "      <td>finally someone said ashutosh difference pseud...</td>\n",
       "      <td>0.533333</td>\n",
       "      <td>0.133333</td>\n",
       "    </tr>\n",
       "    <tr>\n",
       "      <th>312823</th>\n",
       "      <td>hnonoo75 olympics bahrainolympic congratulatio...</td>\n",
       "      <td>0.000000</td>\n",
       "      <td>0.000000</td>\n",
       "    </tr>\n",
       "    <tr>\n",
       "      <th>312824</th>\n",
       "      <td>champian billion hearts today neerajchopra1 at...</td>\n",
       "      <td>0.000000</td>\n",
       "      <td>0.000000</td>\n",
       "    </tr>\n",
       "  </tbody>\n",
       "</table>\n",
       "<p>312821 rows × 3 columns</p>\n",
       "</div>"
      ],
      "text/plain": [
       "                                                   tweets  ...  Polarity\n",
       "0       rejected sports 2020 olympics include bowling ...  ...  0.000000\n",
       "1       team usa men basketball team playing horrible ...  ... -0.450000\n",
       "2       myhiveaway im watching kayaking olympics broad...  ...  0.375000\n",
       "3       girls age still trying figuring open account o...  ...  0.050000\n",
       "4                      omensfromeden patty mills olympics  ...  0.000000\n",
       "...                                                   ...  ...       ...\n",
       "312820                  artistic swimming unreal olympics  ...  0.333333\n",
       "312821  fzaq6zcw8avobp5 noormehrjavan olympics worldka...  ...  0.000000\n",
       "312822  finally someone said ashutosh difference pseud...  ...  0.133333\n",
       "312823  hnonoo75 olympics bahrainolympic congratulatio...  ...  0.000000\n",
       "312824  champian billion hearts today neerajchopra1 at...  ...  0.000000\n",
       "\n",
       "[312821 rows x 3 columns]"
      ]
     },
     "execution_count": 407,
     "metadata": {},
     "output_type": "execute_result"
    }
   ],
   "source": [
    "dataset"
   ]
  },
  {
   "cell_type": "markdown",
   "metadata": {
    "id": "RJfBL5tl0Shj"
   },
   "source": [
    "#### Membuat function untuk melakukan pemisahan kategori negative, neutral, and positive analysis"
   ]
  },
  {
   "cell_type": "code",
   "execution_count": 408,
   "metadata": {
    "id": "Ldf88IGMz4-Q"
   },
   "outputs": [],
   "source": [
    "def getScore(score):\n",
    "  if score < 0:\n",
    "    return 'negative'\n",
    "  elif score == 0:\n",
    "    return \"neutral\"\n",
    "  else:\n",
    "    return \"positive\""
   ]
  },
  {
   "cell_type": "markdown",
   "metadata": {
    "id": "zHoq5qsz1sek"
   },
   "source": [
    "membuat function getScore untuk membuat klasifikasi tweets Negative, Neutral, dan Positive"
   ]
  },
  {
   "cell_type": "markdown",
   "metadata": {
    "id": "g-xzLGHH00MP"
   },
   "source": [
    "#### Membuat Features Label"
   ]
  },
  {
   "cell_type": "code",
   "execution_count": 409,
   "metadata": {
    "id": "LiwXRm5u0ydf"
   },
   "outputs": [],
   "source": [
    "dataset['Label'] = dataset['Polarity'].apply(getScore)"
   ]
  },
  {
   "cell_type": "code",
   "execution_count": 410,
   "metadata": {
    "colab": {
     "base_uri": "https://localhost:8080/",
     "height": 419
    },
    "id": "EvKG3sPY1IAj",
    "outputId": "2bd0b0c9-427f-4938-c30b-0bf943e52ed4"
   },
   "outputs": [
    {
     "data": {
      "text/html": [
       "<div>\n",
       "<style scoped>\n",
       "    .dataframe tbody tr th:only-of-type {\n",
       "        vertical-align: middle;\n",
       "    }\n",
       "\n",
       "    .dataframe tbody tr th {\n",
       "        vertical-align: top;\n",
       "    }\n",
       "\n",
       "    .dataframe thead th {\n",
       "        text-align: right;\n",
       "    }\n",
       "</style>\n",
       "<table border=\"1\" class=\"dataframe\">\n",
       "  <thead>\n",
       "    <tr style=\"text-align: right;\">\n",
       "      <th></th>\n",
       "      <th>tweets</th>\n",
       "      <th>Subjectivity</th>\n",
       "      <th>Polarity</th>\n",
       "      <th>Label</th>\n",
       "    </tr>\n",
       "  </thead>\n",
       "  <tbody>\n",
       "    <tr>\n",
       "      <th>0</th>\n",
       "      <td>rejected sports 2020 olympics include bowling ...</td>\n",
       "      <td>0.000000</td>\n",
       "      <td>0.000000</td>\n",
       "      <td>neutral</td>\n",
       "    </tr>\n",
       "    <tr>\n",
       "      <th>1</th>\n",
       "      <td>team usa men basketball team playing horrible ...</td>\n",
       "      <td>1.000000</td>\n",
       "      <td>-0.450000</td>\n",
       "      <td>negative</td>\n",
       "    </tr>\n",
       "    <tr>\n",
       "      <th>2</th>\n",
       "      <td>myhiveaway im watching kayaking olympics broad...</td>\n",
       "      <td>0.575000</td>\n",
       "      <td>0.375000</td>\n",
       "      <td>positive</td>\n",
       "    </tr>\n",
       "    <tr>\n",
       "      <th>3</th>\n",
       "      <td>girls age still trying figuring open account o...</td>\n",
       "      <td>0.350000</td>\n",
       "      <td>0.050000</td>\n",
       "      <td>positive</td>\n",
       "    </tr>\n",
       "    <tr>\n",
       "      <th>4</th>\n",
       "      <td>omensfromeden patty mills olympics</td>\n",
       "      <td>0.000000</td>\n",
       "      <td>0.000000</td>\n",
       "      <td>neutral</td>\n",
       "    </tr>\n",
       "    <tr>\n",
       "      <th>...</th>\n",
       "      <td>...</td>\n",
       "      <td>...</td>\n",
       "      <td>...</td>\n",
       "      <td>...</td>\n",
       "    </tr>\n",
       "    <tr>\n",
       "      <th>312820</th>\n",
       "      <td>artistic swimming unreal olympics</td>\n",
       "      <td>1.000000</td>\n",
       "      <td>0.333333</td>\n",
       "      <td>positive</td>\n",
       "    </tr>\n",
       "    <tr>\n",
       "      <th>312821</th>\n",
       "      <td>fzaq6zcw8avobp5 noormehrjavan olympics worldka...</td>\n",
       "      <td>0.000000</td>\n",
       "      <td>0.000000</td>\n",
       "      <td>neutral</td>\n",
       "    </tr>\n",
       "    <tr>\n",
       "      <th>312822</th>\n",
       "      <td>finally someone said ashutosh difference pseud...</td>\n",
       "      <td>0.533333</td>\n",
       "      <td>0.133333</td>\n",
       "      <td>positive</td>\n",
       "    </tr>\n",
       "    <tr>\n",
       "      <th>312823</th>\n",
       "      <td>hnonoo75 olympics bahrainolympic congratulatio...</td>\n",
       "      <td>0.000000</td>\n",
       "      <td>0.000000</td>\n",
       "      <td>neutral</td>\n",
       "    </tr>\n",
       "    <tr>\n",
       "      <th>312824</th>\n",
       "      <td>champian billion hearts today neerajchopra1 at...</td>\n",
       "      <td>0.000000</td>\n",
       "      <td>0.000000</td>\n",
       "      <td>neutral</td>\n",
       "    </tr>\n",
       "  </tbody>\n",
       "</table>\n",
       "<p>312821 rows × 4 columns</p>\n",
       "</div>"
      ],
      "text/plain": [
       "                                                   tweets  ...     Label\n",
       "0       rejected sports 2020 olympics include bowling ...  ...   neutral\n",
       "1       team usa men basketball team playing horrible ...  ...  negative\n",
       "2       myhiveaway im watching kayaking olympics broad...  ...  positive\n",
       "3       girls age still trying figuring open account o...  ...  positive\n",
       "4                      omensfromeden patty mills olympics  ...   neutral\n",
       "...                                                   ...  ...       ...\n",
       "312820                  artistic swimming unreal olympics  ...  positive\n",
       "312821  fzaq6zcw8avobp5 noormehrjavan olympics worldka...  ...   neutral\n",
       "312822  finally someone said ashutosh difference pseud...  ...  positive\n",
       "312823  hnonoo75 olympics bahrainolympic congratulatio...  ...   neutral\n",
       "312824  champian billion hearts today neerajchopra1 at...  ...   neutral\n",
       "\n",
       "[312821 rows x 4 columns]"
      ]
     },
     "execution_count": 410,
     "metadata": {},
     "output_type": "execute_result"
    }
   ],
   "source": [
    "dataset"
   ]
  },
  {
   "cell_type": "markdown",
   "metadata": {
    "id": "0PdKsuVP1sem"
   },
   "source": [
    "Membuat features Label yang valuesnya adalah klasifikasi tweets Negative, Neutral, dan Positive "
   ]
  },
  {
   "cell_type": "markdown",
   "metadata": {
    "id": "6NsD5-HqZBIO"
   },
   "source": [
    "# Exploratory Data Analysis"
   ]
  },
  {
   "cell_type": "markdown",
   "metadata": {
    "id": "QEVJ_DyUZBIO"
   },
   "source": [
    "#### Melakukan visualisasi word cloud"
   ]
  },
  {
   "cell_type": "code",
   "execution_count": 411,
   "metadata": {
    "colab": {
     "base_uri": "https://localhost:8080/",
     "height": 169
    },
    "id": "xZPuoMh1ZBIO",
    "outputId": "3076cbc1-ab6a-4076-f014-0cac0a43d5ab"
   },
   "outputs": [
    {
     "data": {
      "text/plain": [
       "<matplotlib.image.AxesImage at 0x7f29e5d37590>"
      ]
     },
     "execution_count": 411,
     "metadata": {},
     "output_type": "execute_result"
    },
    {
     "data": {
      "image/png": "[encoded data removed]",
      "text/plain": [
       "<Figure size 432x288 with 1 Axes>"
      ]
     },
     "metadata": {
      "needs_background": "light"
     },
     "output_type": "display_data"
    }
   ],
   "source": [
    "allWords = ' '.join([twts for twts in dataset['tweets']])\n",
    "WordCloud = WordCloud(width=1000, height=300, random_state=20, max_font_size= 119).generate(allWords)\n",
    "\n",
    "plt.imshow(WordCloud, interpolation='bilinear')"
   ]
  },
  {
   "cell_type": "markdown",
   "metadata": {
    "id": "InmXr8fh1sen"
   },
   "source": [
    "Dari visualisasi terlihat bahwa kata 'Tokyo' dan 'Olympic' adalah kata yang sering muncul"
   ]
  },
  {
   "cell_type": "markdown",
   "metadata": {
    "id": "FtDv2y77GE-D"
   },
   "source": [
    "#### Persentase Positive tweets"
   ]
  },
  {
   "cell_type": "code",
   "execution_count": 412,
   "metadata": {
    "colab": {
     "base_uri": "https://localhost:8080/",
     "height": 299
    },
    "id": "eNXDAgjr790-",
    "outputId": "793437f0-cf24-499f-8398-ea25d48a6b50"
   },
   "outputs": [
    {
     "data": {
      "image/png": "[encoded data removed]",
      "text/plain": [
       "<Figure size 432x288 with 1 Axes>"
      ]
     },
     "metadata": {
      "needs_background": "light"
     },
     "output_type": "display_data"
    }
   ],
   "source": [
    "dataset.Label.value_counts().plot(kind='bar');"
   ]
  },
  {
   "cell_type": "code",
   "execution_count": 413,
   "metadata": {
    "colab": {
     "base_uri": "https://localhost:8080/"
    },
    "id": "OxYz2SeiGEc0",
    "outputId": "d7ac8e05-1947-491d-f15e-03fc03300259"
   },
   "outputs": [
    {
     "name": "stdout",
     "output_type": "stream",
     "text": [
      "Persentase Positive tweets =  40.56\n",
      "Persentase Neutral tweets =  46.04\n",
      "Persentase Negative tweets =  13.4\n"
     ]
    }
   ],
   "source": [
    "positive_tweet = dataset[dataset.Label == 'positive']['tweets']\n",
    "neutral_tweet = dataset[dataset.Label == 'neutral']['tweets']\n",
    "negative_tweet = dataset[dataset.Label == 'negative']['tweets']\n",
    "print('Persentase Positive tweets = ',round((positive_tweet.shape[0] / dataset.shape[0])*100 ,2))\n",
    "print('Persentase Neutral tweets = ',round((neutral_tweet.shape[0] / dataset.shape[0])*100 ,2))\n",
    "print('Persentase Negative tweets = ',round((negative_tweet.shape[0] / dataset.shape[0])*100 ,2))"
   ]
  },
  {
   "cell_type": "markdown",
   "metadata": {
    "id": "RNxlR8fwG4Js"
   },
   "source": [
    "#### Melihat Label tweets positive, neutral, dan negative"
   ]
  },
  {
   "cell_type": "code",
   "execution_count": 414,
   "metadata": {
    "colab": {
     "base_uri": "https://localhost:8080/"
    },
    "id": "xHqAFoxXGz6H",
    "outputId": "fc52d2ed-ad28-435b-8c28-f2bd063d8f6b"
   },
   "outputs": [
    {
     "name": "stdout",
     "output_type": "stream",
     "text": [
      "Target: neutral (neutral)\n",
      "Text:\n",
      "shellyann fraserpryce gets silver shericka jackson takes bronze jamaican medals sweep\n",
      "\n",
      "---\n",
      "\n",
      "Target: neutral (neutral)\n",
      "Text:\n",
      "hhyuhee enhypenmembers enhypen 2020 olympics enhypenontokyoolympics enhypen enhypenmembers\n",
      "\n",
      "---\n",
      "\n",
      "Target: positive (positive)\n",
      "Text:\n",
      "what’s effort teamgb swimming medley relay absolutely smashed think time could’ve got…\n",
      "\n",
      "---\n",
      "\n",
      "Target: neutral (neutral)\n",
      "Text:\n",
      "ajeya38260060 aroragirish spectatorindex talking olympics india 1 individual gold olympics\n",
      "\n",
      "---\n",
      "\n",
      "Target: neutral (neutral)\n",
      "Text:\n",
      "yeossismile ateezofficialjp ateezofficial ateez world domination congratulations ateez olympicslovesateez…\n",
      "\n",
      "---\n",
      "\n"
     ]
    }
   ],
   "source": [
    "random_index = random.randint(0, len(dataset)-5)\n",
    "\n",
    "for row in dataset[[\"tweets\", \"Label\"]][random_index:random_index+5].itertuples():\n",
    "  _, text, target = row\n",
    "  if target == \"positive\":\n",
    "    print(f\"Target: {target} (positive)\")\n",
    "  elif target == \"neutral\":\n",
    "    print(f\"Target: {target} (neutral)\")\n",
    "  else:\n",
    "    print(f\"Target: {target} (negative)\")\n",
    "  print(f\"Text:\\n{text}\\n\")\n",
    "  print(\"---\\n\")"
   ]
  },
  {
   "cell_type": "markdown",
   "metadata": {
    "id": "lb22ZKM14n82"
   },
   "source": [
    "# Feature Engineering"
   ]
  },
  {
   "cell_type": "markdown",
   "metadata": {
    "id": "XpaLRVZD7lV_"
   },
   "source": [
    "#### Mengubah Categorical menjadi numerical pada features Label"
   ]
  },
  {
   "cell_type": "code",
   "execution_count": 415,
   "metadata": {
    "colab": {
     "base_uri": "https://localhost:8080/"
    },
    "id": "aqLWSZc_7mfd",
    "outputId": "9536e8b4-2c2c-464e-d8c1-8aa4c319d115"
   },
   "outputs": [
    {
     "data": {
      "text/plain": [
       "{'negative': 1, 'neutral': 0, 'positive': 2}"
      ]
     },
     "execution_count": 415,
     "metadata": {},
     "output_type": "execute_result"
    }
   ],
   "source": [
    "label_mapping = { k: i for i, k in enumerate(dataset['Label'].unique(), 0)}\n",
    "label_mapping"
   ]
  },
  {
   "cell_type": "code",
   "execution_count": 416,
   "metadata": {
    "id": "kwjMmWsG7msy"
   },
   "outputs": [],
   "source": [
    "dataset['Label'] = dataset['Label'].map(label_mapping)"
   ]
  },
  {
   "cell_type": "code",
   "execution_count": 417,
   "metadata": {
    "colab": {
     "base_uri": "https://localhost:8080/",
     "height": 419
    },
    "id": "A4sPtJqV7m0a",
    "outputId": "f46842c5-ca01-4016-b9d6-ff7fb46656d3"
   },
   "outputs": [
    {
     "data": {
      "text/html": [
       "<div>\n",
       "<style scoped>\n",
       "    .dataframe tbody tr th:only-of-type {\n",
       "        vertical-align: middle;\n",
       "    }\n",
       "\n",
       "    .dataframe tbody tr th {\n",
       "        vertical-align: top;\n",
       "    }\n",
       "\n",
       "    .dataframe thead th {\n",
       "        text-align: right;\n",
       "    }\n",
       "</style>\n",
       "<table border=\"1\" class=\"dataframe\">\n",
       "  <thead>\n",
       "    <tr style=\"text-align: right;\">\n",
       "      <th></th>\n",
       "      <th>tweets</th>\n",
       "      <th>Subjectivity</th>\n",
       "      <th>Polarity</th>\n",
       "      <th>Label</th>\n",
       "    </tr>\n",
       "  </thead>\n",
       "  <tbody>\n",
       "    <tr>\n",
       "      <th>0</th>\n",
       "      <td>rejected sports 2020 olympics include bowling ...</td>\n",
       "      <td>0.000000</td>\n",
       "      <td>0.000000</td>\n",
       "      <td>0</td>\n",
       "    </tr>\n",
       "    <tr>\n",
       "      <th>1</th>\n",
       "      <td>team usa men basketball team playing horrible ...</td>\n",
       "      <td>1.000000</td>\n",
       "      <td>-0.450000</td>\n",
       "      <td>1</td>\n",
       "    </tr>\n",
       "    <tr>\n",
       "      <th>2</th>\n",
       "      <td>myhiveaway im watching kayaking olympics broad...</td>\n",
       "      <td>0.575000</td>\n",
       "      <td>0.375000</td>\n",
       "      <td>2</td>\n",
       "    </tr>\n",
       "    <tr>\n",
       "      <th>3</th>\n",
       "      <td>girls age still trying figuring open account o...</td>\n",
       "      <td>0.350000</td>\n",
       "      <td>0.050000</td>\n",
       "      <td>2</td>\n",
       "    </tr>\n",
       "    <tr>\n",
       "      <th>4</th>\n",
       "      <td>omensfromeden patty mills olympics</td>\n",
       "      <td>0.000000</td>\n",
       "      <td>0.000000</td>\n",
       "      <td>0</td>\n",
       "    </tr>\n",
       "    <tr>\n",
       "      <th>...</th>\n",
       "      <td>...</td>\n",
       "      <td>...</td>\n",
       "      <td>...</td>\n",
       "      <td>...</td>\n",
       "    </tr>\n",
       "    <tr>\n",
       "      <th>312820</th>\n",
       "      <td>artistic swimming unreal olympics</td>\n",
       "      <td>1.000000</td>\n",
       "      <td>0.333333</td>\n",
       "      <td>2</td>\n",
       "    </tr>\n",
       "    <tr>\n",
       "      <th>312821</th>\n",
       "      <td>fzaq6zcw8avobp5 noormehrjavan olympics worldka...</td>\n",
       "      <td>0.000000</td>\n",
       "      <td>0.000000</td>\n",
       "      <td>0</td>\n",
       "    </tr>\n",
       "    <tr>\n",
       "      <th>312822</th>\n",
       "      <td>finally someone said ashutosh difference pseud...</td>\n",
       "      <td>0.533333</td>\n",
       "      <td>0.133333</td>\n",
       "      <td>2</td>\n",
       "    </tr>\n",
       "    <tr>\n",
       "      <th>312823</th>\n",
       "      <td>hnonoo75 olympics bahrainolympic congratulatio...</td>\n",
       "      <td>0.000000</td>\n",
       "      <td>0.000000</td>\n",
       "      <td>0</td>\n",
       "    </tr>\n",
       "    <tr>\n",
       "      <th>312824</th>\n",
       "      <td>champian billion hearts today neerajchopra1 at...</td>\n",
       "      <td>0.000000</td>\n",
       "      <td>0.000000</td>\n",
       "      <td>0</td>\n",
       "    </tr>\n",
       "  </tbody>\n",
       "</table>\n",
       "<p>312821 rows × 4 columns</p>\n",
       "</div>"
      ],
      "text/plain": [
       "                                                   tweets  ...  Label\n",
       "0       rejected sports 2020 olympics include bowling ...  ...      0\n",
       "1       team usa men basketball team playing horrible ...  ...      1\n",
       "2       myhiveaway im watching kayaking olympics broad...  ...      2\n",
       "3       girls age still trying figuring open account o...  ...      2\n",
       "4                      omensfromeden patty mills olympics  ...      0\n",
       "...                                                   ...  ...    ...\n",
       "312820                  artistic swimming unreal olympics  ...      2\n",
       "312821  fzaq6zcw8avobp5 noormehrjavan olympics worldka...  ...      0\n",
       "312822  finally someone said ashutosh difference pseud...  ...      2\n",
       "312823  hnonoo75 olympics bahrainolympic congratulatio...  ...      0\n",
       "312824  champian billion hearts today neerajchopra1 at...  ...      0\n",
       "\n",
       "[312821 rows x 4 columns]"
      ]
     },
     "execution_count": 417,
     "metadata": {},
     "output_type": "execute_result"
    }
   ],
   "source": [
    "dataset"
   ]
  },
  {
   "cell_type": "code",
   "execution_count": 418,
   "metadata": {
    "id": "u9aHyxPlEgbm"
   },
   "outputs": [],
   "source": [
    "train_dataset, test_dataset = train_test_split(dataset, test_size=0.10)"
   ]
  },
  {
   "cell_type": "markdown",
   "metadata": {
    "id": "Ly-ewFQK1seq"
   },
   "source": [
    "untuk menghindari adanya kemungkinan kebocoran data sehingga kita perlu membagi data terlebih dahulu dan kemudian menerapkan fitur engineering"
   ]
  },
  {
   "cell_type": "code",
   "execution_count": 419,
   "metadata": {
    "colab": {
     "base_uri": "https://localhost:8080/"
    },
    "id": "2KJ8wArxTd-8",
    "outputId": "d447cbab-c8da-40e5-c042-d085800bcdaf"
   },
   "outputs": [
    {
     "name": "stdout",
     "output_type": "stream",
     "text": [
      "Total training samples: 281538\n",
      "Total test samples: 31283\n",
      "Total samples: 312821\n"
     ]
    }
   ],
   "source": [
    "print(f\"Total training samples: {len(train_dataset)}\")\n",
    "print(f\"Total test samples: {len(test_dataset)}\")\n",
    "print(f\"Total samples: {len(train_dataset) + len(test_dataset)}\")"
   ]
  },
  {
   "cell_type": "code",
   "execution_count": 420,
   "metadata": {
    "colab": {
     "base_uri": "https://localhost:8080/",
     "height": 419
    },
    "id": "xcvPSNi7U-kF",
    "outputId": "44046566-1f84-4684-9633-0fc4ec987016"
   },
   "outputs": [
    {
     "data": {
      "text/html": [
       "<div>\n",
       "<style scoped>\n",
       "    .dataframe tbody tr th:only-of-type {\n",
       "        vertical-align: middle;\n",
       "    }\n",
       "\n",
       "    .dataframe tbody tr th {\n",
       "        vertical-align: top;\n",
       "    }\n",
       "\n",
       "    .dataframe thead th {\n",
       "        text-align: right;\n",
       "    }\n",
       "</style>\n",
       "<table border=\"1\" class=\"dataframe\">\n",
       "  <thead>\n",
       "    <tr style=\"text-align: right;\">\n",
       "      <th></th>\n",
       "      <th>tweets</th>\n",
       "      <th>Subjectivity</th>\n",
       "      <th>Polarity</th>\n",
       "      <th>Label</th>\n",
       "    </tr>\n",
       "  </thead>\n",
       "  <tbody>\n",
       "    <tr>\n",
       "      <th>124599</th>\n",
       "      <td>wtaaddict tennispodcast tennis start times pus...</td>\n",
       "      <td>0.293750</td>\n",
       "      <td>0.118750</td>\n",
       "      <td>2</td>\n",
       "    </tr>\n",
       "    <tr>\n",
       "      <th>91432</th>\n",
       "      <td>trackcutie ass watchin shooting equestrianive ...</td>\n",
       "      <td>0.050000</td>\n",
       "      <td>0.000000</td>\n",
       "      <td>0</td>\n",
       "    </tr>\n",
       "    <tr>\n",
       "      <th>115092</th>\n",
       "      <td>sounds way interesting anything happening toky...</td>\n",
       "      <td>0.500000</td>\n",
       "      <td>0.500000</td>\n",
       "      <td>2</td>\n",
       "    </tr>\n",
       "    <tr>\n",
       "      <th>65903</th>\n",
       "      <td>philippines wins gold ends 97year drought brav...</td>\n",
       "      <td>0.466667</td>\n",
       "      <td>0.366667</td>\n",
       "      <td>2</td>\n",
       "    </tr>\n",
       "    <tr>\n",
       "      <th>218976</th>\n",
       "      <td>boxcarfred harleypeters olympics i’m one think...</td>\n",
       "      <td>0.300000</td>\n",
       "      <td>1.000000</td>\n",
       "      <td>2</td>\n",
       "    </tr>\n",
       "    <tr>\n",
       "      <th>...</th>\n",
       "      <td>...</td>\n",
       "      <td>...</td>\n",
       "      <td>...</td>\n",
       "      <td>...</td>\n",
       "    </tr>\n",
       "    <tr>\n",
       "      <th>260074</th>\n",
       "      <td>woochwe ateezofficial ateezofficialjp congratu...</td>\n",
       "      <td>0.000000</td>\n",
       "      <td>0.000000</td>\n",
       "      <td>0</td>\n",
       "    </tr>\n",
       "    <tr>\n",
       "      <th>237998</th>\n",
       "      <td>danthomasespn tournament think craig would rat...</td>\n",
       "      <td>0.000000</td>\n",
       "      <td>0.000000</td>\n",
       "      <td>0</td>\n",
       "    </tr>\n",
       "    <tr>\n",
       "      <th>139121</th>\n",
       "      <td>like it’s olympics everything hmmm</td>\n",
       "      <td>0.000000</td>\n",
       "      <td>0.000000</td>\n",
       "      <td>0</td>\n",
       "    </tr>\n",
       "    <tr>\n",
       "      <th>60117</th>\n",
       "      <td>defund cbc olympics</td>\n",
       "      <td>0.000000</td>\n",
       "      <td>0.000000</td>\n",
       "      <td>0</td>\n",
       "    </tr>\n",
       "    <tr>\n",
       "      <th>284411</th>\n",
       "      <td>ashishkibaat federer nadal even bother show ol...</td>\n",
       "      <td>0.166667</td>\n",
       "      <td>-0.166667</td>\n",
       "      <td>1</td>\n",
       "    </tr>\n",
       "  </tbody>\n",
       "</table>\n",
       "<p>281538 rows × 4 columns</p>\n",
       "</div>"
      ],
      "text/plain": [
       "                                                   tweets  ...  Label\n",
       "124599  wtaaddict tennispodcast tennis start times pus...  ...      2\n",
       "91432   trackcutie ass watchin shooting equestrianive ...  ...      0\n",
       "115092  sounds way interesting anything happening toky...  ...      2\n",
       "65903   philippines wins gold ends 97year drought brav...  ...      2\n",
       "218976  boxcarfred harleypeters olympics i’m one think...  ...      2\n",
       "...                                                   ...  ...    ...\n",
       "260074  woochwe ateezofficial ateezofficialjp congratu...  ...      0\n",
       "237998  danthomasespn tournament think craig would rat...  ...      0\n",
       "139121                 like it’s olympics everything hmmm  ...      0\n",
       "60117                                 defund cbc olympics  ...      0\n",
       "284411  ashishkibaat federer nadal even bother show ol...  ...      1\n",
       "\n",
       "[281538 rows x 4 columns]"
      ]
     },
     "execution_count": 420,
     "metadata": {},
     "output_type": "execute_result"
    }
   ],
   "source": [
    "train_dataset"
   ]
  },
  {
   "cell_type": "code",
   "execution_count": 421,
   "metadata": {
    "colab": {
     "base_uri": "https://localhost:8080/",
     "height": 419
    },
    "id": "yL1vkqOyxpgd",
    "outputId": "31c10751-a593-454f-8f9d-8218d8fd2431"
   },
   "outputs": [
    {
     "data": {
      "text/html": [
       "<div>\n",
       "<style scoped>\n",
       "    .dataframe tbody tr th:only-of-type {\n",
       "        vertical-align: middle;\n",
       "    }\n",
       "\n",
       "    .dataframe tbody tr th {\n",
       "        vertical-align: top;\n",
       "    }\n",
       "\n",
       "    .dataframe thead th {\n",
       "        text-align: right;\n",
       "    }\n",
       "</style>\n",
       "<table border=\"1\" class=\"dataframe\">\n",
       "  <thead>\n",
       "    <tr style=\"text-align: right;\">\n",
       "      <th></th>\n",
       "      <th>tweets</th>\n",
       "      <th>Subjectivity</th>\n",
       "      <th>Polarity</th>\n",
       "      <th>Label</th>\n",
       "    </tr>\n",
       "  </thead>\n",
       "  <tbody>\n",
       "    <tr>\n",
       "      <th>217728</th>\n",
       "      <td>iocmedia guys ruining olympics censorship hold...</td>\n",
       "      <td>0.000000</td>\n",
       "      <td>0.000000</td>\n",
       "      <td>0</td>\n",
       "    </tr>\n",
       "    <tr>\n",
       "      <th>155170</th>\n",
       "      <td>ogdamola couchtomato62 winner take get olympic...</td>\n",
       "      <td>0.000000</td>\n",
       "      <td>0.000000</td>\n",
       "      <td>0</td>\n",
       "    </tr>\n",
       "    <tr>\n",
       "      <th>197926</th>\n",
       "      <td>day team ireland 2 big moves leaderboard round...</td>\n",
       "      <td>0.250000</td>\n",
       "      <td>-0.100000</td>\n",
       "      <td>1</td>\n",
       "    </tr>\n",
       "    <tr>\n",
       "      <th>251538</th>\n",
       "      <td>fever giventaken played tokyo olympics 2020 so...</td>\n",
       "      <td>0.600000</td>\n",
       "      <td>0.000000</td>\n",
       "      <td>0</td>\n",
       "    </tr>\n",
       "    <tr>\n",
       "      <th>55694</th>\n",
       "      <td>gagaimages shes practicing olympics shell back...</td>\n",
       "      <td>0.200000</td>\n",
       "      <td>0.400000</td>\n",
       "      <td>2</td>\n",
       "    </tr>\n",
       "    <tr>\n",
       "      <th>...</th>\n",
       "      <td>...</td>\n",
       "      <td>...</td>\n",
       "      <td>...</td>\n",
       "      <td>...</td>\n",
       "    </tr>\n",
       "    <tr>\n",
       "      <th>120948</th>\n",
       "      <td>still spaces tonight’s olympics golf draftking...</td>\n",
       "      <td>0.000000</td>\n",
       "      <td>0.000000</td>\n",
       "      <td>0</td>\n",
       "    </tr>\n",
       "    <tr>\n",
       "      <th>239400</th>\n",
       "      <td>teamgb equalled best swimming medal haul olymp...</td>\n",
       "      <td>0.433333</td>\n",
       "      <td>0.500000</td>\n",
       "      <td>2</td>\n",
       "    </tr>\n",
       "    <tr>\n",
       "      <th>171045</th>\n",
       "      <td>sad nikita nagornyy ashamed bronze olympics de...</td>\n",
       "      <td>1.000000</td>\n",
       "      <td>-0.500000</td>\n",
       "      <td>1</td>\n",
       "    </tr>\n",
       "    <tr>\n",
       "      <th>177943</th>\n",
       "      <td>come aaron chia dan wooi yik good performance ...</td>\n",
       "      <td>0.800000</td>\n",
       "      <td>0.400000</td>\n",
       "      <td>2</td>\n",
       "    </tr>\n",
       "    <tr>\n",
       "      <th>211531</th>\n",
       "      <td>olympics great britain vs australia instat top...</td>\n",
       "      <td>0.416667</td>\n",
       "      <td>0.433333</td>\n",
       "      <td>2</td>\n",
       "    </tr>\n",
       "  </tbody>\n",
       "</table>\n",
       "<p>31283 rows × 4 columns</p>\n",
       "</div>"
      ],
      "text/plain": [
       "                                                   tweets  ...  Label\n",
       "217728  iocmedia guys ruining olympics censorship hold...  ...      0\n",
       "155170  ogdamola couchtomato62 winner take get olympic...  ...      0\n",
       "197926  day team ireland 2 big moves leaderboard round...  ...      1\n",
       "251538  fever giventaken played tokyo olympics 2020 so...  ...      0\n",
       "55694   gagaimages shes practicing olympics shell back...  ...      2\n",
       "...                                                   ...  ...    ...\n",
       "120948  still spaces tonight’s olympics golf draftking...  ...      0\n",
       "239400  teamgb equalled best swimming medal haul olymp...  ...      2\n",
       "171045  sad nikita nagornyy ashamed bronze olympics de...  ...      1\n",
       "177943  come aaron chia dan wooi yik good performance ...  ...      2\n",
       "211531  olympics great britain vs australia instat top...  ...      2\n",
       "\n",
       "[31283 rows x 4 columns]"
      ]
     },
     "execution_count": 421,
     "metadata": {},
     "output_type": "execute_result"
    }
   ],
   "source": [
    "test_dataset"
   ]
  },
  {
   "cell_type": "markdown",
   "metadata": {
    "id": "HtEqSy5o4n84"
   },
   "source": [
    "### Data Preprocessing"
   ]
  },
  {
   "cell_type": "markdown",
   "metadata": {
    "id": "WfNTcjmzUrgj"
   },
   "source": [
    "#### Menyiapkan target"
   ]
  },
  {
   "cell_type": "code",
   "execution_count": 422,
   "metadata": {
    "id": "rjLeQEtPUtte"
   },
   "outputs": [],
   "source": [
    "X_train, y_train = train_dataset.tweets, train_dataset.Label\n",
    "X_test, y_test = test_dataset.tweets, test_dataset.Label"
   ]
  },
  {
   "cell_type": "code",
   "execution_count": 423,
   "metadata": {
    "id": "nbdh3r14uvhq"
   },
   "outputs": [],
   "source": [
    "def prepare_targets(y_train, y_test):\n",
    "    y_train_enc = to_categorical(y_train)\n",
    "    y_test_enc = to_categorical(y_test)\n",
    "    return y_train_enc, y_test_enc\n",
    "\n",
    "y_train, y_test = prepare_targets(y_train, y_test)"
   ]
  },
  {
   "cell_type": "code",
   "execution_count": 424,
   "metadata": {
    "colab": {
     "base_uri": "https://localhost:8080/"
    },
    "id": "J3eJMiyZyTE4",
    "outputId": "56132fbe-9f29-4630-fba6-7b9fe53384f0"
   },
   "outputs": [
    {
     "data": {
      "text/plain": [
       "array([[0., 0., 1.],\n",
       "       [1., 0., 0.],\n",
       "       [0., 0., 1.],\n",
       "       ...,\n",
       "       [1., 0., 0.],\n",
       "       [1., 0., 0.],\n",
       "       [0., 1., 0.]], dtype=float32)"
      ]
     },
     "execution_count": 424,
     "metadata": {},
     "output_type": "execute_result"
    }
   ],
   "source": [
    "y_train"
   ]
  },
  {
   "cell_type": "markdown",
   "metadata": {
    "id": "M-emo-gbVPmu"
   },
   "source": [
    "#### Melakukan Split data"
   ]
  },
  {
   "cell_type": "code",
   "execution_count": 425,
   "metadata": {
    "id": "o_e5uZmmVTyB"
   },
   "outputs": [],
   "source": [
    "train_sentences, val_sentences, train_labels, val_labels = train_test_split(X_train.to_numpy(),\n",
    "                                                                            y_train,\n",
    "                                                                            test_size=0.2,\n",
    "                                                                            random_state=42)"
   ]
  },
  {
   "cell_type": "markdown",
   "metadata": {
    "id": "8pD9nFvz1sew"
   },
   "source": [
    "#### Pipeline"
   ]
  },
  {
   "cell_type": "markdown",
   "metadata": {
    "id": "qpGOuBKl1sex"
   },
   "source": [
    "#### Membangun Pipeline"
   ]
  },
  {
   "cell_type": "code",
   "execution_count": 426,
   "metadata": {
    "id": "i3nbnUfX1sex"
   },
   "outputs": [],
   "source": [
    "# Where to save the figures\n",
    "PROJECT_ROOT_DIR = \".\"\n",
    "CHAPTER_ID = \"data\"\n",
    "IMAGES_PATH = os.path.join(PROJECT_ROOT_DIR, \"images\", CHAPTER_ID)\n",
    "os.makedirs(IMAGES_PATH, exist_ok=True)\n",
    "\n",
    "def save_fig(fig_id, tight_layout=True, fig_extension=\"png\", resolution=300):\n",
    "    path = os.path.join(IMAGES_PATH, fig_id + \".\" + fig_extension)\n",
    "    print(\"Saving figure\", fig_id)\n",
    "    if tight_layout:\n",
    "        plt.tight_layout()\n",
    "    plt.savefig(path, format=fig_extension, dpi=resolution)"
   ]
  },
  {
   "cell_type": "code",
   "execution_count": 427,
   "metadata": {
    "id": "nmgG_a6o1sex"
   },
   "outputs": [],
   "source": [
    "def save_to_multiple_csv_files(data, name_prefix, header=None, n_parts=10):\n",
    "    churn_dir = os.path.join(\"datasets\", \"tweets\")\n",
    "    os.makedirs(churn_dir, exist_ok=True)\n",
    "    path_format = os.path.join(churn_dir, \"my_{}_{:02d}.csv\")\n",
    "\n",
    "    filepaths = []\n",
    "    m = len(data)\n",
    "    for file_idx, row_indices in enumerate(np.array_split(np.arange(m), n_parts)):\n",
    "        part_csv = path_format.format(name_prefix, file_idx)\n",
    "        filepaths.append(part_csv)\n",
    "        with open(part_csv, \"wt\", encoding=\"utf-8\") as f:\n",
    "            if header is not None:\n",
    "                f.write(header)\n",
    "                f.write(\"\\n\")\n",
    "            for row_idx in row_indices:\n",
    "                f.write(\",\".join([repr(col) for col in data[row_idx]]))\n",
    "                f.write(\"\\n\")\n",
    "    return filepaths"
   ]
  },
  {
   "cell_type": "code",
   "execution_count": 428,
   "metadata": {
    "id": "VLdhkWev1sey"
   },
   "outputs": [],
   "source": [
    "train_data = np.c_[train_sentences, train_labels]\n",
    "valid_data = np.c_[val_sentences, val_labels]\n",
    "header_cols = dataset.columns \n",
    "header = \",\".join(header_cols)"
   ]
  },
  {
   "cell_type": "code",
   "execution_count": 429,
   "metadata": {
    "id": "0iO9sft21sez"
   },
   "outputs": [],
   "source": [
    "train_filepaths = save_to_multiple_csv_files(train_data, \"train\", header, n_parts=20)\n",
    "valid_filepaths = save_to_multiple_csv_files(valid_data, \"valid\", header, n_parts=10)"
   ]
  },
  {
   "cell_type": "markdown",
   "metadata": {
    "id": "7VvJ3q-51sez"
   },
   "source": [
    "### Train dataset"
   ]
  },
  {
   "cell_type": "code",
   "execution_count": 430,
   "metadata": {
    "colab": {
     "base_uri": "https://localhost:8080/",
     "height": 0
    },
    "id": "SS-BLDsv1sez",
    "outputId": "51b70de3-93d4-46a4-c085-66638e2578fe"
   },
   "outputs": [
    {
     "data": {
      "text/html": [
       "<div>\n",
       "<style scoped>\n",
       "    .dataframe tbody tr th:only-of-type {\n",
       "        vertical-align: middle;\n",
       "    }\n",
       "\n",
       "    .dataframe tbody tr th {\n",
       "        vertical-align: top;\n",
       "    }\n",
       "\n",
       "    .dataframe thead th {\n",
       "        text-align: right;\n",
       "    }\n",
       "</style>\n",
       "<table border=\"1\" class=\"dataframe\">\n",
       "  <thead>\n",
       "    <tr style=\"text-align: right;\">\n",
       "      <th></th>\n",
       "      <th>tweets</th>\n",
       "      <th>Subjectivity</th>\n",
       "      <th>Polarity</th>\n",
       "      <th>Label</th>\n",
       "    </tr>\n",
       "  </thead>\n",
       "  <tbody>\n",
       "    <tr>\n",
       "      <th>0</th>\n",
       "      <td>'shawnmarion85 cnbc nbcsn app olympics website'</td>\n",
       "      <td>1.0</td>\n",
       "      <td>0.0</td>\n",
       "      <td>0.0</td>\n",
       "    </tr>\n",
       "    <tr>\n",
       "      <th>1</th>\n",
       "      <td>'worked hard since friday get living tokyo tim...</td>\n",
       "      <td>0.0</td>\n",
       "      <td>1.0</td>\n",
       "      <td>0.0</td>\n",
       "    </tr>\n",
       "    <tr>\n",
       "      <th>2</th>\n",
       "      <td>'still disappointed stand seen jaws 3d hasnt r...</td>\n",
       "      <td>0.0</td>\n",
       "      <td>1.0</td>\n",
       "      <td>0.0</td>\n",
       "    </tr>\n",
       "    <tr>\n",
       "      <th>3</th>\n",
       "      <td>'anyways gonna reward last silver last day oly...</td>\n",
       "      <td>1.0</td>\n",
       "      <td>0.0</td>\n",
       "      <td>0.0</td>\n",
       "    </tr>\n",
       "    <tr>\n",
       "      <th>4</th>\n",
       "      <td>'mikesington watched olympics'</td>\n",
       "      <td>1.0</td>\n",
       "      <td>0.0</td>\n",
       "      <td>0.0</td>\n",
       "    </tr>\n",
       "  </tbody>\n",
       "</table>\n",
       "</div>"
      ],
      "text/plain": [
       "                                              tweets  ...  Label\n",
       "0    'shawnmarion85 cnbc nbcsn app olympics website'  ...    0.0\n",
       "1  'worked hard since friday get living tokyo tim...  ...    0.0\n",
       "2  'still disappointed stand seen jaws 3d hasnt r...  ...    0.0\n",
       "3  'anyways gonna reward last silver last day oly...  ...    0.0\n",
       "4                     'mikesington watched olympics'  ...    0.0\n",
       "\n",
       "[5 rows x 4 columns]"
      ]
     },
     "execution_count": 430,
     "metadata": {},
     "output_type": "execute_result"
    }
   ],
   "source": [
    "pd.read_csv(train_filepaths[0]).head()"
   ]
  },
  {
   "cell_type": "code",
   "execution_count": 431,
   "metadata": {
    "colab": {
     "base_uri": "https://localhost:8080/"
    },
    "id": "IeT8aADf1sez",
    "outputId": "6602579f-a868-42b3-de0b-78de3ff9591b"
   },
   "outputs": [
    {
     "data": {
      "text/plain": [
       "970575"
      ]
     },
     "execution_count": 431,
     "metadata": {},
     "output_type": "execute_result"
    }
   ],
   "source": [
    "os.path.getsize(train_filepaths[0])"
   ]
  },
  {
   "cell_type": "code",
   "execution_count": 432,
   "metadata": {
    "id": "tVyeIw721se1"
   },
   "outputs": [],
   "source": [
    "train_folder=('/').join(re.search('(.*)/(.*)/(.*)',train_filepaths[0], re.IGNORECASE).group(1,2))"
   ]
  },
  {
   "cell_type": "code",
   "execution_count": 433,
   "metadata": {
    "colab": {
     "base_uri": "https://localhost:8080/",
     "height": 0
    },
    "id": "JjDSAYrc1se2",
    "outputId": "3ace05da-993f-4123-9584-6d33505ac185"
   },
   "outputs": [
    {
     "name": "stdout",
     "output_type": "stream",
     "text": [
      "datasets/tweets/my_train_00.csv\n"
     ]
    },
    {
     "data": {
      "application/vnd.google.colaboratory.intrinsic+json": {
       "type": "string"
      },
      "text/plain": [
       "'datasets/tweets'"
      ]
     },
     "execution_count": 433,
     "metadata": {},
     "output_type": "execute_result"
    }
   ],
   "source": [
    "print(train_filepaths[0])\n",
    "train_folder"
   ]
  },
  {
   "cell_type": "code",
   "execution_count": 434,
   "metadata": {
    "id": "kQ3aMYw41se3"
   },
   "outputs": [],
   "source": [
    "full_csv = train_folder+'/full_train.csv'\n",
    "with open(full_csv, \"wt\", encoding=\"utf-8\") as f:\n",
    "    if header is not None:\n",
    "        f.write(header)\n",
    "        f.write(\"\\n\")\n",
    "    for row_idx in range(train_data.shape[0]):\n",
    "        f.write(\",\".join([repr(col) for col in train_data[row_idx]]))\n",
    "        f.write(\"\\n\")"
   ]
  },
  {
   "cell_type": "code",
   "execution_count": 435,
   "metadata": {
    "colab": {
     "base_uri": "https://localhost:8080/"
    },
    "id": "xrH4F4f51se6",
    "outputId": "b523b102-95d7-4be2-9c2c-9f87c9b4fc3d"
   },
   "outputs": [
    {
     "data": {
      "text/plain": [
       "19398260"
      ]
     },
     "execution_count": 435,
     "metadata": {},
     "output_type": "execute_result"
    }
   ],
   "source": [
    "os.path.getsize(full_csv)"
   ]
  },
  {
   "cell_type": "code",
   "execution_count": 436,
   "metadata": {
    "colab": {
     "base_uri": "https://localhost:8080/"
    },
    "id": "F3RkgNgw1se6",
    "outputId": "fa5f1b57-cb58-47ed-e2cc-ac47885f6679"
   },
   "outputs": [
    {
     "data": {
      "text/plain": [
       "(225230, 4)"
      ]
     },
     "execution_count": 436,
     "metadata": {},
     "output_type": "execute_result"
    }
   ],
   "source": [
    "pd.read_csv(full_csv).shape"
   ]
  },
  {
   "cell_type": "code",
   "execution_count": 437,
   "metadata": {
    "id": "TIgmElld1sfZ"
   },
   "outputs": [],
   "source": [
    "train_data = pd.read_csv(full_csv)"
   ]
  },
  {
   "cell_type": "code",
   "execution_count": 438,
   "metadata": {
    "colab": {
     "base_uri": "https://localhost:8080/",
     "height": 0
    },
    "id": "o-f_2ry01sfZ",
    "outputId": "89c04335-165e-4524-fbb6-6ce854bef448"
   },
   "outputs": [
    {
     "data": {
      "text/html": [
       "<div>\n",
       "<style scoped>\n",
       "    .dataframe tbody tr th:only-of-type {\n",
       "        vertical-align: middle;\n",
       "    }\n",
       "\n",
       "    .dataframe tbody tr th {\n",
       "        vertical-align: top;\n",
       "    }\n",
       "\n",
       "    .dataframe thead th {\n",
       "        text-align: right;\n",
       "    }\n",
       "</style>\n",
       "<table border=\"1\" class=\"dataframe\">\n",
       "  <thead>\n",
       "    <tr style=\"text-align: right;\">\n",
       "      <th></th>\n",
       "      <th>tweets</th>\n",
       "      <th>Subjectivity</th>\n",
       "      <th>Polarity</th>\n",
       "      <th>Label</th>\n",
       "    </tr>\n",
       "  </thead>\n",
       "  <tbody>\n",
       "    <tr>\n",
       "      <th>0</th>\n",
       "      <td>'shawnmarion85 cnbc nbcsn app olympics website'</td>\n",
       "      <td>1.0</td>\n",
       "      <td>0.0</td>\n",
       "      <td>0.0</td>\n",
       "    </tr>\n",
       "    <tr>\n",
       "      <th>1</th>\n",
       "      <td>'worked hard since friday get living tokyo tim...</td>\n",
       "      <td>0.0</td>\n",
       "      <td>1.0</td>\n",
       "      <td>0.0</td>\n",
       "    </tr>\n",
       "    <tr>\n",
       "      <th>2</th>\n",
       "      <td>'still disappointed stand seen jaws 3d hasnt r...</td>\n",
       "      <td>0.0</td>\n",
       "      <td>1.0</td>\n",
       "      <td>0.0</td>\n",
       "    </tr>\n",
       "    <tr>\n",
       "      <th>3</th>\n",
       "      <td>'anyways gonna reward last silver last day oly...</td>\n",
       "      <td>1.0</td>\n",
       "      <td>0.0</td>\n",
       "      <td>0.0</td>\n",
       "    </tr>\n",
       "    <tr>\n",
       "      <th>4</th>\n",
       "      <td>'mikesington watched olympics'</td>\n",
       "      <td>1.0</td>\n",
       "      <td>0.0</td>\n",
       "      <td>0.0</td>\n",
       "    </tr>\n",
       "    <tr>\n",
       "      <th>...</th>\n",
       "      <td>...</td>\n",
       "      <td>...</td>\n",
       "      <td>...</td>\n",
       "      <td>...</td>\n",
       "    </tr>\n",
       "    <tr>\n",
       "      <th>225225</th>\n",
       "      <td>'handle like go team usa athletics mixedrelay ...</td>\n",
       "      <td>1.0</td>\n",
       "      <td>0.0</td>\n",
       "      <td>0.0</td>\n",
       "    </tr>\n",
       "    <tr>\n",
       "      <th>225226</th>\n",
       "      <td>'smnkgis ateezofficial gonna win olympicsloves...</td>\n",
       "      <td>0.0</td>\n",
       "      <td>0.0</td>\n",
       "      <td>1.0</td>\n",
       "    </tr>\n",
       "    <tr>\n",
       "      <th>225227</th>\n",
       "      <td>'michigannative amanda chidester team usa soft...</td>\n",
       "      <td>0.0</td>\n",
       "      <td>0.0</td>\n",
       "      <td>1.0</td>\n",
       "    </tr>\n",
       "    <tr>\n",
       "      <th>225228</th>\n",
       "      <td>'isolated showers thunderstorms starting pop a...</td>\n",
       "      <td>0.0</td>\n",
       "      <td>1.0</td>\n",
       "      <td>0.0</td>\n",
       "    </tr>\n",
       "    <tr>\n",
       "      <th>225229</th>\n",
       "      <td>'perdistheword coach kicking bad bronze medal ...</td>\n",
       "      <td>0.0</td>\n",
       "      <td>0.0</td>\n",
       "      <td>1.0</td>\n",
       "    </tr>\n",
       "  </tbody>\n",
       "</table>\n",
       "<p>225230 rows × 4 columns</p>\n",
       "</div>"
      ],
      "text/plain": [
       "                                                   tweets  ...  Label\n",
       "0         'shawnmarion85 cnbc nbcsn app olympics website'  ...    0.0\n",
       "1       'worked hard since friday get living tokyo tim...  ...    0.0\n",
       "2       'still disappointed stand seen jaws 3d hasnt r...  ...    0.0\n",
       "3       'anyways gonna reward last silver last day oly...  ...    0.0\n",
       "4                          'mikesington watched olympics'  ...    0.0\n",
       "...                                                   ...  ...    ...\n",
       "225225  'handle like go team usa athletics mixedrelay ...  ...    0.0\n",
       "225226  'smnkgis ateezofficial gonna win olympicsloves...  ...    1.0\n",
       "225227  'michigannative amanda chidester team usa soft...  ...    1.0\n",
       "225228  'isolated showers thunderstorms starting pop a...  ...    0.0\n",
       "225229  'perdistheword coach kicking bad bronze medal ...  ...    1.0\n",
       "\n",
       "[225230 rows x 4 columns]"
      ]
     },
     "execution_count": 438,
     "metadata": {},
     "output_type": "execute_result"
    }
   ],
   "source": [
    "train_data"
   ]
  },
  {
   "cell_type": "markdown",
   "metadata": {
    "id": "KcBR_9Qz1sfa"
   },
   "source": [
    "### Valid dataset"
   ]
  },
  {
   "cell_type": "code",
   "execution_count": 439,
   "metadata": {
    "colab": {
     "base_uri": "https://localhost:8080/",
     "height": 204
    },
    "id": "L3O6O6CU1sfa",
    "outputId": "78e6d3a8-b5b8-452f-d030-3f266e97bc29"
   },
   "outputs": [
    {
     "data": {
      "text/html": [
       "<div>\n",
       "<style scoped>\n",
       "    .dataframe tbody tr th:only-of-type {\n",
       "        vertical-align: middle;\n",
       "    }\n",
       "\n",
       "    .dataframe tbody tr th {\n",
       "        vertical-align: top;\n",
       "    }\n",
       "\n",
       "    .dataframe thead th {\n",
       "        text-align: right;\n",
       "    }\n",
       "</style>\n",
       "<table border=\"1\" class=\"dataframe\">\n",
       "  <thead>\n",
       "    <tr style=\"text-align: right;\">\n",
       "      <th></th>\n",
       "      <th>tweets</th>\n",
       "      <th>Subjectivity</th>\n",
       "      <th>Polarity</th>\n",
       "      <th>Label</th>\n",
       "    </tr>\n",
       "  </thead>\n",
       "  <tbody>\n",
       "    <tr>\n",
       "      <th>0</th>\n",
       "      <td>'congratulations charlotte gio pumpkin wondder...</td>\n",
       "      <td>0.0</td>\n",
       "      <td>0.0</td>\n",
       "      <td>1.0</td>\n",
       "    </tr>\n",
       "    <tr>\n",
       "      <th>1</th>\n",
       "      <td>'thank mohamedabdalrasool fethinourine freepal...</td>\n",
       "      <td>1.0</td>\n",
       "      <td>0.0</td>\n",
       "      <td>0.0</td>\n",
       "    </tr>\n",
       "    <tr>\n",
       "      <th>2</th>\n",
       "      <td>'powerful timetrial run roglic slovenia probab...</td>\n",
       "      <td>0.0</td>\n",
       "      <td>0.0</td>\n",
       "      <td>1.0</td>\n",
       "    </tr>\n",
       "    <tr>\n",
       "      <th>3</th>\n",
       "      <td>'r8teez srlmort ateezofficial horizon real gon...</td>\n",
       "      <td>0.0</td>\n",
       "      <td>0.0</td>\n",
       "      <td>1.0</td>\n",
       "    </tr>\n",
       "    <tr>\n",
       "      <th>4</th>\n",
       "      <td>'thank olympics adding skateboarding love amer...</td>\n",
       "      <td>0.0</td>\n",
       "      <td>0.0</td>\n",
       "      <td>1.0</td>\n",
       "    </tr>\n",
       "  </tbody>\n",
       "</table>\n",
       "</div>"
      ],
      "text/plain": [
       "                                              tweets  ...  Label\n",
       "0  'congratulations charlotte gio pumpkin wondder...  ...    1.0\n",
       "1  'thank mohamedabdalrasool fethinourine freepal...  ...    0.0\n",
       "2  'powerful timetrial run roglic slovenia probab...  ...    1.0\n",
       "3  'r8teez srlmort ateezofficial horizon real gon...  ...    1.0\n",
       "4  'thank olympics adding skateboarding love amer...  ...    1.0\n",
       "\n",
       "[5 rows x 4 columns]"
      ]
     },
     "execution_count": 439,
     "metadata": {},
     "output_type": "execute_result"
    }
   ],
   "source": [
    "pd.read_csv(valid_filepaths[0]).head()"
   ]
  },
  {
   "cell_type": "code",
   "execution_count": 440,
   "metadata": {
    "colab": {
     "base_uri": "https://localhost:8080/"
    },
    "id": "Ca3wuVG-1sfa",
    "outputId": "02bcdc2c-68d0-49ea-ae2d-62d507a343f5"
   },
   "outputs": [
    {
     "data": {
      "text/plain": [
       "484897"
      ]
     },
     "execution_count": 440,
     "metadata": {},
     "output_type": "execute_result"
    }
   ],
   "source": [
    "os.path.getsize(valid_filepaths[0])"
   ]
  },
  {
   "cell_type": "code",
   "execution_count": 441,
   "metadata": {
    "id": "0eveWQ-91sfb"
   },
   "outputs": [],
   "source": [
    "valid_folder=('/').join(re.search('(.*)/(.*)/(.*)',valid_filepaths[0], re.IGNORECASE).group(1,2))"
   ]
  },
  {
   "cell_type": "code",
   "execution_count": 442,
   "metadata": {
    "colab": {
     "base_uri": "https://localhost:8080/",
     "height": 52
    },
    "id": "AvoE7LxW1sfb",
    "outputId": "7cf796d5-a0a2-4a2a-dc5d-169e51fc718d"
   },
   "outputs": [
    {
     "name": "stdout",
     "output_type": "stream",
     "text": [
      "datasets/tweets/my_valid_00.csv\n"
     ]
    },
    {
     "data": {
      "application/vnd.google.colaboratory.intrinsic+json": {
       "type": "string"
      },
      "text/plain": [
       "'datasets/tweets'"
      ]
     },
     "execution_count": 442,
     "metadata": {},
     "output_type": "execute_result"
    }
   ],
   "source": [
    "print(valid_filepaths[0])\n",
    "valid_folder"
   ]
  },
  {
   "cell_type": "code",
   "execution_count": 443,
   "metadata": {
    "id": "32J1CiwK1sfc"
   },
   "outputs": [],
   "source": [
    "full_csv = valid_folder+'/full_train.csv'\n",
    "with open(full_csv, \"wt\", encoding=\"utf-8\") as f:\n",
    "    if header is not None:\n",
    "        f.write(header)\n",
    "        f.write(\"\\n\")\n",
    "    for row_idx in range(valid_data.shape[0]):\n",
    "        f.write(\",\".join([repr(col) for col in valid_data[row_idx]]))\n",
    "        f.write(\"\\n\")"
   ]
  },
  {
   "cell_type": "code",
   "execution_count": 444,
   "metadata": {
    "colab": {
     "base_uri": "https://localhost:8080/"
    },
    "id": "sfNyKJ7X1sfc",
    "outputId": "22aed188-dc4b-44fa-f3a0-f59683e64794"
   },
   "outputs": [
    {
     "data": {
      "text/plain": [
       "4844634"
      ]
     },
     "execution_count": 444,
     "metadata": {},
     "output_type": "execute_result"
    }
   ],
   "source": [
    "os.path.getsize(full_csv)"
   ]
  },
  {
   "cell_type": "code",
   "execution_count": 445,
   "metadata": {
    "colab": {
     "base_uri": "https://localhost:8080/"
    },
    "id": "6L5f--yr1sfc",
    "outputId": "68b40358-31f2-49c9-9438-22a66075475d"
   },
   "outputs": [
    {
     "data": {
      "text/plain": [
       "(56308, 4)"
      ]
     },
     "execution_count": 445,
     "metadata": {},
     "output_type": "execute_result"
    }
   ],
   "source": [
    "pd.read_csv(full_csv).shape"
   ]
  },
  {
   "cell_type": "code",
   "execution_count": 446,
   "metadata": {
    "id": "bFrayOTO1sfd"
   },
   "outputs": [],
   "source": [
    "valid_data = pd.read_csv(full_csv)"
   ]
  },
  {
   "cell_type": "code",
   "execution_count": 447,
   "metadata": {
    "colab": {
     "base_uri": "https://localhost:8080/",
     "height": 419
    },
    "id": "1ivdpiNY1sfd",
    "outputId": "d1bce83a-7cff-446a-964e-5fd1ea12c466"
   },
   "outputs": [
    {
     "data": {
      "text/html": [
       "<div>\n",
       "<style scoped>\n",
       "    .dataframe tbody tr th:only-of-type {\n",
       "        vertical-align: middle;\n",
       "    }\n",
       "\n",
       "    .dataframe tbody tr th {\n",
       "        vertical-align: top;\n",
       "    }\n",
       "\n",
       "    .dataframe thead th {\n",
       "        text-align: right;\n",
       "    }\n",
       "</style>\n",
       "<table border=\"1\" class=\"dataframe\">\n",
       "  <thead>\n",
       "    <tr style=\"text-align: right;\">\n",
       "      <th></th>\n",
       "      <th>tweets</th>\n",
       "      <th>Subjectivity</th>\n",
       "      <th>Polarity</th>\n",
       "      <th>Label</th>\n",
       "    </tr>\n",
       "  </thead>\n",
       "  <tbody>\n",
       "    <tr>\n",
       "      <th>0</th>\n",
       "      <td>'congratulations charlotte gio pumpkin wondder...</td>\n",
       "      <td>0.0</td>\n",
       "      <td>0.0</td>\n",
       "      <td>1.0</td>\n",
       "    </tr>\n",
       "    <tr>\n",
       "      <th>1</th>\n",
       "      <td>'thank mohamedabdalrasool fethinourine freepal...</td>\n",
       "      <td>1.0</td>\n",
       "      <td>0.0</td>\n",
       "      <td>0.0</td>\n",
       "    </tr>\n",
       "    <tr>\n",
       "      <th>2</th>\n",
       "      <td>'powerful timetrial run roglic slovenia probab...</td>\n",
       "      <td>0.0</td>\n",
       "      <td>0.0</td>\n",
       "      <td>1.0</td>\n",
       "    </tr>\n",
       "    <tr>\n",
       "      <th>3</th>\n",
       "      <td>'r8teez srlmort ateezofficial horizon real gon...</td>\n",
       "      <td>0.0</td>\n",
       "      <td>0.0</td>\n",
       "      <td>1.0</td>\n",
       "    </tr>\n",
       "    <tr>\n",
       "      <th>4</th>\n",
       "      <td>'thank olympics adding skateboarding love amer...</td>\n",
       "      <td>0.0</td>\n",
       "      <td>0.0</td>\n",
       "      <td>1.0</td>\n",
       "    </tr>\n",
       "    <tr>\n",
       "      <th>...</th>\n",
       "      <td>...</td>\n",
       "      <td>...</td>\n",
       "      <td>...</td>\n",
       "      <td>...</td>\n",
       "    </tr>\n",
       "    <tr>\n",
       "      <th>56303</th>\n",
       "      <td>'tokyoolympics2020 vandana kataria became firs...</td>\n",
       "      <td>0.0</td>\n",
       "      <td>0.0</td>\n",
       "      <td>1.0</td>\n",
       "    </tr>\n",
       "    <tr>\n",
       "      <th>56304</th>\n",
       "      <td>'something im still trying get head around mon...</td>\n",
       "      <td>1.0</td>\n",
       "      <td>0.0</td>\n",
       "      <td>0.0</td>\n",
       "    </tr>\n",
       "    <tr>\n",
       "      <th>56305</th>\n",
       "      <td>'put olympics people swimming quite brown wate...</td>\n",
       "      <td>1.0</td>\n",
       "      <td>0.0</td>\n",
       "      <td>0.0</td>\n",
       "    </tr>\n",
       "    <tr>\n",
       "      <th>56306</th>\n",
       "      <td>'violence olympics i’m seeing tl early momo 🥴'</td>\n",
       "      <td>0.0</td>\n",
       "      <td>0.0</td>\n",
       "      <td>1.0</td>\n",
       "    </tr>\n",
       "    <tr>\n",
       "      <th>56307</th>\n",
       "      <td>'dbearmanespn believe speaking day hah olympic...</td>\n",
       "      <td>1.0</td>\n",
       "      <td>0.0</td>\n",
       "      <td>0.0</td>\n",
       "    </tr>\n",
       "  </tbody>\n",
       "</table>\n",
       "<p>56308 rows × 4 columns</p>\n",
       "</div>"
      ],
      "text/plain": [
       "                                                  tweets  ...  Label\n",
       "0      'congratulations charlotte gio pumpkin wondder...  ...    1.0\n",
       "1      'thank mohamedabdalrasool fethinourine freepal...  ...    0.0\n",
       "2      'powerful timetrial run roglic slovenia probab...  ...    1.0\n",
       "3      'r8teez srlmort ateezofficial horizon real gon...  ...    1.0\n",
       "4      'thank olympics adding skateboarding love amer...  ...    1.0\n",
       "...                                                  ...  ...    ...\n",
       "56303  'tokyoolympics2020 vandana kataria became firs...  ...    1.0\n",
       "56304  'something im still trying get head around mon...  ...    0.0\n",
       "56305  'put olympics people swimming quite brown wate...  ...    0.0\n",
       "56306     'violence olympics i’m seeing tl early momo 🥴'  ...    1.0\n",
       "56307  'dbearmanespn believe speaking day hah olympic...  ...    0.0\n",
       "\n",
       "[56308 rows x 4 columns]"
      ]
     },
     "execution_count": 447,
     "metadata": {},
     "output_type": "execute_result"
    }
   ],
   "source": [
    "valid_data"
   ]
  },
  {
   "cell_type": "markdown",
   "metadata": {
    "id": "SZ-MIpKC4Bc0"
   },
   "source": [
    "#### Split train_sentences, val_sentences, train_labels,  val_labels "
   ]
  },
  {
   "cell_type": "code",
   "execution_count": 448,
   "metadata": {
    "id": "XO07F0i34FLW"
   },
   "outputs": [],
   "source": [
    "train_sentences,  train_labels = train_data.tweets, train_data.Label\n",
    "val_sentences, val_labels  = valid_data.tweets, valid_data.Label"
   ]
  },
  {
   "cell_type": "markdown",
   "metadata": {
    "id": "c1O5d08bi39H"
   },
   "source": [
    "#### Menyiapkan Target"
   ]
  },
  {
   "cell_type": "code",
   "execution_count": 449,
   "metadata": {
    "id": "dn3ALilriwvF"
   },
   "outputs": [],
   "source": [
    "X_train, y_train = train_dataset.tweets, train_dataset.Label\n",
    "X_test, y_test = test_dataset.tweets, test_dataset.Label"
   ]
  },
  {
   "cell_type": "code",
   "execution_count": 450,
   "metadata": {
    "id": "Ycpqitviiw6f"
   },
   "outputs": [],
   "source": [
    "def prepare_targets(y_train, y_test):\n",
    "    y_train_enc = to_categorical(y_train)\n",
    "    y_test_enc = to_categorical(y_test)\n",
    "    return y_train_enc, y_test_enc\n",
    "\n",
    "y_train, y_test = prepare_targets(y_train, y_test)"
   ]
  },
  {
   "cell_type": "markdown",
   "metadata": {
    "id": "rGPFIWNIjCkT"
   },
   "source": [
    "#### Melakukan Split Data "
   ]
  },
  {
   "cell_type": "code",
   "execution_count": 451,
   "metadata": {
    "id": "gP9aVS6BixEY"
   },
   "outputs": [],
   "source": [
    "train_sentences, val_sentences, train_labels, val_labels = train_test_split(X_train.to_numpy(),\n",
    "                                                                            y_train,\n",
    "                                                                            test_size=0.2,\n",
    "                                                                            random_state=42)"
   ]
  },
  {
   "cell_type": "code",
   "execution_count": 452,
   "metadata": {
    "id": "g1X_mJdJvFDt"
   },
   "outputs": [],
   "source": [
    "def counter_word(text):\n",
    "  count = Counter()\n",
    "  for i in text.values:\n",
    "      for word in i.split():\n",
    "          count[word] += 1\n",
    "  return count"
   ]
  },
  {
   "cell_type": "code",
   "execution_count": 453,
   "metadata": {
    "id": "fUkTAUXay3QA"
   },
   "outputs": [],
   "source": [
    "text = dataset['tweets']\n",
    "counter = counter_word(text)"
   ]
  },
  {
   "cell_type": "code",
   "execution_count": 454,
   "metadata": {
    "colab": {
     "base_uri": "https://localhost:8080/"
    },
    "id": "_JbXj6fby6qH",
    "outputId": "2186f96d-6e82-488f-8bc1-da1171152b12"
   },
   "outputs": [
    {
     "data": {
      "text/plain": [
       "185954"
      ]
     },
     "execution_count": 454,
     "metadata": {},
     "output_type": "execute_result"
    }
   ],
   "source": [
    "max_vocab_length = len(counter)\n",
    "max_vocab_length"
   ]
  },
  {
   "cell_type": "markdown",
   "metadata": {
    "id": "bPFkwX3kyefh"
   },
   "source": [
    "#### Menghitung"
   ]
  },
  {
   "cell_type": "code",
   "execution_count": 455,
   "metadata": {
    "colab": {
     "base_uri": "https://localhost:8080/"
    },
    "id": "2AmAnyPFyhVR",
    "outputId": "c5873867-d98e-467e-b61e-10204c2dfcda"
   },
   "outputs": [
    {
     "data": {
      "text/plain": [
       "10"
      ]
     },
     "execution_count": 455,
     "metadata": {},
     "output_type": "execute_result"
    }
   ],
   "source": [
    "# max number of words in a squance\n",
    "max_length = round(sum([len(i.split()) for i in train_sentences])/len(train_sentences))\n",
    "max_length"
   ]
  },
  {
   "cell_type": "markdown",
   "metadata": {
    "id": "g2kzNUZEsLXL"
   },
   "source": [
    "## Tokenizer"
   ]
  },
  {
   "cell_type": "markdown",
   "metadata": {
    "id": "HeWnkEFoFNjo"
   },
   "source": [
    "#### Setup text vectorization "
   ]
  },
  {
   "cell_type": "code",
   "execution_count": 456,
   "metadata": {
    "id": "t97LB_XX2_u4"
   },
   "outputs": [],
   "source": [
    "text_vectorizer = TextVectorization(max_tokens=max_vocab_length, \n",
    "                                    split=\"whitespace\", \n",
    "                                    output_sequence_length=max_length)"
   ]
  },
  {
   "cell_type": "code",
   "execution_count": 457,
   "metadata": {
    "id": "nWzzPtYl5JW_"
   },
   "outputs": [],
   "source": [
    "text_vectorizer.adapt(train_sentences)"
   ]
  },
  {
   "cell_type": "markdown",
   "metadata": {
    "id": "rsd6nNxBEWu9"
   },
   "source": [
    "#### Buat contoh Tweets untuk membuktikan tokenizer bekerja"
   ]
  },
  {
   "cell_type": "code",
   "execution_count": 458,
   "metadata": {
    "colab": {
     "base_uri": "https://localhost:8080/"
    },
    "id": "nLV4zGHz8zMV",
    "outputId": "5edc7197-21fb-4c4b-df1e-11cef38da6c0"
   },
   "outputs": [
    {
     "data": {
      "text/plain": [
       "<tf.Tensor: shape=(1, 10), dtype=int64, numpy=array([[  1,   1,   1,  12,  32, 221,  73,  12,   0,   0]])>"
      ]
     },
     "execution_count": 458,
     "metadata": {},
     "output_type": "execute_result"
    }
   ],
   "source": [
    "sample_sentence = \"Why is the Team USA men basketball team\"\n",
    "text_vectorizer([sample_sentence])"
   ]
  },
  {
   "cell_type": "code",
   "execution_count": 459,
   "metadata": {
    "colab": {
     "base_uri": "https://localhost:8080/"
    },
    "id": "0Lko2LV08zU0",
    "outputId": "5c220fae-6f8e-4d40-8af0-7514d2d89ccc"
   },
   "outputs": [
    {
     "name": "stdout",
     "output_type": "stream",
     "text": [
      "Teks Asli:\n",
      "tokyo olympics india men’s hockey team beat argentina enters quarterfinal indiamenhockeyteam tokyoolympics2020      \n",
      "\n",
      "Versi Vektorisasi:\n"
     ]
    },
    {
     "data": {
      "text/plain": [
       "<tf.Tensor: shape=(1, 10), dtype=int64, numpy=array([[   3,    2,   48,  167,  148,   12,  253,  614, 1513,  626]])>"
      ]
     },
     "execution_count": 459,
     "metadata": {},
     "output_type": "execute_result"
    }
   ],
   "source": [
    "random_sentence = random.choice(train_sentences)\n",
    "print(f\"Teks Asli:\\n{random_sentence}\\\n",
    "      \\n\\nVersi Vektorisasi:\")\n",
    "text_vectorizer([random_sentence])"
   ]
  },
  {
   "cell_type": "code",
   "execution_count": 460,
   "metadata": {
    "colab": {
     "base_uri": "https://localhost:8080/"
    },
    "id": "b3uxeg8f8zeM",
    "outputId": "afada71f-27d2-4800-ac6c-d64ac56cff23"
   },
   "outputs": [
    {
     "name": "stdout",
     "output_type": "stream",
     "text": [
      "Number of words in vocab: 151539\n",
      "Top 5 most common words: ['', '[UNK]', 'olympics', 'tokyo', 'ateezofficial']\n",
      "Bottom 5 least common words: ['000101jd', '0001', '0000m', '000006056', '000000']\n"
     ]
    }
   ],
   "source": [
    "words_in_vocab = text_vectorizer.get_vocabulary()\n",
    "top_5_words = words_in_vocab[:5] # token terbanyak\n",
    "bottom_5_words = words_in_vocab[-5:] # token tersedikit\n",
    "print(f\"Number of words in vocab: {len(words_in_vocab)}\")\n",
    "print(f\"Top 5 most common words: {top_5_words}\") \n",
    "print(f\"Bottom 5 least common words: {bottom_5_words}\")"
   ]
  },
  {
   "cell_type": "markdown",
   "metadata": {
    "id": "YpbWHk8OueQy"
   },
   "source": [
    "#### Load GloVe Model"
   ]
  },
  {
   "cell_type": "code",
   "execution_count": 461,
   "metadata": {
    "colab": {
     "base_uri": "https://localhost:8080/"
    },
    "id": "4FIOPIt49RzW",
    "outputId": "0d70996c-733e-4589-d758-79c9d69f60bf"
   },
   "outputs": [
    {
     "name": "stdout",
     "output_type": "stream",
     "text": [
      "unique tokens -  185954\n",
      "vocab size - 185955\n"
     ]
    }
   ],
   "source": [
    "tokenizer_obj = Tokenizer()\n",
    "tokenizer_obj.fit_on_texts(dataset['tweets'])\n",
    "\n",
    "word_index = tokenizer_obj.word_index\n",
    "print(\"unique tokens - \",len(word_index))\n",
    "vocab_size = len(tokenizer_obj.word_index) + 1\n",
    "print('vocab size -', vocab_size)"
   ]
  },
  {
   "cell_type": "code",
   "execution_count": 462,
   "metadata": {
    "colab": {
     "base_uri": "https://localhost:8080/"
    },
    "id": "KpBwMWBRufKp",
    "outputId": "5a5dbc22-1fe1-4bef-ed2b-7936deb38fd1"
   },
   "outputs": [
    {
     "name": "stdout",
     "output_type": "stream",
     "text": [
      "Found 1019552 word vectors.\n"
     ]
    }
   ],
   "source": [
    "embeddings_index = {}\n",
    "embedding_dim = 100\n",
    "GLOVE_DIR = \"/content/drive/MyDrive/final_project/glove.twitter.27B.100d.txt\"\n",
    "f = open(os.path.join(GLOVE_DIR, '/content/drive/MyDrive/final_project/glove.twitter.27B.100d.txt'), encoding = \"utf-8\")\n",
    "for line in f:\n",
    "    values = line.split()\n",
    "    word = values[0]\n",
    "    coefs = np.asarray(values[1:], dtype='float32')\n",
    "    embeddings_index[word] = coefs\n",
    "f.close()\n",
    "\n",
    "print('Found %s word vectors.' % len(embeddings_index))"
   ]
  },
  {
   "cell_type": "markdown",
   "metadata": {
    "id": "apUVCWFeumSy"
   },
   "source": [
    "## membuat embedding layers"
   ]
  },
  {
   "cell_type": "code",
   "execution_count": 463,
   "metadata": {
    "colab": {
     "base_uri": "https://localhost:8080/"
    },
    "id": "3uHa04LCufVt",
    "outputId": "a692c56a-dba2-44d6-ef21-7df03e50df33"
   },
   "outputs": [
    {
     "name": "stdout",
     "output_type": "stream",
     "text": [
      "49174\n"
     ]
    }
   ],
   "source": [
    "embedding_matrix = np.zeros((len(word_index) + 1, embedding_dim))\n",
    "c = 0\n",
    "for word, i in word_index.items():\n",
    "    embedding_vector = embeddings_index.get(word)\n",
    "    if embedding_vector is not None:\n",
    "        c+=1\n",
    "        embedding_matrix[i] = embedding_vector\n",
    "print(c)"
   ]
  },
  {
   "cell_type": "code",
   "execution_count": 464,
   "metadata": {
    "id": "YrIE16xv5A0Y"
   },
   "outputs": [],
   "source": [
    "embedding_glove = layers.Embedding(input_dim=vocab_size,\n",
    "                            output_dim=embedding_dim,\n",
    "                            weights=[embedding_matrix],\n",
    "                            input_length=max_length,\n",
    "                            trainable=False)"
   ]
  },
  {
   "cell_type": "code",
   "execution_count": 465,
   "metadata": {
    "colab": {
     "base_uri": "https://localhost:8080/"
    },
    "id": "M9mBy5NF5BBN",
    "outputId": "35b9aa98-28ec-4b00-d6c0-ba7184cfa0a7"
   },
   "outputs": [
    {
     "data": {
      "text/plain": [
       "<keras.layers.embeddings.Embedding at 0x7f29f688c9d0>"
      ]
     },
     "execution_count": 465,
     "metadata": {},
     "output_type": "execute_result"
    }
   ],
   "source": [
    "embedding_glove"
   ]
  },
  {
   "cell_type": "code",
   "execution_count": 466,
   "metadata": {
    "id": "BhxDvRC35BNM"
   },
   "outputs": [],
   "source": [
    "random_sentence = random.choice(train_sentences)"
   ]
  },
  {
   "cell_type": "code",
   "execution_count": 467,
   "metadata": {
    "colab": {
     "base_uri": "https://localhost:8080/",
     "height": 35
    },
    "id": "uPyhANHBl41W",
    "outputId": "b0540eda-d028-4a32-9c13-f9c8a82509d6"
   },
   "outputs": [
    {
     "data": {
      "application/vnd.google.colaboratory.intrinsic+json": {
       "type": "string"
      },
      "text/plain": [
       "'tokyo2020 cheer4india sreejesh goalkeeper 16sreejesh playing third olympics says indias rich hoc…'"
      ]
     },
     "execution_count": 467,
     "metadata": {},
     "output_type": "execute_result"
    }
   ],
   "source": [
    "random_sentence"
   ]
  },
  {
   "cell_type": "code",
   "execution_count": 468,
   "metadata": {
    "colab": {
     "base_uri": "https://localhost:8080/"
    },
    "id": "GWDlXqvPfUSM",
    "outputId": "d720ac28-908c-4f2d-e342-01169c285025"
   },
   "outputs": [
    {
     "name": "stdout",
     "output_type": "stream",
     "text": [
      "Teks Asli:\n",
      "tokyo2020 cheer4india sreejesh goalkeeper 16sreejesh playing third olympics says indias rich hoc…      \n",
      "\n",
      "Versi Embedded: tf.Tensor(\n",
      "[[[ 0.0000e+00  0.0000e+00  0.0000e+00  0.0000e+00  0.0000e+00\n",
      "    0.0000e+00  0.0000e+00  0.0000e+00  0.0000e+00  0.0000e+00\n",
      "    0.0000e+00  0.0000e+00  0.0000e+00  0.0000e+00  0.0000e+00\n",
      "    0.0000e+00  0.0000e+00  0.0000e+00  0.0000e+00  0.0000e+00\n",
      "    0.0000e+00  0.0000e+00  0.0000e+00  0.0000e+00  0.0000e+00\n",
      "    0.0000e+00  0.0000e+00  0.0000e+00  0.0000e+00  0.0000e+00\n",
      "    0.0000e+00  0.0000e+00  0.0000e+00  0.0000e+00  0.0000e+00\n",
      "    0.0000e+00  0.0000e+00  0.0000e+00  0.0000e+00  0.0000e+00\n",
      "    0.0000e+00  0.0000e+00  0.0000e+00  0.0000e+00  0.0000e+00\n",
      "    0.0000e+00  0.0000e+00  0.0000e+00  0.0000e+00  0.0000e+00\n",
      "    0.0000e+00  0.0000e+00  0.0000e+00  0.0000e+00  0.0000e+00\n",
      "    0.0000e+00  0.0000e+00  0.0000e+00  0.0000e+00  0.0000e+00\n",
      "    0.0000e+00  0.0000e+00  0.0000e+00  0.0000e+00  0.0000e+00\n",
      "    0.0000e+00  0.0000e+00  0.0000e+00  0.0000e+00  0.0000e+00\n",
      "    0.0000e+00  0.0000e+00  0.0000e+00  0.0000e+00  0.0000e+00\n",
      "    0.0000e+00  0.0000e+00  0.0000e+00  0.0000e+00  0.0000e+00\n",
      "    0.0000e+00  0.0000e+00  0.0000e+00  0.0000e+00  0.0000e+00\n",
      "    0.0000e+00  0.0000e+00  0.0000e+00  0.0000e+00  0.0000e+00\n",
      "    0.0000e+00  0.0000e+00  0.0000e+00  0.0000e+00  0.0000e+00\n",
      "    0.0000e+00  0.0000e+00  0.0000e+00  0.0000e+00  0.0000e+00]\n",
      "  [ 9.8042e-01  7.6783e-02  2.4616e-01 -7.2229e-02 -1.5012e-01\n",
      "    1.5761e-01  3.4365e-01  6.2245e-01  3.7013e-01  7.2506e-01\n",
      "   -4.6750e-01 -1.0900e+00 -4.0312e+00  2.9993e-01  2.4868e-01\n",
      "    1.9993e-01  7.1513e-01  4.2561e-01 -7.4242e-01  8.9115e-02\n",
      "    1.8680e-01 -5.7037e-02  1.0336e-02  4.4125e-01  3.0256e-01\n",
      "   -9.9822e-02 -5.0963e-01 -5.8108e-01 -1.3530e-01 -2.4310e-01\n",
      "   -1.2513e-01 -3.8355e-01 -7.9178e-01  6.1906e-02 -3.2823e-01\n",
      "   -9.4937e-02  9.8235e-02 -3.0134e-01 -6.3557e-01  3.7042e-01\n",
      "   -8.2194e-01 -1.1731e-01 -8.6907e-04 -1.7552e-02 -7.4956e-01\n",
      "    5.7172e-01  3.9391e-01 -8.3371e-02 -7.3418e-01  6.5981e-01\n",
      "   -2.1464e-01  7.7724e-01  5.4641e-01 -4.3390e-01  2.3649e-01\n",
      "    8.0526e-02 -4.9180e-01 -2.1383e-01  4.5046e-01 -1.3601e-02\n",
      "    2.3711e-01  4.4688e-01  5.4057e-01 -7.4005e-01 -5.9769e-01\n",
      "   -5.8165e-01 -3.9044e-01  4.4988e-01 -1.0840e+00  6.2622e-01\n",
      "   -2.5664e-01  6.5138e-02  2.1463e-01 -3.4471e-01  8.9520e-01\n",
      "    1.7907e-01 -3.9567e-01 -2.1849e-01 -5.7861e-01 -3.2486e-01\n",
      "    1.3456e+00  1.7552e-01  3.2005e-01 -9.7706e-02  5.9082e-01\n",
      "    6.4961e-01  6.9103e-01 -1.7168e-01 -6.3446e-01 -4.0012e-01\n",
      "    5.4781e-01 -5.8967e-02  4.2246e-01  3.8037e-01  4.0782e-01\n",
      "    6.5560e-02 -2.6935e-01  1.1199e-01  1.8840e-01  2.9157e-01]\n",
      "  [ 0.0000e+00  0.0000e+00  0.0000e+00  0.0000e+00  0.0000e+00\n",
      "    0.0000e+00  0.0000e+00  0.0000e+00  0.0000e+00  0.0000e+00\n",
      "    0.0000e+00  0.0000e+00  0.0000e+00  0.0000e+00  0.0000e+00\n",
      "    0.0000e+00  0.0000e+00  0.0000e+00  0.0000e+00  0.0000e+00\n",
      "    0.0000e+00  0.0000e+00  0.0000e+00  0.0000e+00  0.0000e+00\n",
      "    0.0000e+00  0.0000e+00  0.0000e+00  0.0000e+00  0.0000e+00\n",
      "    0.0000e+00  0.0000e+00  0.0000e+00  0.0000e+00  0.0000e+00\n",
      "    0.0000e+00  0.0000e+00  0.0000e+00  0.0000e+00  0.0000e+00\n",
      "    0.0000e+00  0.0000e+00  0.0000e+00  0.0000e+00  0.0000e+00\n",
      "    0.0000e+00  0.0000e+00  0.0000e+00  0.0000e+00  0.0000e+00\n",
      "    0.0000e+00  0.0000e+00  0.0000e+00  0.0000e+00  0.0000e+00\n",
      "    0.0000e+00  0.0000e+00  0.0000e+00  0.0000e+00  0.0000e+00\n",
      "    0.0000e+00  0.0000e+00  0.0000e+00  0.0000e+00  0.0000e+00\n",
      "    0.0000e+00  0.0000e+00  0.0000e+00  0.0000e+00  0.0000e+00\n",
      "    0.0000e+00  0.0000e+00  0.0000e+00  0.0000e+00  0.0000e+00\n",
      "    0.0000e+00  0.0000e+00  0.0000e+00  0.0000e+00  0.0000e+00\n",
      "    0.0000e+00  0.0000e+00  0.0000e+00  0.0000e+00  0.0000e+00\n",
      "    0.0000e+00  0.0000e+00  0.0000e+00  0.0000e+00  0.0000e+00\n",
      "    0.0000e+00  0.0000e+00  0.0000e+00  0.0000e+00  0.0000e+00\n",
      "    0.0000e+00  0.0000e+00  0.0000e+00  0.0000e+00  0.0000e+00]\n",
      "  [ 2.3437e-01 -1.1458e-01  3.7710e-01 -1.1004e+00  4.7905e-01\n",
      "    2.5033e-01 -2.6224e-01  6.1344e-01 -8.1246e-01  8.3378e-02\n",
      "    8.1448e-01  2.7504e-02 -2.3451e+00  1.2691e-01 -6.6335e-01\n",
      "   -9.0662e-01  6.0717e-02 -1.1402e-01 -5.4831e-01  7.2506e-01\n",
      "    1.1750e-01 -2.8819e-01 -4.6484e-01 -1.2405e-01 -2.1570e-01\n",
      "   -2.8751e-01 -9.3994e-01 -7.1055e-02  6.1737e-01  7.5715e-01\n",
      "    6.1062e-01 -2.8071e-01  4.1586e-01  2.5893e-01 -2.1585e-01\n",
      "    2.6475e-01 -9.7938e-02  7.6513e-03 -5.9143e-01  1.5065e-01\n",
      "   -5.2423e-01  9.6805e-01 -1.8401e-01  3.9020e-02 -6.7648e-02\n",
      "   -4.1301e-01  2.7858e-01  2.6063e-01  4.5711e-01  3.3834e-01\n",
      "   -9.1482e-03 -2.4160e-03 -2.6626e-02  3.6952e-01 -5.6277e-01\n",
      "   -6.3726e-01  6.0393e-01  1.0028e-01 -1.1510e-01 -4.1288e-01\n",
      "    7.1253e-01  5.3188e-01 -7.5426e-01  4.7506e-02  8.7028e-01\n",
      "   -3.3009e-04  5.6509e-02  4.0186e-01 -1.2253e-01 -2.9517e-01\n",
      "   -1.2286e-01  1.5378e-01  4.2412e-01  3.9650e-01  6.0240e-01\n",
      "    2.6117e-01  7.5668e-01  1.7012e-01  6.9602e-02 -1.0559e+00\n",
      "    1.9680e+00 -1.9167e-01 -8.2887e-01 -3.1613e-01 -1.6485e-01\n",
      "    1.5518e-01 -9.7039e-02 -2.0543e-01  2.2400e-01 -1.8720e-01\n",
      "    1.1794e+00 -2.9214e-01 -7.5279e-01 -7.0045e-01 -3.7511e-02\n",
      "   -4.0477e-02  2.8500e-01 -2.2868e-02 -3.0941e-01  1.7856e-01]\n",
      "  [ 0.0000e+00  0.0000e+00  0.0000e+00  0.0000e+00  0.0000e+00\n",
      "    0.0000e+00  0.0000e+00  0.0000e+00  0.0000e+00  0.0000e+00\n",
      "    0.0000e+00  0.0000e+00  0.0000e+00  0.0000e+00  0.0000e+00\n",
      "    0.0000e+00  0.0000e+00  0.0000e+00  0.0000e+00  0.0000e+00\n",
      "    0.0000e+00  0.0000e+00  0.0000e+00  0.0000e+00  0.0000e+00\n",
      "    0.0000e+00  0.0000e+00  0.0000e+00  0.0000e+00  0.0000e+00\n",
      "    0.0000e+00  0.0000e+00  0.0000e+00  0.0000e+00  0.0000e+00\n",
      "    0.0000e+00  0.0000e+00  0.0000e+00  0.0000e+00  0.0000e+00\n",
      "    0.0000e+00  0.0000e+00  0.0000e+00  0.0000e+00  0.0000e+00\n",
      "    0.0000e+00  0.0000e+00  0.0000e+00  0.0000e+00  0.0000e+00\n",
      "    0.0000e+00  0.0000e+00  0.0000e+00  0.0000e+00  0.0000e+00\n",
      "    0.0000e+00  0.0000e+00  0.0000e+00  0.0000e+00  0.0000e+00\n",
      "    0.0000e+00  0.0000e+00  0.0000e+00  0.0000e+00  0.0000e+00\n",
      "    0.0000e+00  0.0000e+00  0.0000e+00  0.0000e+00  0.0000e+00\n",
      "    0.0000e+00  0.0000e+00  0.0000e+00  0.0000e+00  0.0000e+00\n",
      "    0.0000e+00  0.0000e+00  0.0000e+00  0.0000e+00  0.0000e+00\n",
      "    0.0000e+00  0.0000e+00  0.0000e+00  0.0000e+00  0.0000e+00\n",
      "    0.0000e+00  0.0000e+00  0.0000e+00  0.0000e+00  0.0000e+00\n",
      "    0.0000e+00  0.0000e+00  0.0000e+00  0.0000e+00  0.0000e+00\n",
      "    0.0000e+00  0.0000e+00  0.0000e+00  0.0000e+00  0.0000e+00]\n",
      "  [ 3.9428e-01  2.8714e-01  1.7415e-01  1.0352e-01 -1.7884e-01\n",
      "   -2.7401e-01  6.1850e-01  1.7669e-02 -1.3634e-01 -3.5391e-01\n",
      "    9.3814e-02 -8.8543e-02 -4.5042e+00 -4.7756e-01  1.5823e-01\n",
      "   -2.9687e-01  2.3659e-01  3.9524e-01 -2.3933e-01  5.6446e-02\n",
      "    2.9453e-01  7.5042e-02  6.5989e-03 -1.4189e-01 -2.5378e-01\n",
      "    2.0519e-01  5.2149e-01 -1.8685e-01  2.5047e-01  3.3967e-01\n",
      "    2.2292e-01  1.3368e-01 -3.1925e-01  5.3601e-01  1.2530e-01\n",
      "    8.3594e-01  3.7784e-01 -6.2973e-01 -3.3479e-01  4.3726e-02\n",
      "   -4.8950e-01  3.0132e-02 -7.4242e-02 -2.7178e-01  5.2930e-01\n",
      "    1.9448e-01  1.4755e-01  4.1640e-01  9.8027e-02  7.1504e-01\n",
      "    5.1002e-02  4.1797e-01  4.0157e-01 -4.1583e-01  1.0066e-01\n",
      "    4.7286e-01 -2.3937e-01  1.4734e-01  7.7349e-02 -7.3901e-02\n",
      "    1.3242e-01 -3.6094e-01  2.7901e-01  6.6648e-02  1.8737e-02\n",
      "   -3.0703e-01  4.4560e-02 -8.5045e-02 -3.8383e-01 -4.9203e-01\n",
      "   -4.0706e-01 -2.7948e-01  5.1502e-01  4.7480e-01  4.2119e-01\n",
      "    3.0754e-02  2.7939e-01  2.0139e-03  1.3524e-01  1.6094e-01\n",
      "    2.2270e+00 -1.3410e-01  2.6203e-01  8.5261e-02 -6.0383e-02\n",
      "   -2.3469e-01 -1.8122e-01  3.6289e-01 -1.0767e-01 -6.9794e-02\n",
      "   -2.9326e-02  2.0861e-01 -1.4809e-01 -4.8942e-01  7.0389e-02\n",
      "    3.2745e-01 -3.8069e-01  9.9571e-03  1.6146e-01 -1.7353e-01]\n",
      "  [ 5.6720e-02 -3.8902e-01  7.7032e-01 -1.4875e-02  3.7909e-02\n",
      "   -5.4234e-01  4.0936e-01  2.1074e-01  1.1856e-01 -1.8790e-01\n",
      "   -2.8581e-01 -2.3610e-01 -4.5676e+00  6.2010e-02  4.9370e-01\n",
      "   -4.1895e-02 -4.6866e-01  7.7771e-02 -6.4287e-01 -4.1792e-01\n",
      "   -4.5834e-01  8.8922e-03  3.4758e-01 -6.1157e-01 -2.0762e-01\n",
      "    8.3032e-01  6.2037e-02  3.4968e-01 -2.3271e-02 -7.3700e-02\n",
      "    1.0390e-01  3.5395e-01 -6.7016e-01 -2.4109e-01 -2.2345e-01\n",
      "    7.3371e-01 -2.8066e-01 -4.0456e-01  4.1255e-01  4.2507e-01\n",
      "   -2.2075e-01  2.6017e-01  3.5116e-01 -2.1670e-01  7.3899e-01\n",
      "    3.4205e-01  1.1801e-01  4.8394e-01 -1.8614e-01  5.9519e-02\n",
      "   -3.8967e-01 -5.4298e-01  5.2037e-01 -3.8128e-01  2.4826e-01\n",
      "    2.1298e-01 -2.4151e-01 -3.0060e-01  2.5647e-01 -3.8365e-01\n",
      "    3.5835e-02  1.9914e-01  6.3166e-01  1.6795e-02  3.4116e-01\n",
      "    4.2599e-01  3.0324e-01  7.3260e-02  3.0627e-01 -1.8125e-01\n",
      "   -8.8585e-01  4.8583e-01  2.6184e-01 -9.2972e-02  1.1892e-01\n",
      "   -1.7321e-01  1.3761e-01 -6.7423e-01  3.9606e-01 -1.4167e-01\n",
      "    1.6666e+00  1.4752e-01 -7.2607e-03  5.0365e-01 -4.3474e-02\n",
      "   -3.6963e-01 -3.3699e-02  1.6026e-01  2.5642e-01  4.7975e-01\n",
      "    1.9133e-01  3.1318e-01 -3.5128e-01  9.3732e-02 -2.8354e-01\n",
      "   -2.9604e-01 -4.5009e-01 -2.4744e-01  3.3199e-01  2.7674e-02]\n",
      "  [ 1.6921e-01 -1.0961e-01 -1.9605e-01 -3.7190e-01 -5.3809e-01\n",
      "    1.6143e-01 -1.2472e-01 -2.5327e-01  2.1724e-01 -4.4773e-01\n",
      "   -3.3738e-01  5.1271e-02 -1.9254e+00  8.0200e-02 -1.2018e-01\n",
      "   -1.8411e-01 -2.4129e-01 -2.9985e-02 -2.5894e-01 -7.0611e-01\n",
      "   -2.9262e-01 -9.5777e-01  5.9425e-01  1.1004e-01  5.9313e-01\n",
      "   -3.7362e-01 -8.9370e-02 -1.9381e-01  2.5265e-01  1.5346e-01\n",
      "   -3.3002e-01 -4.4581e-01  2.1335e-01 -1.2414e-01  8.4336e-01\n",
      "   -1.7687e-01 -2.5986e-01  2.9974e-01  6.4823e-01  3.0100e-01\n",
      "   -3.4852e-01  1.3801e-01 -1.2071e-01  3.8762e-02  8.0792e-01\n",
      "    1.3280e+00 -3.2899e-01 -7.2136e-01  1.9149e-01  3.4674e-01\n",
      "    1.2602e-01 -1.2720e-01 -4.4757e-01  6.1585e-01  4.5474e-02\n",
      "   -8.1569e-01  1.4861e-01 -7.6584e-01  5.1131e-01 -1.4442e-01\n",
      "    5.2596e-01 -3.6575e-01 -4.5843e-01  6.8871e-02 -8.6490e-01\n",
      "   -2.2915e-01  8.4547e-02  1.3216e-01 -2.1891e-01 -4.4025e-01\n",
      "    1.0788e-01 -7.8365e-01 -3.9974e-01 -5.1236e-01 -3.9925e-01\n",
      "   -5.3213e-01 -1.2483e+00  1.2615e+00  8.5319e-01 -5.0844e-01\n",
      "    1.4387e+00 -1.3346e+00  6.9773e-01  1.2833e+00 -2.8119e-01\n",
      "    1.9917e-01  5.5888e-01 -2.0624e-01  3.1802e-01  3.0680e-01\n",
      "    2.2860e-01  1.6101e-01  4.6784e-01 -5.5731e-01 -4.7371e-01\n",
      "    6.3987e-01  1.0293e-01 -5.8306e-01 -3.2944e-01  4.8706e-03]\n",
      "  [ 3.8987e-01 -2.1006e-02  4.3018e-02  5.4069e-01  6.3726e-01\n",
      "    5.9388e-01  1.0121e+00 -6.0015e-01  3.0639e-01  1.6601e-01\n",
      "    1.0778e+00 -8.2695e-01 -2.1795e+00 -1.9980e-01  3.9003e-01\n",
      "   -3.9293e-02 -1.1044e-01 -1.3791e-01  3.4148e-01 -3.3803e-02\n",
      "    4.6337e-01  8.0928e-01 -3.3965e-01  1.5322e-01 -9.4139e-01\n",
      "    4.5350e-01 -2.2235e-01 -1.8608e-02 -1.6779e-01  3.5441e-01\n",
      "    4.4945e-01 -9.8369e-01 -6.7315e-02 -2.9698e-01  3.3970e-01\n",
      "    6.6342e-02  7.4386e-01 -3.0029e-02 -4.0435e-01 -8.0216e-02\n",
      "   -4.1319e-01 -2.8461e-01  1.1732e-01 -5.2727e-01  6.8133e-02\n",
      "   -1.2776e-01 -4.0506e-02  1.6473e-01 -7.3919e-01 -5.4266e-01\n",
      "    5.4855e-01  2.3414e-01  1.2135e-01 -5.1143e-02 -3.8761e-01\n",
      "    6.9137e-01 -2.6647e-02 -5.4964e-01 -7.4220e-01  4.4643e-01\n",
      "   -2.8946e-01 -4.3544e-01  3.7857e-01  5.5153e-01  1.4124e+00\n",
      "    8.1853e-01 -2.2609e-02  6.6467e-02 -4.0220e-01  6.3581e-01\n",
      "   -3.7921e-01 -5.1776e-01 -2.2836e-01  7.8747e-01  1.2154e-01\n",
      "   -6.2535e-01  1.0888e-01 -3.1543e-01  7.5143e-02 -9.2824e-02\n",
      "    9.6757e-01 -2.5593e-01  9.6380e-02  2.2089e-01  3.6299e-01\n",
      "   -2.0599e-01  5.4610e-01  1.3818e-01 -2.1987e-01  5.2388e-01\n",
      "    1.8329e-01  1.4531e-01 -1.8216e-01 -2.3294e-01  1.3101e-01\n",
      "    2.8780e-01  2.4731e-01 -3.4309e-01  2.7395e-01  3.1883e-01]\n",
      "  [-5.2726e-01 -1.2965e-01 -7.6777e-02 -6.8023e-01  1.2120e-01\n",
      "    3.2470e-01  7.0260e-01  3.4839e-01  9.4308e-02 -3.0244e-01\n",
      "   -6.6989e-02 -4.4971e-01 -9.7545e-01  8.3676e-02 -1.0510e-01\n",
      "    2.9533e-01  6.0486e-01 -6.5624e-01 -1.1888e-02  6.5025e-01\n",
      "    6.8312e-01  3.0102e-01  1.4102e+00 -5.7636e-01 -1.1714e-02\n",
      "    1.6429e+00 -1.8189e-01 -1.6778e-01 -7.1363e-01  5.0595e-01\n",
      "    6.6708e-01 -5.1287e-01  6.6334e-01 -3.7628e-01 -5.6845e-01\n",
      "    5.2748e-01  1.3954e+00  1.0046e-01  3.5891e-01 -7.2314e-01\n",
      "    1.3236e-01  2.5081e-01  6.6668e-03 -9.1190e-02  2.7884e-01\n",
      "   -3.8117e-02 -2.1811e-01 -5.5884e-01 -3.3080e-01  1.9202e-01\n",
      "    2.3947e-02  1.8790e-01 -1.5638e-01  5.6947e-02  2.2446e-01\n",
      "    1.0537e+00  6.3377e-01 -1.4063e-01 -6.6083e-01  2.4315e-01\n",
      "   -5.0513e-01  9.8569e-01 -5.6207e-01 -7.6882e-01  6.2709e-01\n",
      "   -3.2476e-01 -3.2626e-01 -1.4380e-01  3.0187e-01 -3.8387e-01\n",
      "    1.6737e-01 -8.6795e-02  1.0548e-01 -1.0456e+00 -9.1962e-01\n",
      "    3.0164e-01  2.2879e-01 -6.3550e-01  7.8274e-01 -3.8441e-01\n",
      "    1.3722e+00  4.7864e-01  1.7625e-01  1.0002e+00  8.8160e-02\n",
      "    7.9329e-01  2.8931e-01 -4.3351e-01 -2.6059e-01 -2.3290e-01\n",
      "    1.3332e+00 -1.0451e+00 -8.1386e-01 -1.9703e-01 -3.8812e-01\n",
      "   -4.0632e-01 -1.7768e-01  4.8581e-01  4.4648e-02  4.8248e-01]]], shape=(1, 10, 100), dtype=float32)\n"
     ]
    }
   ],
   "source": [
    "sample_embed = embedding_glove(text_vectorizer([random_sentence]))\n",
    "print(f\"Teks Asli:\\n{random_sentence}\\\n",
    "      \\n\\nVersi Embedded:\", sample_embed)"
   ]
  },
  {
   "cell_type": "markdown",
   "metadata": {
    "id": "urPAMmR4E2qI"
   },
   "source": [
    "# Pendefinisian dan Pelatihan Model"
   ]
  },
  {
   "cell_type": "markdown",
   "metadata": {
    "id": "jQ8z0Ywv69sB"
   },
   "source": [
    "#### Permodelan LSTM dengan GloVe weight initialization"
   ]
  },
  {
   "cell_type": "code",
   "execution_count": 469,
   "metadata": {
    "colab": {
     "base_uri": "https://localhost:8080/"
    },
    "id": "pQYteevi5BSY",
    "outputId": "d4010361-a4bb-4000-d60e-a0600f78d101"
   },
   "outputs": [
    {
     "name": "stdout",
     "output_type": "stream",
     "text": [
      "(None, 10, 100)\n",
      "(None, 64)\n"
     ]
    }
   ],
   "source": [
    "inputs = layers.Input(shape=(1,), dtype=\"string\")\n",
    "x = text_vectorizer(inputs)\n",
    "x = embedding_glove(x)\n",
    "print(x.shape)\n",
    "x = layers.LSTM(64, dropout=0.5)(x) \n",
    "print(x.shape)\n",
    "outputs = layers.Dense(3, activation=\"softmax\")(x)\n",
    "model_LSTM_GloVe = tf.keras.Model(inputs, outputs, name=\"model_LSTM_GloVe\")"
   ]
  },
  {
   "cell_type": "markdown",
   "metadata": {
    "id": "E5UhOSDK8aaG"
   },
   "source": [
    "menggunakan activation softmax karena output berupa 3 kategori"
   ]
  },
  {
   "cell_type": "code",
   "execution_count": 470,
   "metadata": {
    "colab": {
     "base_uri": "https://localhost:8080/"
    },
    "id": "i6WMz8ex5BXM",
    "outputId": "d155c827-1d51-4ace-cf1d-a0baade755f0"
   },
   "outputs": [
    {
     "name": "stdout",
     "output_type": "stream",
     "text": [
      "Model: \"model_LSTM_GloVe\"\n",
      "_________________________________________________________________\n",
      "Layer (type)                 Output Shape              Param #   \n",
      "=================================================================\n",
      "input_16 (InputLayer)        [(None, 1)]               0         \n",
      "_________________________________________________________________\n",
      "text_vectorization_10 (TextV (None, 10)                0         \n",
      "_________________________________________________________________\n",
      "embedding_11 (Embedding)     (None, 10, 100)           18595500  \n",
      "_________________________________________________________________\n",
      "lstm_14 (LSTM)               (None, 64)                42240     \n",
      "_________________________________________________________________\n",
      "dense_14 (Dense)             (None, 3)                 195       \n",
      "=================================================================\n",
      "Total params: 18,637,935\n",
      "Trainable params: 42,435\n",
      "Non-trainable params: 18,595,500\n",
      "_________________________________________________________________\n"
     ]
    }
   ],
   "source": [
    "model_LSTM_GloVe.summary()"
   ]
  },
  {
   "cell_type": "markdown",
   "metadata": {
    "id": "L9MqcMb_8ZF8"
   },
   "source": [
    "## Fit Model"
   ]
  },
  {
   "cell_type": "markdown",
   "metadata": {
    "id": "a7fiZ3848bz5"
   },
   "source": [
    "#### Compile model LSTM with Glove"
   ]
  },
  {
   "cell_type": "code",
   "execution_count": 471,
   "metadata": {
    "id": "u81RPdSg8iH-"
   },
   "outputs": [],
   "source": [
    "model_LSTM_GloVe.compile(loss=\"categorical_crossentropy\",\n",
    "                         optimizer=tf.keras.optimizers.Adam(),\n",
    "                         metrics=[\"accuracy\"])"
   ]
  },
  {
   "cell_type": "markdown",
   "metadata": {
    "id": "eS9_ZvLC_5r5"
   },
   "source": [
    "#### Training model LSTM with Glove"
   ]
  },
  {
   "cell_type": "code",
   "execution_count": 473,
   "metadata": {
    "colab": {
     "base_uri": "https://localhost:8080/"
    },
    "id": "Ih5Gsffv8oZz",
    "outputId": "908fbef5-d23f-40a8-cc0b-5a598956fbb4"
   },
   "outputs": [
    {
     "name": "stdout",
     "output_type": "stream",
     "text": [
      "Epoch 1/25\n",
      "7039/7039 - 129s - loss: 0.4755 - accuracy: 0.8325 - val_loss: 0.4339 - val_accuracy: 0.8527\n",
      "Epoch 2/25\n",
      "7039/7039 - 124s - loss: 0.4616 - accuracy: 0.8393 - val_loss: 0.4167 - val_accuracy: 0.8643\n",
      "Epoch 3/25\n",
      "7039/7039 - 126s - loss: 0.4501 - accuracy: 0.8447 - val_loss: 0.4106 - val_accuracy: 0.8653\n",
      "Epoch 4/25\n",
      "7039/7039 - 125s - loss: 0.4418 - accuracy: 0.8486 - val_loss: 0.4033 - val_accuracy: 0.8703\n",
      "Epoch 5/25\n",
      "7039/7039 - 123s - loss: 0.4368 - accuracy: 0.8513 - val_loss: 0.4007 - val_accuracy: 0.8718\n",
      "Epoch 6/25\n",
      "7039/7039 - 123s - loss: 0.4304 - accuracy: 0.8540 - val_loss: 0.3975 - val_accuracy: 0.8713\n",
      "Epoch 7/25\n",
      "7039/7039 - 129s - loss: 0.4271 - accuracy: 0.8556 - val_loss: 0.3914 - val_accuracy: 0.8752\n",
      "Epoch 8/25\n",
      "7039/7039 - 121s - loss: 0.4232 - accuracy: 0.8564 - val_loss: 0.3983 - val_accuracy: 0.8698\n",
      "Epoch 9/25\n",
      "7039/7039 - 126s - loss: 0.4194 - accuracy: 0.8586 - val_loss: 0.3922 - val_accuracy: 0.8737\n",
      "Epoch 10/25\n",
      "7039/7039 - 132s - loss: 0.4170 - accuracy: 0.8601 - val_loss: 0.3871 - val_accuracy: 0.8754\n",
      "Epoch 11/25\n",
      "7039/7039 - 132s - loss: 0.4158 - accuracy: 0.8608 - val_loss: 0.3826 - val_accuracy: 0.8789\n",
      "Epoch 12/25\n",
      "7039/7039 - 131s - loss: 0.4129 - accuracy: 0.8616 - val_loss: 0.3799 - val_accuracy: 0.8802\n",
      "Epoch 13/25\n",
      "7039/7039 - 132s - loss: 0.4105 - accuracy: 0.8626 - val_loss: 0.3796 - val_accuracy: 0.8790\n",
      "Epoch 14/25\n",
      "7039/7039 - 132s - loss: 0.4089 - accuracy: 0.8635 - val_loss: 0.3789 - val_accuracy: 0.8808\n",
      "Epoch 15/25\n",
      "7039/7039 - 130s - loss: 0.4075 - accuracy: 0.8641 - val_loss: 0.3796 - val_accuracy: 0.8794\n",
      "Epoch 16/25\n",
      "7039/7039 - 126s - loss: 0.4060 - accuracy: 0.8648 - val_loss: 0.3774 - val_accuracy: 0.8814\n",
      "Epoch 17/25\n",
      "7039/7039 - 121s - loss: 0.4054 - accuracy: 0.8650 - val_loss: 0.3746 - val_accuracy: 0.8818\n",
      "Epoch 18/25\n",
      "7039/7039 - 120s - loss: 0.4042 - accuracy: 0.8651 - val_loss: 0.3762 - val_accuracy: 0.8818\n",
      "Epoch 19/25\n",
      "7039/7039 - 119s - loss: 0.4023 - accuracy: 0.8655 - val_loss: 0.3731 - val_accuracy: 0.8825\n",
      "Epoch 20/25\n",
      "7039/7039 - 119s - loss: 0.4018 - accuracy: 0.8659 - val_loss: 0.3798 - val_accuracy: 0.8787\n",
      "Epoch 21/25\n",
      "7039/7039 - 120s - loss: 0.4019 - accuracy: 0.8663 - val_loss: 0.3719 - val_accuracy: 0.8822\n",
      "Epoch 22/25\n",
      "7039/7039 - 120s - loss: 0.4021 - accuracy: 0.8664 - val_loss: 0.3711 - val_accuracy: 0.8832\n",
      "Epoch 23/25\n",
      "7039/7039 - 119s - loss: 0.4000 - accuracy: 0.8664 - val_loss: 0.3719 - val_accuracy: 0.8835\n",
      "Epoch 24/25\n",
      "7039/7039 - 122s - loss: 0.3993 - accuracy: 0.8672 - val_loss: 0.3692 - val_accuracy: 0.8836\n",
      "Epoch 25/25\n",
      "7039/7039 - 130s - loss: 0.3982 - accuracy: 0.8675 - val_loss: 0.3709 - val_accuracy: 0.8843\n"
     ]
    }
   ],
   "source": [
    "model_LSTM_GloVe_history = model_LSTM_GloVe.fit(train_sentences,\n",
    "                                                train_labels,\n",
    "                                                batch_size=32, \n",
    "                                                epochs=25,\n",
    "                                                validation_data=(val_sentences, val_labels),\n",
    "                                                verbose=2)"
   ]
  },
  {
   "cell_type": "code",
   "execution_count": 474,
   "metadata": {
    "colab": {
     "base_uri": "https://localhost:8080/",
     "height": 545
    },
    "id": "_xl8twZTFxCW",
    "outputId": "b7a3c48e-8333-4fda-9ef6-15df6a9cfc7c"
   },
   "outputs": [
    {
     "data": {
      "image/png": "[encoded data removed]",
      "text/plain": [
       "<Figure size 432x288 with 1 Axes>"
      ]
     },
     "metadata": {
      "needs_background": "light"
     },
     "output_type": "display_data"
    },
    {
     "data": {
      "image/png": "[encoded data removed]",
      "text/plain": [
       "<Figure size 432x288 with 1 Axes>"
      ]
     },
     "metadata": {
      "needs_background": "light"
     },
     "output_type": "display_data"
    }
   ],
   "source": [
    "# Plot results\n",
    "acc = model_LSTM_GloVe_history.history[\"accuracy\"]\n",
    "val_acc = model_LSTM_GloVe_history.history['val_accuracy']\n",
    "loss = model_LSTM_GloVe_history.history['loss']\n",
    "val_loss = model_LSTM_GloVe_history.history['val_loss']\n",
    "\n",
    "epochs = range(1, len(acc)+1)\n",
    "\n",
    "plt.plot(epochs, acc, 'g', label='Training accuracy')\n",
    "plt.plot(epochs, val_acc, 'r', label='Validation accuracy')\n",
    "plt.title('Training and validation accuracy')\n",
    "plt.legend()\n",
    "\n",
    "plt.figure()\n",
    "\n",
    "plt.plot(epochs, loss, 'g', label='Training loss')\n",
    "plt.plot(epochs, val_loss, 'r', label='Validation loss')\n",
    "plt.title('Training and validation loss')\n",
    "plt.legend()\n",
    "\n",
    "plt.show()"
   ]
  },
  {
   "cell_type": "markdown",
   "metadata": {
    "id": "sJAkEyRa9mwd"
   },
   "source": [
    "## Model LSTM with word2vec Evaluation"
   ]
  },
  {
   "cell_type": "code",
   "execution_count": 481,
   "metadata": {
    "id": "1npQ5ZY19uMj"
   },
   "outputs": [],
   "source": [
    "y_pred = model_LSTM_GloVe.predict(val_sentences)"
   ]
  },
  {
   "cell_type": "code",
   "execution_count": 482,
   "metadata": {
    "id": "VZEa-CS999cM"
   },
   "outputs": [],
   "source": [
    "def calculate_results(y_true, y_pred):\n",
    "  model_accuracy = accuracy_score(y_true, y_pred) * 100\n",
    "  model_precision, model_recall, model_f1, _ = precision_recall_fscore_support(y_true, y_pred, average=\"weighted\")\n",
    "  model_results = {\"accuracy\": model_accuracy,\n",
    "                  \"precision\": model_precision,\n",
    "                  \"recall\": model_recall,\n",
    "                  \"f1\": model_f1}\n",
    "  return model_results"
   ]
  },
  {
   "cell_type": "code",
   "execution_count": 483,
   "metadata": {
    "colab": {
     "base_uri": "https://localhost:8080/"
    },
    "id": "PTYEQbB599o2",
    "outputId": "acc55697-8a69-4462-bee3-a4dd332f4aee"
   },
   "outputs": [
    {
     "data": {
      "text/plain": [
       "{'accuracy': 88.43148398096186,\n",
       " 'f1': 0.8823482959899673,\n",
       " 'precision': 0.8931181805544617,\n",
       " 'recall': 0.8843148398096186}"
      ]
     },
     "execution_count": 483,
     "metadata": {},
     "output_type": "execute_result"
    }
   ],
   "source": [
    "model_LSTM_GloVe_results = calculate_results(y_true= val_labels.argmax(axis=1), \n",
    "                                    y_pred= y_pred.argmax(axis=1))\n",
    "model_LSTM_GloVe_results"
   ]
  },
  {
   "cell_type": "markdown",
   "metadata": {
    "id": "eORIeyNxl0Kl"
   },
   "source": [
    "# Model Evaluation"
   ]
  },
  {
   "cell_type": "code",
   "execution_count": 484,
   "metadata": {
    "colab": {
     "base_uri": "https://localhost:8080/"
    },
    "id": "xsOJwmUQl0-Q",
    "outputId": "345dc085-2f49-41a5-b6d3-eeb4a570b4e0"
   },
   "outputs": [
    {
     "name": "stdout",
     "output_type": "stream",
     "text": [
      "Hasil Performa dengan Layers Embedding :\n",
      "\n",
      " {'accuracy': 88.43148398096186, 'precision': 0.8931181805544617, 'recall': 0.8843148398096186, 'f1': 0.8823482959899673}\n"
     ]
    }
   ],
   "source": [
    "print('Hasil Performa dengan Layers Embedding :')\n",
    "print('\\n',model_LSTM_GloVe_results)"
   ]
  },
  {
   "cell_type": "markdown",
   "metadata": {
    "id": "K2kTiZFbiD0I"
   },
   "source": [
    "# Data Inference"
   ]
  },
  {
   "cell_type": "markdown",
   "metadata": {
    "id": "OfsDy9mO4n9U"
   },
   "source": [
    "#### membuat data baru"
   ]
  },
  {
   "cell_type": "code",
   "execution_count": 485,
   "metadata": {
    "id": "ZfdCFJ_PdVhz"
   },
   "outputs": [],
   "source": [
    "new_tweets = [\n",
    "            \"Japanese nationalists are targeting their own medals\",\n",
    "            \"The Indian mens hockey team beat current Olympycs\",\n",
    "            \"Wales wins its firstever Olympic gold after 20 years\"\n",
    "]"
   ]
  },
  {
   "cell_type": "markdown",
   "metadata": {
    "id": "6C9TwGuG4n9V"
   },
   "source": [
    "#### melakukan prediksi terhadap data baru"
   ]
  },
  {
   "cell_type": "code",
   "execution_count": 486,
   "metadata": {
    "colab": {
     "base_uri": "https://localhost:8080/"
    },
    "id": "ru7Pgr9Iissf",
    "outputId": "6fcee3b4-8584-45c9-d334-71ce6242be01"
   },
   "outputs": [
    {
     "data": {
      "text/plain": [
       "array([0, 0, 2])"
      ]
     },
     "execution_count": 486,
     "metadata": {},
     "output_type": "execute_result"
    }
   ],
   "source": [
    "predict = model_LSTM_GloVe.predict(new_tweets)\n",
    "predict.argmax(axis=1)"
   ]
  },
  {
   "cell_type": "markdown",
   "metadata": {
    "id": "zkwUFtPJ4n9V"
   },
   "source": [
    "dari hasil prediksi dengan menggunakan data baru didapatkan hasil sebagai berikut:\n",
    "* tweet pertama termasuk kedalam label tweet Netral\n",
    "* tweet kedua termasuk kedalam label tweet Netral\n",
    "* tweet ketiga termasuk kedalam label tweet Positive"
   ]
  }
 ],
 "metadata": {
  "accelerator": "GPU",
  "colab": {
   "name": "LSTM_Glove.ipynb",
   "provenance": []
  },
  "kernelspec": {
   "display_name": "Python 3 (ipykernel)",
   "language": "python",
   "name": "python3"
  },
  "language_info": {
   "codemirror_mode": {
    "name": "ipython",
    "version": 3
   },
   "file_extension": ".py",
   "mimetype": "text/x-python",
   "name": "python",
   "nbconvert_exporter": "python",
   "pygments_lexer": "ipython3",
   "version": "3.9.6"
  }
 },
 "nbformat": 4,
 "nbformat_minor": 1
}
