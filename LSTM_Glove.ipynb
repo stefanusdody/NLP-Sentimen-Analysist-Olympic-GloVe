{
  "nbformat": 4,
  "nbformat_minor": 0,
  "metadata": {
    "accelerator": "GPU",
    "colab": {
      "name": "LSTM_Glove.ipynb",
      "provenance": [],
      "collapsed_sections": [
        "Ad9kFQZSZBIB",
        "M4FqxBjbZBIC",
        "ADARPOuWZBID",
        "4xfYjcBydBhF",
        "0cmjMoHTZBIH",
        "toVfD-qlgN_W",
        "rDAiRXQtgk8s",
        "n-e-zFU6g7H8",
        "B80rIloviFUq",
        "RJfBL5tl0Shj",
        "g-xzLGHH00MP",
        "QEVJ_DyUZBIO",
        "FtDv2y77GE-D",
        "RNxlR8fwG4Js",
        "XpaLRVZD7lV_",
        "HtEqSy5o4n84",
        "WfNTcjmzUrgj",
        "M-emo-gbVPmu",
        "8pD9nFvz1sew",
        "qpGOuBKl1sex",
        "7VvJ3q-51sez",
        "KcBR_9Qz1sfa",
        "SZ-MIpKC4Bc0",
        "c1O5d08bi39H",
        "rGPFIWNIjCkT",
        "bPFkwX3kyefh",
        "HeWnkEFoFNjo",
        "rsd6nNxBEWu9",
        "YpbWHk8OueQy"
      ]
    },
    "kernelspec": {
      "display_name": "Python 3 (ipykernel)",
      "language": "python",
      "name": "python3"
    },
    "language_info": {
      "codemirror_mode": {
        "name": "ipython",
        "version": 3
      },
      "file_extension": ".py",
      "mimetype": "text/x-python",
      "name": "python",
      "nbconvert_exporter": "python",
      "pygments_lexer": "ipython3",
      "version": "3.9.6"
    }
  },
  "cells": [
    {
      "cell_type": "markdown",
      "metadata": {
        "id": "A61bdqbL4tLa"
      },
      "source": [
        "# Introductions"
      ]
    },
    {
      "cell_type": "markdown",
      "metadata": {
        "id": "g5PxXuZdYRBo"
      },
      "source": [
        "#### Dataset\n",
        "Berisi mengenai tweet pada Olimpiade Tokyo 2021\n",
        "\n",
        "#### Sumber Dataset\n",
        "Data berasal dari Kaggle dengan link: https://www.kaggle.com/amritpal333/tokyo-olympics-2021-tweets?select=Olympics_Tokyo_tweets.csv\n",
        "\n",
        "#### Objectivity\n",
        "Membuat perbadingan performa Sentimen Analysis terhadap text tweeter pada olimpiade 2021 dengan metode Word Embedding GloVe"
      ]
    },
    {
      "cell_type": "markdown",
      "metadata": {
        "id": "J7MMMMvNYByX"
      },
      "source": [
        "# Import Pustaka"
      ]
    },
    {
      "cell_type": "code",
      "metadata": {
        "colab": {
          "base_uri": "https://localhost:8080/"
        },
        "id": "WCthnApaZLGt",
        "outputId": "30a39699-6d31-4a16-d582-74199aa33fcf"
      },
      "source": [
        "from google.colab import drive\n",
        "drive.mount('/content/drive')"
      ],
      "execution_count": null,
      "outputs": [
        {
          "name": "stdout",
          "output_type": "stream",
          "text": [
            "Drive already mounted at /content/drive; to attempt to forcibly remount, call drive.mount(\"/content/drive\", force_remount=True).\n"
          ]
        }
      ]
    },
    {
      "cell_type": "code",
      "metadata": {
        "colab": {
          "base_uri": "https://localhost:8080/"
        },
        "id": "hl_vKAIlXg0a",
        "outputId": "7837328b-9930-4b46-9cd6-82f5374c7a5b"
      },
      "source": [
        "import pandas as pd\n",
        "import numpy as np\n",
        "import matplotlib.pyplot as plt\n",
        "import seaborn as sns\n",
        "import tensorflow as tf\n",
        "\n",
        "import os\n",
        "import re\n",
        "import string\n",
        "import nltk\n",
        "import gensim\n",
        "import random\n",
        "nltk.download('stopwords')\n",
        "from tensorflow import keras\n",
        "from textblob import TextBlob\n",
        "from wordcloud import WordCloud\n",
        "from nltk.corpus import stopwords\n",
        "from collections import Counter\n",
        "from gensim.models import Word2Vec\n",
        "\n",
        "from keras.models import Sequential\n",
        "from tensorflow.keras.layers.experimental.preprocessing import TextVectorization\n",
        "from keras.preprocessing.text import Tokenizer\n",
        "from keras.layers import Dense, Embedding,LSTM\n",
        "from tensorflow.keras import layers\n",
        "from tensorflow.keras.utils import to_categorical\n",
        "from keras.preprocessing.sequence import pad_sequences\n",
        "\n",
        "from sklearn.model_selection import train_test_split\n",
        "from sklearn.metrics import accuracy_score, precision_recall_fscore_support\n",
        "from sklearn.metrics import classification_report\n",
        "\n",
        "%matplotlib inline"
      ],
      "execution_count": null,
      "outputs": [
        {
          "name": "stdout",
          "output_type": "stream",
          "text": [
            "[nltk_data] Downloading package stopwords to /root/nltk_data...\n",
            "[nltk_data]   Package stopwords is already up-to-date!\n"
          ]
        }
      ]
    },
    {
      "cell_type": "markdown",
      "metadata": {
        "id": "rOhYNVoDYU7o"
      },
      "source": [
        "# Data Loading"
      ]
    },
    {
      "cell_type": "code",
      "metadata": {
        "colab": {
          "base_uri": "https://localhost:8080/"
        },
        "id": "xNYFISDDYE1y",
        "outputId": "abc7be3d-b4af-477e-d76e-8673426bd4f6"
      },
      "source": [
        "df = pd.read_csv('/content/drive/MyDrive/milestone2/Olympics_Tokyo_tweets.csv')"
      ],
      "execution_count": null,
      "outputs": [
        {
          "name": "stderr",
          "output_type": "stream",
          "text": [
            "/usr/local/lib/python3.7/dist-packages/IPython/core/interactiveshell.py:2718: DtypeWarning: Columns (0,4,5,6,10) have mixed types.Specify dtype option on import or set low_memory=False.\n",
            "  interactivity=interactivity, compiler=compiler, result=result)\n"
          ]
        }
      ]
    },
    {
      "cell_type": "markdown",
      "metadata": {
        "id": "30K5xOcd1seS"
      },
      "source": [
        "#### melihat data teratas"
      ]
    },
    {
      "cell_type": "code",
      "metadata": {
        "colab": {
          "base_uri": "https://localhost:8080/",
          "height": 445
        },
        "id": "rnBaDhD7Ydq7",
        "outputId": "7c3706ba-1e57-47c9-f20c-d140aa57daa8"
      },
      "source": [
        "df.head()"
      ],
      "execution_count": null,
      "outputs": [
        {
          "data": {
            "text/html": [
              "<div>\n",
              "<style scoped>\n",
              "    .dataframe tbody tr th:only-of-type {\n",
              "        vertical-align: middle;\n",
              "    }\n",
              "\n",
              "    .dataframe tbody tr th {\n",
              "        vertical-align: top;\n",
              "    }\n",
              "\n",
              "    .dataframe thead th {\n",
              "        text-align: right;\n",
              "    }\n",
              "</style>\n",
              "<table border=\"1\" class=\"dataframe\">\n",
              "  <thead>\n",
              "    <tr style=\"text-align: right;\">\n",
              "      <th></th>\n",
              "      <th>id</th>\n",
              "      <th>text</th>\n",
              "      <th>user_screen_name</th>\n",
              "      <th>user_location</th>\n",
              "      <th>retweet_count</th>\n",
              "      <th>favorited</th>\n",
              "      <th>favorite_count</th>\n",
              "      <th>user_description</th>\n",
              "      <th>user_created_at</th>\n",
              "      <th>user_followers</th>\n",
              "      <th>user_friends</th>\n",
              "      <th>date</th>\n",
              "      <th>language</th>\n",
              "    </tr>\n",
              "  </thead>\n",
              "  <tbody>\n",
              "    <tr>\n",
              "      <th>0</th>\n",
              "      <td>1419334065375924227</td>\n",
              "      <td>Rejected sports for the 2020 Olympics include ...</td>\n",
              "      <td>tbelmontedu</td>\n",
              "      <td>New Jersey</td>\n",
              "      <td>0</td>\n",
              "      <td>False</td>\n",
              "      <td>0</td>\n",
              "      <td>High School Language Arts Teacher. Technology ...</td>\n",
              "      <td>2013-01-21 00:03:31</td>\n",
              "      <td>778.0</td>\n",
              "      <td>661</td>\n",
              "      <td>2021-07-25 16:29:45</td>\n",
              "      <td>en</td>\n",
              "    </tr>\n",
              "    <tr>\n",
              "      <th>1</th>\n",
              "      <td>1419334059424043009</td>\n",
              "      <td>Why is the Team USA men basketball team playin...</td>\n",
              "      <td>silverchasm</td>\n",
              "      <td>Lynwood, CA</td>\n",
              "      <td>0</td>\n",
              "      <td>False</td>\n",
              "      <td>0</td>\n",
              "      <td>bleh</td>\n",
              "      <td>2014-05-13 18:54:40</td>\n",
              "      <td>66.0</td>\n",
              "      <td>553</td>\n",
              "      <td>2021-07-25 16:29:44</td>\n",
              "      <td>en</td>\n",
              "    </tr>\n",
              "    <tr>\n",
              "      <th>2</th>\n",
              "      <td>1419334056161030146</td>\n",
              "      <td>@my_hive_away I'm watching kayaking on the Oly...</td>\n",
              "      <td>cshaw12897514</td>\n",
              "      <td>NaN</td>\n",
              "      <td>0</td>\n",
              "      <td>False</td>\n",
              "      <td>0</td>\n",
              "      <td>not much to say, not very interesting. but I'm...</td>\n",
              "      <td>2020-10-19 14:15:06</td>\n",
              "      <td>494.0</td>\n",
              "      <td>757</td>\n",
              "      <td>2021-07-25 16:29:43</td>\n",
              "      <td>en</td>\n",
              "    </tr>\n",
              "    <tr>\n",
              "      <th>3</th>\n",
              "      <td>1419334052876795905</td>\n",
              "      <td>While girls her age are still trying to figuri...</td>\n",
              "      <td>AdultMediaTV</td>\n",
              "      <td>United States</td>\n",
              "      <td>0</td>\n",
              "      <td>False</td>\n",
              "      <td>0</td>\n",
              "      <td>Design | Photography | Film 18+ Test ready\\nIn...</td>\n",
              "      <td>2015-08-18 22:33:39</td>\n",
              "      <td>19.0</td>\n",
              "      <td>3</td>\n",
              "      <td>2021-07-25 16:29:42</td>\n",
              "      <td>en</td>\n",
              "    </tr>\n",
              "    <tr>\n",
              "      <th>4</th>\n",
              "      <td>1419334052180594699</td>\n",
              "      <td>@omensfromeden patty mills is at the Olympics???</td>\n",
              "      <td>muddyfoxglove</td>\n",
              "      <td>hozier.tamino.florence.etc.</td>\n",
              "      <td>0</td>\n",
              "      <td>False</td>\n",
              "      <td>0</td>\n",
              "      <td>what if i was a bog body and you were a bog bo...</td>\n",
              "      <td>2016-11-20 06:02:11</td>\n",
              "      <td>1153.0</td>\n",
              "      <td>622</td>\n",
              "      <td>2021-07-25 16:29:42</td>\n",
              "      <td>en</td>\n",
              "    </tr>\n",
              "  </tbody>\n",
              "</table>\n",
              "</div>"
            ],
            "text/plain": [
              "                    id  ... language\n",
              "0  1419334065375924227  ...       en\n",
              "1  1419334059424043009  ...       en\n",
              "2  1419334056161030146  ...       en\n",
              "3  1419334052876795905  ...       en\n",
              "4  1419334052180594699  ...       en\n",
              "\n",
              "[5 rows x 13 columns]"
            ]
          },
          "execution_count": 4,
          "metadata": {},
          "output_type": "execute_result"
        }
      ]
    },
    {
      "cell_type": "markdown",
      "metadata": {
        "id": "_CgW-BUb1seT"
      },
      "source": [
        "#### Melihat shape data"
      ]
    },
    {
      "cell_type": "code",
      "metadata": {
        "colab": {
          "base_uri": "https://localhost:8080/"
        },
        "id": "J3GDRIspT7L5",
        "outputId": "44286381-604e-4632-91db-a6b9b7abb4ad"
      },
      "source": [
        "df.shape"
      ],
      "execution_count": null,
      "outputs": [
        {
          "data": {
            "text/plain": [
              "(312825, 13)"
            ]
          },
          "execution_count": 5,
          "metadata": {},
          "output_type": "execute_result"
        }
      ]
    },
    {
      "cell_type": "markdown",
      "metadata": {
        "id": "IsdDD-4H1seU"
      },
      "source": [
        "data terdiri dari 13 columns dan 312825 rows"
      ]
    },
    {
      "cell_type": "markdown",
      "metadata": {
        "id": "ppq-m-tI1seV"
      },
      "source": [
        "#### Melihat statistika data"
      ]
    },
    {
      "cell_type": "code",
      "metadata": {
        "colab": {
          "base_uri": "https://localhost:8080/",
          "height": 297
        },
        "id": "8Vmvvcts1seV",
        "outputId": "5ba80698-3e3d-4148-d699-5f473b8db985"
      },
      "source": [
        "df.describe()"
      ],
      "execution_count": null,
      "outputs": [
        {
          "data": {
            "text/html": [
              "<div>\n",
              "<style scoped>\n",
              "    .dataframe tbody tr th:only-of-type {\n",
              "        vertical-align: middle;\n",
              "    }\n",
              "\n",
              "    .dataframe tbody tr th {\n",
              "        vertical-align: top;\n",
              "    }\n",
              "\n",
              "    .dataframe thead th {\n",
              "        text-align: right;\n",
              "    }\n",
              "</style>\n",
              "<table border=\"1\" class=\"dataframe\">\n",
              "  <thead>\n",
              "    <tr style=\"text-align: right;\">\n",
              "      <th></th>\n",
              "      <th>user_followers</th>\n",
              "    </tr>\n",
              "  </thead>\n",
              "  <tbody>\n",
              "    <tr>\n",
              "      <th>count</th>\n",
              "      <td>3.127950e+05</td>\n",
              "    </tr>\n",
              "    <tr>\n",
              "      <th>mean</th>\n",
              "      <td>8.878023e+04</td>\n",
              "    </tr>\n",
              "    <tr>\n",
              "      <th>std</th>\n",
              "      <td>1.184703e+06</td>\n",
              "    </tr>\n",
              "    <tr>\n",
              "      <th>min</th>\n",
              "      <td>0.000000e+00</td>\n",
              "    </tr>\n",
              "    <tr>\n",
              "      <th>25%</th>\n",
              "      <td>1.130000e+02</td>\n",
              "    </tr>\n",
              "    <tr>\n",
              "      <th>50%</th>\n",
              "      <td>4.740000e+02</td>\n",
              "    </tr>\n",
              "    <tr>\n",
              "      <th>75%</th>\n",
              "      <td>2.048000e+03</td>\n",
              "    </tr>\n",
              "    <tr>\n",
              "      <th>max</th>\n",
              "      <td>7.806182e+07</td>\n",
              "    </tr>\n",
              "  </tbody>\n",
              "</table>\n",
              "</div>"
            ],
            "text/plain": [
              "       user_followers\n",
              "count    3.127950e+05\n",
              "mean     8.878023e+04\n",
              "std      1.184703e+06\n",
              "min      0.000000e+00\n",
              "25%      1.130000e+02\n",
              "50%      4.740000e+02\n",
              "75%      2.048000e+03\n",
              "max      7.806182e+07"
            ]
          },
          "execution_count": 6,
          "metadata": {},
          "output_type": "execute_result"
        }
      ]
    },
    {
      "cell_type": "markdown",
      "metadata": {
        "id": "JDf2yomn1seV"
      },
      "source": [
        "#### Melihat columns data"
      ]
    },
    {
      "cell_type": "code",
      "metadata": {
        "colab": {
          "base_uri": "https://localhost:8080/"
        },
        "id": "sKt63JTG1seW",
        "outputId": "54f26981-0810-4b3a-970d-103b34757536"
      },
      "source": [
        "df.columns"
      ],
      "execution_count": null,
      "outputs": [
        {
          "data": {
            "text/plain": [
              "Index(['id', 'text', 'user_screen_name', 'user_location', 'retweet_count',\n",
              "       'favorited', 'favorite_count', 'user_description', 'user_created_at',\n",
              "       'user_followers', 'user_friends', 'date', 'language'],\n",
              "      dtype='object')"
            ]
          },
          "execution_count": 7,
          "metadata": {},
          "output_type": "execute_result"
        }
      ]
    },
    {
      "cell_type": "markdown",
      "metadata": {
        "id": "Xy7IeRYbZBIA"
      },
      "source": [
        "# Data Cleaning"
      ]
    },
    {
      "cell_type": "markdown",
      "metadata": {
        "id": "Ad9kFQZSZBIB"
      },
      "source": [
        "#### Membuat dataset baru"
      ]
    },
    {
      "cell_type": "code",
      "metadata": {
        "colab": {
          "base_uri": "https://localhost:8080/"
        },
        "id": "ta4UbPtzbjWs",
        "outputId": "bccfb788-0b70-4c87-9057-ef00e8554217"
      },
      "source": [
        "dataset = pd.DataFrame(df['text'].values, columns=['tweets'])\n",
        "dataset"
      ],
      "execution_count": null,
      "outputs": [
        {
          "data": {
            "text/html": [
              "<div>\n",
              "<style scoped>\n",
              "    .dataframe tbody tr th:only-of-type {\n",
              "        vertical-align: middle;\n",
              "    }\n",
              "\n",
              "    .dataframe tbody tr th {\n",
              "        vertical-align: top;\n",
              "    }\n",
              "\n",
              "    .dataframe thead th {\n",
              "        text-align: right;\n",
              "    }\n",
              "</style>\n",
              "<table border=\"1\" class=\"dataframe\">\n",
              "  <thead>\n",
              "    <tr style=\"text-align: right;\">\n",
              "      <th></th>\n",
              "      <th>tweets</th>\n",
              "    </tr>\n",
              "  </thead>\n",
              "  <tbody>\n",
              "    <tr>\n",
              "      <th>0</th>\n",
              "      <td>Rejected sports for the 2020 Olympics include ...</td>\n",
              "    </tr>\n",
              "    <tr>\n",
              "      <th>1</th>\n",
              "      <td>Why is the Team USA men basketball team playin...</td>\n",
              "    </tr>\n",
              "    <tr>\n",
              "      <th>2</th>\n",
              "      <td>@my_hive_away I'm watching kayaking on the Oly...</td>\n",
              "    </tr>\n",
              "    <tr>\n",
              "      <th>3</th>\n",
              "      <td>While girls her age are still trying to figuri...</td>\n",
              "    </tr>\n",
              "    <tr>\n",
              "      <th>4</th>\n",
              "      <td>@omensfromeden patty mills is at the Olympics???</td>\n",
              "    </tr>\n",
              "    <tr>\n",
              "      <th>...</th>\n",
              "      <td>...</td>\n",
              "    </tr>\n",
              "    <tr>\n",
              "      <th>312820</th>\n",
              "      <td>This artistic swimming is unreal. #Olympics</td>\n",
              "    </tr>\n",
              "    <tr>\n",
              "      <th>312821</th>\n",
              "      <td>@fZaq6zCW8aVobP5 @Noormehr_Javan @Olympics @wo...</td>\n",
              "    </tr>\n",
              "    <tr>\n",
              "      <th>312822</th>\n",
              "      <td>finally someone said it!\\n@__ashutosh___ \\ndif...</td>\n",
              "    </tr>\n",
              "    <tr>\n",
              "      <th>312823</th>\n",
              "      <td>@hnonoo75 @Olympics @BahrainOlympic Congratula...</td>\n",
              "    </tr>\n",
              "    <tr>\n",
              "      <th>312824</th>\n",
              "      <td>Champian you won billion hearts today @Neeraj_...</td>\n",
              "    </tr>\n",
              "  </tbody>\n",
              "</table>\n",
              "<p>312825 rows × 1 columns</p>\n",
              "</div>"
            ],
            "text/plain": [
              "                                                   tweets\n",
              "0       Rejected sports for the 2020 Olympics include ...\n",
              "1       Why is the Team USA men basketball team playin...\n",
              "2       @my_hive_away I'm watching kayaking on the Oly...\n",
              "3       While girls her age are still trying to figuri...\n",
              "4        @omensfromeden patty mills is at the Olympics???\n",
              "...                                                   ...\n",
              "312820        This artistic swimming is unreal. #Olympics\n",
              "312821  @fZaq6zCW8aVobP5 @Noormehr_Javan @Olympics @wo...\n",
              "312822  finally someone said it!\\n@__ashutosh___ \\ndif...\n",
              "312823  @hnonoo75 @Olympics @BahrainOlympic Congratula...\n",
              "312824  Champian you won billion hearts today @Neeraj_...\n",
              "\n",
              "[312825 rows x 1 columns]"
            ]
          },
          "execution_count": 8,
          "metadata": {},
          "output_type": "execute_result"
        }
      ]
    },
    {
      "cell_type": "markdown",
      "metadata": {
        "id": "02BBgBI01seX"
      },
      "source": [
        "Dataset baru hanya mengambil feature tweets untuk dilakukan proses sentiment analysis"
      ]
    },
    {
      "cell_type": "markdown",
      "metadata": {
        "id": "M4FqxBjbZBIC"
      },
      "source": [
        "#### Melakukan pengecekan missing values"
      ]
    },
    {
      "cell_type": "code",
      "metadata": {
        "colab": {
          "base_uri": "https://localhost:8080/"
        },
        "id": "U1rCmGANN2Px",
        "outputId": "dc785674-37f9-4f19-fb08-148d20ca9ad7"
      },
      "source": [
        "dataset.isna().sum()"
      ],
      "execution_count": null,
      "outputs": [
        {
          "data": {
            "text/plain": [
              "tweets    4\n",
              "dtype: int64"
            ]
          },
          "execution_count": 9,
          "metadata": {},
          "output_type": "execute_result"
        }
      ]
    },
    {
      "cell_type": "markdown",
      "metadata": {
        "id": "IqVmlG4d1seZ"
      },
      "source": [
        "terdapat 4 missing values pada features tweets"
      ]
    },
    {
      "cell_type": "markdown",
      "metadata": {
        "id": "ADARPOuWZBID"
      },
      "source": [
        "#### Mengatasi missing values"
      ]
    },
    {
      "cell_type": "code",
      "metadata": {
        "colab": {
          "base_uri": "https://localhost:8080/"
        },
        "id": "qJnR339sbxKk",
        "outputId": "56aa8f96-fb57-47bd-9302-3af878be662d"
      },
      "source": [
        "dataset.dropna(inplace=True)\n",
        "dataset.isna().sum()"
      ],
      "execution_count": null,
      "outputs": [
        {
          "data": {
            "text/plain": [
              "tweets    0\n",
              "dtype: int64"
            ]
          },
          "execution_count": 10,
          "metadata": {},
          "output_type": "execute_result"
        }
      ]
    },
    {
      "cell_type": "markdown",
      "metadata": {
        "id": "S4mmRk6_1seb"
      },
      "source": [
        "melakukan penghapusan data untuk mengatasi missing values"
      ]
    },
    {
      "cell_type": "markdown",
      "metadata": {
        "id": "4xfYjcBydBhF"
      },
      "source": [
        "#### Melakukan pembersihan text"
      ]
    },
    {
      "cell_type": "code",
      "metadata": {
        "id": "6HaxVwmdtG90"
      },
      "source": [
        "def remove_url(text):\n",
        "  url = re.compile(r\"https?://\\S+|www\\.\\S+\")\n",
        "  return url.sub(r\"\", text)\n",
        "\n",
        "def remove_html(text):\n",
        "  html = re.compile(r\"<.*?>\")\n",
        "  return html.sub(r\"\", text)\n",
        "\n",
        "def remove_num(text):\n",
        "  text = re.sub(r\"@[A-Za-z0-9]+\", '', text)\n",
        "  return text\n",
        "\n",
        "def remove_emoji(string):\n",
        "  emoji_pattern = re.compile(\n",
        "      \"[\"\n",
        "      u\"\\U0001F600-\\U0001F64F\" #Emoticons\n",
        "      u\"\\U0001F300-\\U0001F5FF\" #symbols & picture\n",
        "      u\"\\U0001F680-\\U0001F6FF\" #transport & map symbols\n",
        "      u\"\\U0001F1E0-\\U0001F1FF\" # flags(iOS)\n",
        "      u\"\\U00002702-\\U00002780\"\n",
        "      u\"\\U000024C2-\\U0001F251\"\n",
        "      \"]+\",\n",
        "      flags=re.UNICODE,\n",
        "  )\n",
        "  return emoji_pattern.sub(r\"\", string)\n",
        "\n",
        "def remove_punct(text):\n",
        "  table = str.maketrans(\"\",\"\", string.punctuation)\n",
        "  return text.translate(table)"
      ],
      "execution_count": null,
      "outputs": []
    },
    {
      "cell_type": "code",
      "metadata": {
        "id": "_H01jpQ5tHMC"
      },
      "source": [
        "dataset['tweets'] = dataset['tweets'].map(lambda x: remove_url(x))\n",
        "dataset['tweets'] = dataset['tweets'].map(lambda x: remove_html(x))\n",
        "dataset['tweets'] = dataset['tweets'].map(lambda x: remove_emoji(x))\n",
        "dataset['tweets'] = dataset['tweets'].map(lambda x: remove_punct(x))\n",
        "dataset['tweets'] = dataset['tweets'].apply(remove_num)"
      ],
      "execution_count": null,
      "outputs": []
    },
    {
      "cell_type": "markdown",
      "metadata": {
        "id": "KA5Z1vrl1sec"
      },
      "source": [
        "melakukan pembersihan untuk menghilangkan url, html, number, emoji dan punctuation pada features tweets"
      ]
    },
    {
      "cell_type": "markdown",
      "metadata": {
        "id": "0cmjMoHTZBIH"
      },
      "source": [
        "#### Menghilangkan stopwords"
      ]
    },
    {
      "cell_type": "code",
      "metadata": {
        "id": "0hKi_BtOZBIH"
      },
      "source": [
        "stop = set(stopwords.words('english'))\n",
        "\n",
        "\n",
        "def remove_stopwords(text):\n",
        "    text = [word.lower() for word in text.split() if word.lower() not in stop]\n",
        "    \n",
        "    return \" \".join(text)"
      ],
      "execution_count": null,
      "outputs": []
    },
    {
      "cell_type": "code",
      "metadata": {
        "id": "uJWHslbnZBII"
      },
      "source": [
        "dataset['tweets'] = dataset['tweets'].map(remove_stopwords)"
      ],
      "execution_count": null,
      "outputs": []
    },
    {
      "cell_type": "markdown",
      "metadata": {
        "id": "U-RHx4wlb820"
      },
      "source": [
        "Stop word adalah kata yang umum digunakan (seperti “the”, “a”, “an”, “in”) yang telah diprogram untuk diabaikan oleh search engine,\n",
        "untuk itu Kita akan menghapus stopwords sesuai dengan yang tersimpan dalam corpus nltk untuk mempercepat waktu pemrosesan. "
      ]
    },
    {
      "cell_type": "markdown",
      "metadata": {
        "id": "toVfD-qlgN_W"
      },
      "source": [
        "#### Membuat function untuk Subjektivitas"
      ]
    },
    {
      "cell_type": "code",
      "metadata": {
        "id": "dub2hq__e9uU"
      },
      "source": [
        "def getSubjectivity(text):\n",
        "  return TextBlob(text).sentiment.subjectivity"
      ],
      "execution_count": null,
      "outputs": []
    },
    {
      "cell_type": "markdown",
      "metadata": {
        "id": "2ektkBDS1sef"
      },
      "source": [
        "subjectivity untuk melihat value dari tweet itu adalah opini atau faktual"
      ]
    },
    {
      "cell_type": "markdown",
      "metadata": {
        "id": "rDAiRXQtgk8s"
      },
      "source": [
        "#### Membuat function untuk Polarity"
      ]
    },
    {
      "cell_type": "code",
      "metadata": {
        "id": "9ow0p4jUgs9s"
      },
      "source": [
        "def getPolarity(text):\n",
        "  return TextBlob(text).sentiment.polarity"
      ],
      "execution_count": null,
      "outputs": []
    },
    {
      "cell_type": "markdown",
      "metadata": {
        "id": "C10KBXMX1sef"
      },
      "source": [
        "Polarity digunakan untuk melihat seberapa positif atau negatif sebuah teks"
      ]
    },
    {
      "cell_type": "markdown",
      "metadata": {
        "id": "n-e-zFU6g7H8"
      },
      "source": [
        "#### Membuat Feature baru yaitu Subjectivity dan Polarity"
      ]
    },
    {
      "cell_type": "code",
      "metadata": {
        "id": "AUbFSrtGg30o"
      },
      "source": [
        "dataset['Subjectivity'] = dataset['tweets'].apply(getSubjectivity)\n",
        "dataset['Polarity'] = dataset['tweets'].apply(getPolarity)"
      ],
      "execution_count": null,
      "outputs": []
    },
    {
      "cell_type": "markdown",
      "metadata": {
        "id": "B80rIloviFUq"
      },
      "source": [
        "#### Melihat dataset baru"
      ]
    },
    {
      "cell_type": "code",
      "metadata": {
        "colab": {
          "base_uri": "https://localhost:8080/"
        },
        "id": "OfE7P97ThXjf",
        "outputId": "e6c39cd9-f5d8-4cd4-d10d-129b82a11b78"
      },
      "source": [
        "dataset"
      ],
      "execution_count": null,
      "outputs": [
        {
          "data": {
            "text/html": [
              "<div>\n",
              "<style scoped>\n",
              "    .dataframe tbody tr th:only-of-type {\n",
              "        vertical-align: middle;\n",
              "    }\n",
              "\n",
              "    .dataframe tbody tr th {\n",
              "        vertical-align: top;\n",
              "    }\n",
              "\n",
              "    .dataframe thead th {\n",
              "        text-align: right;\n",
              "    }\n",
              "</style>\n",
              "<table border=\"1\" class=\"dataframe\">\n",
              "  <thead>\n",
              "    <tr style=\"text-align: right;\">\n",
              "      <th></th>\n",
              "      <th>tweets</th>\n",
              "      <th>Subjectivity</th>\n",
              "      <th>Polarity</th>\n",
              "    </tr>\n",
              "  </thead>\n",
              "  <tbody>\n",
              "    <tr>\n",
              "      <th>0</th>\n",
              "      <td>rejected sports 2020 olympics include bowling ...</td>\n",
              "      <td>0.000000</td>\n",
              "      <td>0.000000</td>\n",
              "    </tr>\n",
              "    <tr>\n",
              "      <th>1</th>\n",
              "      <td>team usa men basketball team playing horrible ...</td>\n",
              "      <td>1.000000</td>\n",
              "      <td>-0.450000</td>\n",
              "    </tr>\n",
              "    <tr>\n",
              "      <th>2</th>\n",
              "      <td>myhiveaway im watching kayaking olympics broad...</td>\n",
              "      <td>0.575000</td>\n",
              "      <td>0.375000</td>\n",
              "    </tr>\n",
              "    <tr>\n",
              "      <th>3</th>\n",
              "      <td>girls age still trying figuring open account o...</td>\n",
              "      <td>0.350000</td>\n",
              "      <td>0.050000</td>\n",
              "    </tr>\n",
              "    <tr>\n",
              "      <th>4</th>\n",
              "      <td>omensfromeden patty mills olympics</td>\n",
              "      <td>0.000000</td>\n",
              "      <td>0.000000</td>\n",
              "    </tr>\n",
              "    <tr>\n",
              "      <th>...</th>\n",
              "      <td>...</td>\n",
              "      <td>...</td>\n",
              "      <td>...</td>\n",
              "    </tr>\n",
              "    <tr>\n",
              "      <th>312820</th>\n",
              "      <td>artistic swimming unreal olympics</td>\n",
              "      <td>1.000000</td>\n",
              "      <td>0.333333</td>\n",
              "    </tr>\n",
              "    <tr>\n",
              "      <th>312821</th>\n",
              "      <td>fzaq6zcw8avobp5 noormehrjavan olympics worldka...</td>\n",
              "      <td>0.000000</td>\n",
              "      <td>0.000000</td>\n",
              "    </tr>\n",
              "    <tr>\n",
              "      <th>312822</th>\n",
              "      <td>finally someone said ashutosh difference pseud...</td>\n",
              "      <td>0.533333</td>\n",
              "      <td>0.133333</td>\n",
              "    </tr>\n",
              "    <tr>\n",
              "      <th>312823</th>\n",
              "      <td>hnonoo75 olympics bahrainolympic congratulatio...</td>\n",
              "      <td>0.000000</td>\n",
              "      <td>0.000000</td>\n",
              "    </tr>\n",
              "    <tr>\n",
              "      <th>312824</th>\n",
              "      <td>champian billion hearts today neerajchopra1 at...</td>\n",
              "      <td>0.000000</td>\n",
              "      <td>0.000000</td>\n",
              "    </tr>\n",
              "  </tbody>\n",
              "</table>\n",
              "<p>312821 rows × 3 columns</p>\n",
              "</div>"
            ],
            "text/plain": [
              "                                                   tweets  ...  Polarity\n",
              "0       rejected sports 2020 olympics include bowling ...  ...  0.000000\n",
              "1       team usa men basketball team playing horrible ...  ... -0.450000\n",
              "2       myhiveaway im watching kayaking olympics broad...  ...  0.375000\n",
              "3       girls age still trying figuring open account o...  ...  0.050000\n",
              "4                      omensfromeden patty mills olympics  ...  0.000000\n",
              "...                                                   ...  ...       ...\n",
              "312820                  artistic swimming unreal olympics  ...  0.333333\n",
              "312821  fzaq6zcw8avobp5 noormehrjavan olympics worldka...  ...  0.000000\n",
              "312822  finally someone said ashutosh difference pseud...  ...  0.133333\n",
              "312823  hnonoo75 olympics bahrainolympic congratulatio...  ...  0.000000\n",
              "312824  champian billion hearts today neerajchopra1 at...  ...  0.000000\n",
              "\n",
              "[312821 rows x 3 columns]"
            ]
          },
          "execution_count": 18,
          "metadata": {},
          "output_type": "execute_result"
        }
      ]
    },
    {
      "cell_type": "markdown",
      "metadata": {
        "id": "RJfBL5tl0Shj"
      },
      "source": [
        "#### Membuat function untuk melakukan pemisahan kategori negative, neutral, and positive analysis"
      ]
    },
    {
      "cell_type": "code",
      "metadata": {
        "id": "Ldf88IGMz4-Q"
      },
      "source": [
        "def getScore(score):\n",
        "  if score < 0:\n",
        "    return 'negative'\n",
        "  elif score == 0:\n",
        "    return \"neutral\"\n",
        "  else:\n",
        "    return \"positive\""
      ],
      "execution_count": null,
      "outputs": []
    },
    {
      "cell_type": "markdown",
      "metadata": {
        "id": "zHoq5qsz1sek"
      },
      "source": [
        "membuat function getScore untuk membuat klasifikasi tweets Negative, Neutral, dan Positive"
      ]
    },
    {
      "cell_type": "markdown",
      "metadata": {
        "id": "g-xzLGHH00MP"
      },
      "source": [
        "#### Membuat Features Label"
      ]
    },
    {
      "cell_type": "code",
      "metadata": {
        "id": "LiwXRm5u0ydf"
      },
      "source": [
        "dataset['Label'] = dataset['Polarity'].apply(getScore)"
      ],
      "execution_count": null,
      "outputs": []
    },
    {
      "cell_type": "code",
      "metadata": {
        "colab": {
          "base_uri": "https://localhost:8080/"
        },
        "id": "EvKG3sPY1IAj",
        "outputId": "8f01aca4-c75b-43b8-cf00-264ff164c54a"
      },
      "source": [
        "dataset"
      ],
      "execution_count": null,
      "outputs": [
        {
          "data": {
            "text/html": [
              "<div>\n",
              "<style scoped>\n",
              "    .dataframe tbody tr th:only-of-type {\n",
              "        vertical-align: middle;\n",
              "    }\n",
              "\n",
              "    .dataframe tbody tr th {\n",
              "        vertical-align: top;\n",
              "    }\n",
              "\n",
              "    .dataframe thead th {\n",
              "        text-align: right;\n",
              "    }\n",
              "</style>\n",
              "<table border=\"1\" class=\"dataframe\">\n",
              "  <thead>\n",
              "    <tr style=\"text-align: right;\">\n",
              "      <th></th>\n",
              "      <th>tweets</th>\n",
              "      <th>Subjectivity</th>\n",
              "      <th>Polarity</th>\n",
              "      <th>Label</th>\n",
              "    </tr>\n",
              "  </thead>\n",
              "  <tbody>\n",
              "    <tr>\n",
              "      <th>0</th>\n",
              "      <td>rejected sports 2020 olympics include bowling ...</td>\n",
              "      <td>0.000000</td>\n",
              "      <td>0.000000</td>\n",
              "      <td>neutral</td>\n",
              "    </tr>\n",
              "    <tr>\n",
              "      <th>1</th>\n",
              "      <td>team usa men basketball team playing horrible ...</td>\n",
              "      <td>1.000000</td>\n",
              "      <td>-0.450000</td>\n",
              "      <td>negative</td>\n",
              "    </tr>\n",
              "    <tr>\n",
              "      <th>2</th>\n",
              "      <td>myhiveaway im watching kayaking olympics broad...</td>\n",
              "      <td>0.575000</td>\n",
              "      <td>0.375000</td>\n",
              "      <td>positive</td>\n",
              "    </tr>\n",
              "    <tr>\n",
              "      <th>3</th>\n",
              "      <td>girls age still trying figuring open account o...</td>\n",
              "      <td>0.350000</td>\n",
              "      <td>0.050000</td>\n",
              "      <td>positive</td>\n",
              "    </tr>\n",
              "    <tr>\n",
              "      <th>4</th>\n",
              "      <td>omensfromeden patty mills olympics</td>\n",
              "      <td>0.000000</td>\n",
              "      <td>0.000000</td>\n",
              "      <td>neutral</td>\n",
              "    </tr>\n",
              "    <tr>\n",
              "      <th>...</th>\n",
              "      <td>...</td>\n",
              "      <td>...</td>\n",
              "      <td>...</td>\n",
              "      <td>...</td>\n",
              "    </tr>\n",
              "    <tr>\n",
              "      <th>312820</th>\n",
              "      <td>artistic swimming unreal olympics</td>\n",
              "      <td>1.000000</td>\n",
              "      <td>0.333333</td>\n",
              "      <td>positive</td>\n",
              "    </tr>\n",
              "    <tr>\n",
              "      <th>312821</th>\n",
              "      <td>fzaq6zcw8avobp5 noormehrjavan olympics worldka...</td>\n",
              "      <td>0.000000</td>\n",
              "      <td>0.000000</td>\n",
              "      <td>neutral</td>\n",
              "    </tr>\n",
              "    <tr>\n",
              "      <th>312822</th>\n",
              "      <td>finally someone said ashutosh difference pseud...</td>\n",
              "      <td>0.533333</td>\n",
              "      <td>0.133333</td>\n",
              "      <td>positive</td>\n",
              "    </tr>\n",
              "    <tr>\n",
              "      <th>312823</th>\n",
              "      <td>hnonoo75 olympics bahrainolympic congratulatio...</td>\n",
              "      <td>0.000000</td>\n",
              "      <td>0.000000</td>\n",
              "      <td>neutral</td>\n",
              "    </tr>\n",
              "    <tr>\n",
              "      <th>312824</th>\n",
              "      <td>champian billion hearts today neerajchopra1 at...</td>\n",
              "      <td>0.000000</td>\n",
              "      <td>0.000000</td>\n",
              "      <td>neutral</td>\n",
              "    </tr>\n",
              "  </tbody>\n",
              "</table>\n",
              "<p>312821 rows × 4 columns</p>\n",
              "</div>"
            ],
            "text/plain": [
              "                                                   tweets  ...     Label\n",
              "0       rejected sports 2020 olympics include bowling ...  ...   neutral\n",
              "1       team usa men basketball team playing horrible ...  ...  negative\n",
              "2       myhiveaway im watching kayaking olympics broad...  ...  positive\n",
              "3       girls age still trying figuring open account o...  ...  positive\n",
              "4                      omensfromeden patty mills olympics  ...   neutral\n",
              "...                                                   ...  ...       ...\n",
              "312820                  artistic swimming unreal olympics  ...  positive\n",
              "312821  fzaq6zcw8avobp5 noormehrjavan olympics worldka...  ...   neutral\n",
              "312822  finally someone said ashutosh difference pseud...  ...  positive\n",
              "312823  hnonoo75 olympics bahrainolympic congratulatio...  ...   neutral\n",
              "312824  champian billion hearts today neerajchopra1 at...  ...   neutral\n",
              "\n",
              "[312821 rows x 4 columns]"
            ]
          },
          "execution_count": 21,
          "metadata": {},
          "output_type": "execute_result"
        }
      ]
    },
    {
      "cell_type": "markdown",
      "metadata": {
        "id": "0PdKsuVP1sem"
      },
      "source": [
        "Membuat features Label yang valuesnya adalah klasifikasi tweets Negative, Neutral, dan Positive "
      ]
    },
    {
      "cell_type": "markdown",
      "metadata": {
        "id": "6NsD5-HqZBIO"
      },
      "source": [
        "# Exploratory Data Analysis"
      ]
    },
    {
      "cell_type": "markdown",
      "metadata": {
        "id": "QEVJ_DyUZBIO"
      },
      "source": [
        "#### Melakukan visualisasi word cloud"
      ]
    },
    {
      "cell_type": "code",
      "metadata": {
        "colab": {
          "base_uri": "https://localhost:8080/"
        },
        "id": "xZPuoMh1ZBIO",
        "outputId": "1c8bf179-c885-4a02-872d-e08a42b8d4ee"
      },
      "source": [
        "allWords = ' '.join([twts for twts in dataset['tweets']])\n",
        "WordCloud = WordCloud(width=1000, height=300, random_state=20, max_font_size= 119).generate(allWords)\n",
        "\n",
        "plt.imshow(WordCloud, interpolation='bilinear')"
      ],
      "execution_count": null,
      "outputs": [
        {
          "data": {
            "text/plain": [
              "<matplotlib.image.AxesImage at 0x7ff101643ed0>"
            ]
          },
          "execution_count": 22,
          "metadata": {},
          "output_type": "execute_result"
        },
        {
          "data": {
            "image/png": "[encoded data removed]",
            "text/plain": [
              "<Figure size 432x288 with 1 Axes>"
            ]
          },
          "metadata": {},
          "output_type": "display_data"
        }
      ]
    },
    {
      "cell_type": "markdown",
      "metadata": {
        "id": "InmXr8fh1sen"
      },
      "source": [
        "Dari visualisasi terlihat bahwa kata 'Tokyo' dan 'Olympic' adalah kata yang sering muncul"
      ]
    },
    {
      "cell_type": "markdown",
      "metadata": {
        "id": "FtDv2y77GE-D"
      },
      "source": [
        "#### Persentase Positive tweets"
      ]
    },
    {
      "cell_type": "code",
      "metadata": {
        "colab": {
          "base_uri": "https://localhost:8080/"
        },
        "id": "eNXDAgjr790-",
        "outputId": "db444430-df50-4447-8f5d-8b5bc803032d"
      },
      "source": [
        "dataset.Label.value_counts().plot(kind='bar');"
      ],
      "execution_count": null,
      "outputs": [
        {
          "data": {
            "image/png": "[encoded data removed]",
            "text/plain": [
              "<Figure size 432x288 with 1 Axes>"
            ]
          },
          "metadata": {},
          "output_type": "display_data"
        }
      ]
    },
    {
      "cell_type": "code",
      "metadata": {
        "colab": {
          "base_uri": "https://localhost:8080/"
        },
        "id": "OxYz2SeiGEc0",
        "outputId": "8c66c27b-2534-4a94-e1bd-7a233d67c415"
      },
      "source": [
        "positive_tweet = dataset[dataset.Label == 'positive']['tweets']\n",
        "neutral_tweet = dataset[dataset.Label == 'neutral']['tweets']\n",
        "negative_tweet = dataset[dataset.Label == 'negative']['tweets']\n",
        "print('Persentase Positive tweets = ',round((positive_tweet.shape[0] / dataset.shape[0])*100 ,2))\n",
        "print('Persentase Neutral tweets = ',round((neutral_tweet.shape[0] / dataset.shape[0])*100 ,2))\n",
        "print('Persentase Negative tweets = ',round((negative_tweet.shape[0] / dataset.shape[0])*100 ,2))"
      ],
      "execution_count": null,
      "outputs": [
        {
          "name": "stdout",
          "output_type": "stream",
          "text": [
            "Persentase Positive tweets =  40.56\n",
            "Persentase Neutral tweets =  46.04\n",
            "Persentase Negative tweets =  13.4\n"
          ]
        }
      ]
    },
    {
      "cell_type": "markdown",
      "metadata": {
        "id": "RNxlR8fwG4Js"
      },
      "source": [
        "#### Melihat Label tweets positive, neutral, dan negative"
      ]
    },
    {
      "cell_type": "code",
      "metadata": {
        "colab": {
          "base_uri": "https://localhost:8080/"
        },
        "id": "xHqAFoxXGz6H",
        "outputId": "3d3c5d16-e996-482d-aba1-2ed1859c9649"
      },
      "source": [
        "random_index = random.randint(0, len(dataset)-5)\n",
        "\n",
        "for row in dataset[[\"tweets\", \"Label\"]][random_index:random_index+5].itertuples():\n",
        "  _, text, target = row\n",
        "  if target == \"positive\":\n",
        "    print(f\"Target: {target} (positive)\")\n",
        "  elif target == \"neutral\":\n",
        "    print(f\"Target: {target} (neutral)\")\n",
        "  else:\n",
        "    print(f\"Target: {target} (negative)\")\n",
        "  print(f\"Text:\\n{text}\\n\")\n",
        "  print(\"---\\n\")"
      ],
      "execution_count": null,
      "outputs": [
        {
          "name": "stdout",
          "output_type": "stream",
          "text": [
            "Target: neutral (neutral)\n",
            "Text:\n",
            "bbcnews brothera motorbike courier working london likes watch local london news 730am830…\n",
            "\n",
            "---\n",
            "\n",
            "Target: negative (negative)\n",
            "Text:\n",
            "well done teamgb diving sterling performance round sterling7 olympicgames olympics\n",
            "\n",
            "---\n",
            "\n",
            "Target: positive (positive)\n",
            "Text:\n",
            "britain bequeathed fair share olympic titans none plotted route greatness quite like p…\n",
            "\n",
            "---\n",
            "\n",
            "Target: neutral (neutral)\n",
            "Text:\n",
            "magicmonday trending twitter team gb take three golds tokyo 2020 🥇🥇🥇\n",
            "\n",
            "---\n",
            "\n",
            "Target: negative (negative)\n",
            "Text:\n",
            "manikabatra bows round 3 women’s tabletennis tenthseeded sofia polcanova aut final scor…\n",
            "\n",
            "---\n",
            "\n"
          ]
        }
      ]
    },
    {
      "cell_type": "markdown",
      "metadata": {
        "id": "lb22ZKM14n82"
      },
      "source": [
        "# Feature Engineering"
      ]
    },
    {
      "cell_type": "markdown",
      "metadata": {
        "id": "XpaLRVZD7lV_"
      },
      "source": [
        "#### Mengubah Categorical menjadi numerical pada features Label"
      ]
    },
    {
      "cell_type": "code",
      "metadata": {
        "colab": {
          "base_uri": "https://localhost:8080/"
        },
        "id": "aqLWSZc_7mfd",
        "outputId": "6fd4aa8f-264f-451a-92d5-9150e0271563"
      },
      "source": [
        "label_mapping = { k: i for i, k in enumerate(dataset['Label'].unique(), 0)}\n",
        "label_mapping"
      ],
      "execution_count": null,
      "outputs": [
        {
          "data": {
            "text/plain": [
              "{'negative': 1, 'neutral': 0, 'positive': 2}"
            ]
          },
          "execution_count": 26,
          "metadata": {},
          "output_type": "execute_result"
        }
      ]
    },
    {
      "cell_type": "code",
      "metadata": {
        "id": "kwjMmWsG7msy"
      },
      "source": [
        "dataset['Label'] = dataset['Label'].map(label_mapping)"
      ],
      "execution_count": null,
      "outputs": []
    },
    {
      "cell_type": "code",
      "metadata": {
        "colab": {
          "base_uri": "https://localhost:8080/"
        },
        "id": "A4sPtJqV7m0a",
        "outputId": "5313ec5b-f45f-4858-cf06-86b9a483f53e"
      },
      "source": [
        "dataset"
      ],
      "execution_count": null,
      "outputs": [
        {
          "data": {
            "text/html": [
              "<div>\n",
              "<style scoped>\n",
              "    .dataframe tbody tr th:only-of-type {\n",
              "        vertical-align: middle;\n",
              "    }\n",
              "\n",
              "    .dataframe tbody tr th {\n",
              "        vertical-align: top;\n",
              "    }\n",
              "\n",
              "    .dataframe thead th {\n",
              "        text-align: right;\n",
              "    }\n",
              "</style>\n",
              "<table border=\"1\" class=\"dataframe\">\n",
              "  <thead>\n",
              "    <tr style=\"text-align: right;\">\n",
              "      <th></th>\n",
              "      <th>tweets</th>\n",
              "      <th>Subjectivity</th>\n",
              "      <th>Polarity</th>\n",
              "      <th>Label</th>\n",
              "    </tr>\n",
              "  </thead>\n",
              "  <tbody>\n",
              "    <tr>\n",
              "      <th>0</th>\n",
              "      <td>rejected sports 2020 olympics include bowling ...</td>\n",
              "      <td>0.000000</td>\n",
              "      <td>0.000000</td>\n",
              "      <td>0</td>\n",
              "    </tr>\n",
              "    <tr>\n",
              "      <th>1</th>\n",
              "      <td>team usa men basketball team playing horrible ...</td>\n",
              "      <td>1.000000</td>\n",
              "      <td>-0.450000</td>\n",
              "      <td>1</td>\n",
              "    </tr>\n",
              "    <tr>\n",
              "      <th>2</th>\n",
              "      <td>myhiveaway im watching kayaking olympics broad...</td>\n",
              "      <td>0.575000</td>\n",
              "      <td>0.375000</td>\n",
              "      <td>2</td>\n",
              "    </tr>\n",
              "    <tr>\n",
              "      <th>3</th>\n",
              "      <td>girls age still trying figuring open account o...</td>\n",
              "      <td>0.350000</td>\n",
              "      <td>0.050000</td>\n",
              "      <td>2</td>\n",
              "    </tr>\n",
              "    <tr>\n",
              "      <th>4</th>\n",
              "      <td>omensfromeden patty mills olympics</td>\n",
              "      <td>0.000000</td>\n",
              "      <td>0.000000</td>\n",
              "      <td>0</td>\n",
              "    </tr>\n",
              "    <tr>\n",
              "      <th>...</th>\n",
              "      <td>...</td>\n",
              "      <td>...</td>\n",
              "      <td>...</td>\n",
              "      <td>...</td>\n",
              "    </tr>\n",
              "    <tr>\n",
              "      <th>312820</th>\n",
              "      <td>artistic swimming unreal olympics</td>\n",
              "      <td>1.000000</td>\n",
              "      <td>0.333333</td>\n",
              "      <td>2</td>\n",
              "    </tr>\n",
              "    <tr>\n",
              "      <th>312821</th>\n",
              "      <td>fzaq6zcw8avobp5 noormehrjavan olympics worldka...</td>\n",
              "      <td>0.000000</td>\n",
              "      <td>0.000000</td>\n",
              "      <td>0</td>\n",
              "    </tr>\n",
              "    <tr>\n",
              "      <th>312822</th>\n",
              "      <td>finally someone said ashutosh difference pseud...</td>\n",
              "      <td>0.533333</td>\n",
              "      <td>0.133333</td>\n",
              "      <td>2</td>\n",
              "    </tr>\n",
              "    <tr>\n",
              "      <th>312823</th>\n",
              "      <td>hnonoo75 olympics bahrainolympic congratulatio...</td>\n",
              "      <td>0.000000</td>\n",
              "      <td>0.000000</td>\n",
              "      <td>0</td>\n",
              "    </tr>\n",
              "    <tr>\n",
              "      <th>312824</th>\n",
              "      <td>champian billion hearts today neerajchopra1 at...</td>\n",
              "      <td>0.000000</td>\n",
              "      <td>0.000000</td>\n",
              "      <td>0</td>\n",
              "    </tr>\n",
              "  </tbody>\n",
              "</table>\n",
              "<p>312821 rows × 4 columns</p>\n",
              "</div>"
            ],
            "text/plain": [
              "                                                   tweets  ...  Label\n",
              "0       rejected sports 2020 olympics include bowling ...  ...      0\n",
              "1       team usa men basketball team playing horrible ...  ...      1\n",
              "2       myhiveaway im watching kayaking olympics broad...  ...      2\n",
              "3       girls age still trying figuring open account o...  ...      2\n",
              "4                      omensfromeden patty mills olympics  ...      0\n",
              "...                                                   ...  ...    ...\n",
              "312820                  artistic swimming unreal olympics  ...      2\n",
              "312821  fzaq6zcw8avobp5 noormehrjavan olympics worldka...  ...      0\n",
              "312822  finally someone said ashutosh difference pseud...  ...      2\n",
              "312823  hnonoo75 olympics bahrainolympic congratulatio...  ...      0\n",
              "312824  champian billion hearts today neerajchopra1 at...  ...      0\n",
              "\n",
              "[312821 rows x 4 columns]"
            ]
          },
          "execution_count": 28,
          "metadata": {},
          "output_type": "execute_result"
        }
      ]
    },
    {
      "cell_type": "code",
      "metadata": {
        "id": "u9aHyxPlEgbm"
      },
      "source": [
        "train_dataset, test_dataset = train_test_split(dataset, test_size=0.10)"
      ],
      "execution_count": null,
      "outputs": []
    },
    {
      "cell_type": "markdown",
      "metadata": {
        "id": "Ly-ewFQK1seq"
      },
      "source": [
        "untuk menghindari adanya kemungkinan kebocoran data sehingga kita perlu membagi data terlebih dahulu dan kemudian menerapkan fitur engineering"
      ]
    },
    {
      "cell_type": "code",
      "metadata": {
        "colab": {
          "base_uri": "https://localhost:8080/"
        },
        "id": "2KJ8wArxTd-8",
        "outputId": "5f983575-b6f6-4a16-a565-31bd3cab6277"
      },
      "source": [
        "print(f\"Total training samples: {len(train_dataset)}\")\n",
        "print(f\"Total test samples: {len(test_dataset)}\")\n",
        "print(f\"Total samples: {len(train_dataset) + len(test_dataset)}\")"
      ],
      "execution_count": null,
      "outputs": [
        {
          "name": "stdout",
          "output_type": "stream",
          "text": [
            "Total training samples: 281538\n",
            "Total test samples: 31283\n",
            "Total samples: 312821\n"
          ]
        }
      ]
    },
    {
      "cell_type": "code",
      "metadata": {
        "colab": {
          "base_uri": "https://localhost:8080/"
        },
        "id": "xcvPSNi7U-kF",
        "outputId": "2c53743a-5d1c-4e7d-bf52-84b024916a89"
      },
      "source": [
        "train_dataset"
      ],
      "execution_count": null,
      "outputs": [
        {
          "data": {
            "text/html": [
              "<div>\n",
              "<style scoped>\n",
              "    .dataframe tbody tr th:only-of-type {\n",
              "        vertical-align: middle;\n",
              "    }\n",
              "\n",
              "    .dataframe tbody tr th {\n",
              "        vertical-align: top;\n",
              "    }\n",
              "\n",
              "    .dataframe thead th {\n",
              "        text-align: right;\n",
              "    }\n",
              "</style>\n",
              "<table border=\"1\" class=\"dataframe\">\n",
              "  <thead>\n",
              "    <tr style=\"text-align: right;\">\n",
              "      <th></th>\n",
              "      <th>tweets</th>\n",
              "      <th>Subjectivity</th>\n",
              "      <th>Polarity</th>\n",
              "      <th>Label</th>\n",
              "    </tr>\n",
              "  </thead>\n",
              "  <tbody>\n",
              "    <tr>\n",
              "      <th>312696</th>\n",
              "      <td>bcci would get way india could compete gold cr...</td>\n",
              "      <td>0.000000</td>\n",
              "      <td>0.000000</td>\n",
              "      <td>0</td>\n",
              "    </tr>\n",
              "    <tr>\n",
              "      <th>95094</th>\n",
              "      <td>breaking world record lilly king reach semifin...</td>\n",
              "      <td>0.000000</td>\n",
              "      <td>0.000000</td>\n",
              "      <td>0</td>\n",
              "    </tr>\n",
              "    <tr>\n",
              "      <th>134233</th>\n",
              "      <td>watching olympics work vulnerable groups olymp...</td>\n",
              "      <td>0.400000</td>\n",
              "      <td>0.266667</td>\n",
              "      <td>2</td>\n",
              "    </tr>\n",
              "    <tr>\n",
              "      <th>227366</th>\n",
              "      <td>“black women apparently still expected sacrifi...</td>\n",
              "      <td>0.394444</td>\n",
              "      <td>-0.072222</td>\n",
              "      <td>1</td>\n",
              "    </tr>\n",
              "    <tr>\n",
              "      <th>288149</th>\n",
              "      <td>farhanisi talhatlb aray bhai ye olympics 2020 ...</td>\n",
              "      <td>0.000000</td>\n",
              "      <td>0.000000</td>\n",
              "      <td>0</td>\n",
              "    </tr>\n",
              "    <tr>\n",
              "      <th>...</th>\n",
              "      <td>...</td>\n",
              "      <td>...</td>\n",
              "      <td>...</td>\n",
              "      <td>...</td>\n",
              "    </tr>\n",
              "    <tr>\n",
              "      <th>68421</th>\n",
              "      <td>parttime surf pro knocks australia’s seventime...</td>\n",
              "      <td>0.000000</td>\n",
              "      <td>0.000000</td>\n",
              "      <td>0</td>\n",
              "    </tr>\n",
              "    <tr>\n",
              "      <th>69672</th>\n",
              "      <td>watch tokyo olympics clips day 2</td>\n",
              "      <td>0.000000</td>\n",
              "      <td>0.000000</td>\n",
              "      <td>0</td>\n",
              "    </tr>\n",
              "    <tr>\n",
              "      <th>183066</th>\n",
              "      <td>best video olympics far alwayssupportyourteamm...</td>\n",
              "      <td>0.650000</td>\n",
              "      <td>0.550000</td>\n",
              "      <td>2</td>\n",
              "    </tr>\n",
              "    <tr>\n",
              "      <th>146007</th>\n",
              "      <td>osakathiem everyday olympics week</td>\n",
              "      <td>0.600000</td>\n",
              "      <td>-0.200000</td>\n",
              "      <td>1</td>\n",
              "    </tr>\n",
              "    <tr>\n",
              "      <th>152234</th>\n",
              "      <td>atinynetwork ateezofficial gonna win ateez 4th...</td>\n",
              "      <td>0.400000</td>\n",
              "      <td>0.800000</td>\n",
              "      <td>2</td>\n",
              "    </tr>\n",
              "  </tbody>\n",
              "</table>\n",
              "<p>281538 rows × 4 columns</p>\n",
              "</div>"
            ],
            "text/plain": [
              "                                                   tweets  ...  Label\n",
              "312696  bcci would get way india could compete gold cr...  ...      0\n",
              "95094   breaking world record lilly king reach semifin...  ...      0\n",
              "134233  watching olympics work vulnerable groups olymp...  ...      2\n",
              "227366  “black women apparently still expected sacrifi...  ...      1\n",
              "288149  farhanisi talhatlb aray bhai ye olympics 2020 ...  ...      0\n",
              "...                                                   ...  ...    ...\n",
              "68421   parttime surf pro knocks australia’s seventime...  ...      0\n",
              "69672                    watch tokyo olympics clips day 2  ...      0\n",
              "183066  best video olympics far alwayssupportyourteamm...  ...      2\n",
              "146007                  osakathiem everyday olympics week  ...      1\n",
              "152234  atinynetwork ateezofficial gonna win ateez 4th...  ...      2\n",
              "\n",
              "[281538 rows x 4 columns]"
            ]
          },
          "execution_count": 31,
          "metadata": {},
          "output_type": "execute_result"
        }
      ]
    },
    {
      "cell_type": "code",
      "metadata": {
        "colab": {
          "base_uri": "https://localhost:8080/"
        },
        "id": "yL1vkqOyxpgd",
        "outputId": "996cd4ec-cb0c-46f3-c035-c17e5ddb32c7"
      },
      "source": [
        "test_dataset"
      ],
      "execution_count": null,
      "outputs": [
        {
          "data": {
            "text/html": [
              "<div>\n",
              "<style scoped>\n",
              "    .dataframe tbody tr th:only-of-type {\n",
              "        vertical-align: middle;\n",
              "    }\n",
              "\n",
              "    .dataframe tbody tr th {\n",
              "        vertical-align: top;\n",
              "    }\n",
              "\n",
              "    .dataframe thead th {\n",
              "        text-align: right;\n",
              "    }\n",
              "</style>\n",
              "<table border=\"1\" class=\"dataframe\">\n",
              "  <thead>\n",
              "    <tr style=\"text-align: right;\">\n",
              "      <th></th>\n",
              "      <th>tweets</th>\n",
              "      <th>Subjectivity</th>\n",
              "      <th>Polarity</th>\n",
              "      <th>Label</th>\n",
              "    </tr>\n",
              "  </thead>\n",
              "  <tbody>\n",
              "    <tr>\n",
              "      <th>133750</th>\n",
              "      <td>qianjinghua maxwalden cannot believe casually ...</td>\n",
              "      <td>0.883333</td>\n",
              "      <td>0.050000</td>\n",
              "      <td>2</td>\n",
              "    </tr>\n",
              "    <tr>\n",
              "      <th>260513</th>\n",
              "      <td>sournelaa enhypen 2020 olympics enhypenontokyo...</td>\n",
              "      <td>0.000000</td>\n",
              "      <td>0.000000</td>\n",
              "      <td>0</td>\n",
              "    </tr>\n",
              "    <tr>\n",
              "      <th>306254</th>\n",
              "      <td>2020 tokyo olympics iran 3gold medals 2🥈silver...</td>\n",
              "      <td>0.000000</td>\n",
              "      <td>0.000000</td>\n",
              "      <td>0</td>\n",
              "    </tr>\n",
              "    <tr>\n",
              "      <th>101086</th>\n",
              "      <td>tokyo olympics live updates day 4 boxer lovlin...</td>\n",
              "      <td>0.500000</td>\n",
              "      <td>0.136364</td>\n",
              "      <td>2</td>\n",
              "    </tr>\n",
              "    <tr>\n",
              "      <th>185195</th>\n",
              "      <td>call sportsmanship 🤝 saudi arabian judoka taha...</td>\n",
              "      <td>0.000000</td>\n",
              "      <td>0.000000</td>\n",
              "      <td>0</td>\n",
              "    </tr>\n",
              "    <tr>\n",
              "      <th>...</th>\n",
              "      <td>...</td>\n",
              "      <td>...</td>\n",
              "      <td>...</td>\n",
              "      <td>...</td>\n",
              "    </tr>\n",
              "    <tr>\n",
              "      <th>213898</th>\n",
              "      <td>hope attorney keeps word gives trademark right...</td>\n",
              "      <td>0.650000</td>\n",
              "      <td>0.350000</td>\n",
              "      <td>2</td>\n",
              "    </tr>\n",
              "    <tr>\n",
              "      <th>74731</th>\n",
              "      <td>poland huge goose egg olympics…they dead last ...</td>\n",
              "      <td>0.455556</td>\n",
              "      <td>0.066667</td>\n",
              "      <td>2</td>\n",
              "    </tr>\n",
              "    <tr>\n",
              "      <th>290943</th>\n",
              "      <td>tag teammate riders grab hands slingshot fresh...</td>\n",
              "      <td>0.500000</td>\n",
              "      <td>0.300000</td>\n",
              "      <td>2</td>\n",
              "    </tr>\n",
              "    <tr>\n",
              "      <th>12295</th>\n",
              "      <td>wont see countrys flag podiums national colors...</td>\n",
              "      <td>0.000000</td>\n",
              "      <td>0.000000</td>\n",
              "      <td>0</td>\n",
              "    </tr>\n",
              "    <tr>\n",
              "      <th>62115</th>\n",
              "      <td>sports olympicpark pastpresentfuture 1 siteind...</td>\n",
              "      <td>0.000000</td>\n",
              "      <td>0.000000</td>\n",
              "      <td>0</td>\n",
              "    </tr>\n",
              "  </tbody>\n",
              "</table>\n",
              "<p>31283 rows × 4 columns</p>\n",
              "</div>"
            ],
            "text/plain": [
              "                                                   tweets  ...  Label\n",
              "133750  qianjinghua maxwalden cannot believe casually ...  ...      2\n",
              "260513  sournelaa enhypen 2020 olympics enhypenontokyo...  ...      0\n",
              "306254  2020 tokyo olympics iran 3gold medals 2🥈silver...  ...      0\n",
              "101086  tokyo olympics live updates day 4 boxer lovlin...  ...      2\n",
              "185195  call sportsmanship 🤝 saudi arabian judoka taha...  ...      0\n",
              "...                                                   ...  ...    ...\n",
              "213898  hope attorney keeps word gives trademark right...  ...      2\n",
              "74731   poland huge goose egg olympics…they dead last ...  ...      2\n",
              "290943  tag teammate riders grab hands slingshot fresh...  ...      2\n",
              "12295   wont see countrys flag podiums national colors...  ...      0\n",
              "62115   sports olympicpark pastpresentfuture 1 siteind...  ...      0\n",
              "\n",
              "[31283 rows x 4 columns]"
            ]
          },
          "execution_count": 32,
          "metadata": {},
          "output_type": "execute_result"
        }
      ]
    },
    {
      "cell_type": "markdown",
      "metadata": {
        "id": "HtEqSy5o4n84"
      },
      "source": [
        "### Data Preprocessing"
      ]
    },
    {
      "cell_type": "markdown",
      "metadata": {
        "id": "WfNTcjmzUrgj"
      },
      "source": [
        "#### Menyiapkan target"
      ]
    },
    {
      "cell_type": "code",
      "metadata": {
        "id": "rjLeQEtPUtte"
      },
      "source": [
        "X_train, y_train = train_dataset.tweets, train_dataset.Label\n",
        "X_test, y_test = test_dataset.tweets, test_dataset.Label"
      ],
      "execution_count": null,
      "outputs": []
    },
    {
      "cell_type": "code",
      "metadata": {
        "id": "nbdh3r14uvhq"
      },
      "source": [
        "def prepare_targets(y_train, y_test):\n",
        "    y_train_enc = to_categorical(y_train)\n",
        "    y_test_enc = to_categorical(y_test)\n",
        "    return y_train_enc, y_test_enc\n",
        "\n",
        "y_train, y_test = prepare_targets(y_train, y_test)"
      ],
      "execution_count": null,
      "outputs": []
    },
    {
      "cell_type": "code",
      "metadata": {
        "colab": {
          "base_uri": "https://localhost:8080/"
        },
        "id": "J3eJMiyZyTE4",
        "outputId": "19511823-6b2b-492e-e615-2ce12d00b747"
      },
      "source": [
        "y_train"
      ],
      "execution_count": null,
      "outputs": [
        {
          "data": {
            "text/plain": [
              "array([[1., 0., 0.],\n",
              "       [1., 0., 0.],\n",
              "       [0., 0., 1.],\n",
              "       ...,\n",
              "       [0., 0., 1.],\n",
              "       [0., 1., 0.],\n",
              "       [0., 0., 1.]], dtype=float32)"
            ]
          },
          "execution_count": 35,
          "metadata": {},
          "output_type": "execute_result"
        }
      ]
    },
    {
      "cell_type": "markdown",
      "metadata": {
        "id": "M-emo-gbVPmu"
      },
      "source": [
        "#### Melakukan Split data"
      ]
    },
    {
      "cell_type": "code",
      "metadata": {
        "id": "o_e5uZmmVTyB"
      },
      "source": [
        "train_sentences, val_sentences, train_labels, val_labels = train_test_split(X_train.to_numpy(),\n",
        "                                                                            y_train,\n",
        "                                                                            test_size=0.2,\n",
        "                                                                            random_state=42)"
      ],
      "execution_count": null,
      "outputs": []
    },
    {
      "cell_type": "markdown",
      "metadata": {
        "id": "8pD9nFvz1sew"
      },
      "source": [
        "#### Pipeline"
      ]
    },
    {
      "cell_type": "markdown",
      "metadata": {
        "id": "qpGOuBKl1sex"
      },
      "source": [
        "#### Membangun Pipeline"
      ]
    },
    {
      "cell_type": "code",
      "metadata": {
        "id": "i3nbnUfX1sex"
      },
      "source": [
        "# Where to save the figures\n",
        "PROJECT_ROOT_DIR = \".\"\n",
        "CHAPTER_ID = \"data\"\n",
        "IMAGES_PATH = os.path.join(PROJECT_ROOT_DIR, \"images\", CHAPTER_ID)\n",
        "os.makedirs(IMAGES_PATH, exist_ok=True)\n",
        "\n",
        "def save_fig(fig_id, tight_layout=True, fig_extension=\"png\", resolution=300):\n",
        "    path = os.path.join(IMAGES_PATH, fig_id + \".\" + fig_extension)\n",
        "    print(\"Saving figure\", fig_id)\n",
        "    if tight_layout:\n",
        "        plt.tight_layout()\n",
        "    plt.savefig(path, format=fig_extension, dpi=resolution)"
      ],
      "execution_count": null,
      "outputs": []
    },
    {
      "cell_type": "code",
      "metadata": {
        "id": "nmgG_a6o1sex"
      },
      "source": [
        "def save_to_multiple_csv_files(data, name_prefix, header=None, n_parts=10):\n",
        "    churn_dir = os.path.join(\"datasets\", \"tweets\")\n",
        "    os.makedirs(churn_dir, exist_ok=True)\n",
        "    path_format = os.path.join(churn_dir, \"my_{}_{:02d}.csv\")\n",
        "\n",
        "    filepaths = []\n",
        "    m = len(data)\n",
        "    for file_idx, row_indices in enumerate(np.array_split(np.arange(m), n_parts)):\n",
        "        part_csv = path_format.format(name_prefix, file_idx)\n",
        "        filepaths.append(part_csv)\n",
        "        with open(part_csv, \"wt\", encoding=\"utf-8\") as f:\n",
        "            if header is not None:\n",
        "                f.write(header)\n",
        "                f.write(\"\\n\")\n",
        "            for row_idx in row_indices:\n",
        "                f.write(\",\".join([repr(col) for col in data[row_idx]]))\n",
        "                f.write(\"\\n\")\n",
        "    return filepaths"
      ],
      "execution_count": null,
      "outputs": []
    },
    {
      "cell_type": "code",
      "metadata": {
        "id": "VLdhkWev1sey"
      },
      "source": [
        "train_data = np.c_[train_sentences, train_labels]\n",
        "valid_data = np.c_[val_sentences, val_labels]\n",
        "header_cols = dataset.columns \n",
        "header = \",\".join(header_cols)"
      ],
      "execution_count": null,
      "outputs": []
    },
    {
      "cell_type": "code",
      "metadata": {
        "id": "0iO9sft21sez"
      },
      "source": [
        "train_filepaths = save_to_multiple_csv_files(train_data, \"train\", header, n_parts=20)\n",
        "valid_filepaths = save_to_multiple_csv_files(valid_data, \"valid\", header, n_parts=10)"
      ],
      "execution_count": null,
      "outputs": []
    },
    {
      "cell_type": "markdown",
      "metadata": {
        "id": "7VvJ3q-51sez"
      },
      "source": [
        "### Train dataset"
      ]
    },
    {
      "cell_type": "code",
      "metadata": {
        "colab": {
          "base_uri": "https://localhost:8080/"
        },
        "id": "SS-BLDsv1sez",
        "outputId": "3d3c814e-94e5-4cb3-a8e0-500f04ba81d7"
      },
      "source": [
        "pd.read_csv(train_filepaths[0]).head()"
      ],
      "execution_count": null,
      "outputs": [
        {
          "data": {
            "text/html": [
              "<div>\n",
              "<style scoped>\n",
              "    .dataframe tbody tr th:only-of-type {\n",
              "        vertical-align: middle;\n",
              "    }\n",
              "\n",
              "    .dataframe tbody tr th {\n",
              "        vertical-align: top;\n",
              "    }\n",
              "\n",
              "    .dataframe thead th {\n",
              "        text-align: right;\n",
              "    }\n",
              "</style>\n",
              "<table border=\"1\" class=\"dataframe\">\n",
              "  <thead>\n",
              "    <tr style=\"text-align: right;\">\n",
              "      <th></th>\n",
              "      <th>tweets</th>\n",
              "      <th>Subjectivity</th>\n",
              "      <th>Polarity</th>\n",
              "      <th>Label</th>\n",
              "    </tr>\n",
              "  </thead>\n",
              "  <tbody>\n",
              "    <tr>\n",
              "      <th>0</th>\n",
              "      <td>'fun fact hosting 2028 summer olympics sofista...</td>\n",
              "      <td>0.0</td>\n",
              "      <td>0.0</td>\n",
              "      <td>1.0</td>\n",
              "    </tr>\n",
              "    <tr>\n",
              "      <th>1</th>\n",
              "      <td>'fantastic scenes family friends swimming coll...</td>\n",
              "      <td>0.0</td>\n",
              "      <td>0.0</td>\n",
              "      <td>1.0</td>\n",
              "    </tr>\n",
              "    <tr>\n",
              "      <th>2</th>\n",
              "      <td>'first olympic goal jamie neushul hits skipsho...</td>\n",
              "      <td>0.0</td>\n",
              "      <td>0.0</td>\n",
              "      <td>1.0</td>\n",
              "    </tr>\n",
              "    <tr>\n",
              "      <th>3</th>\n",
              "      <td>'djokovic denied olympic bronze throws racket'</td>\n",
              "      <td>1.0</td>\n",
              "      <td>0.0</td>\n",
              "      <td>0.0</td>\n",
              "    </tr>\n",
              "    <tr>\n",
              "      <th>4</th>\n",
              "      <td>'gold medallist yang qian’s ‘lucky’ hair clip ...</td>\n",
              "      <td>0.0</td>\n",
              "      <td>0.0</td>\n",
              "      <td>1.0</td>\n",
              "    </tr>\n",
              "  </tbody>\n",
              "</table>\n",
              "</div>"
            ],
            "text/plain": [
              "                                              tweets  ...  Label\n",
              "0  'fun fact hosting 2028 summer olympics sofista...  ...    1.0\n",
              "1  'fantastic scenes family friends swimming coll...  ...    1.0\n",
              "2  'first olympic goal jamie neushul hits skipsho...  ...    1.0\n",
              "3     'djokovic denied olympic bronze throws racket'  ...    0.0\n",
              "4  'gold medallist yang qian’s ‘lucky’ hair clip ...  ...    1.0\n",
              "\n",
              "[5 rows x 4 columns]"
            ]
          },
          "execution_count": 41,
          "metadata": {},
          "output_type": "execute_result"
        }
      ]
    },
    {
      "cell_type": "code",
      "metadata": {
        "colab": {
          "base_uri": "https://localhost:8080/"
        },
        "id": "IeT8aADf1sez",
        "outputId": "1adf4c8a-a211-434b-f432-b5e90d6aa0ec"
      },
      "source": [
        "os.path.getsize(train_filepaths[0])"
      ],
      "execution_count": null,
      "outputs": [
        {
          "data": {
            "text/plain": [
              "969261"
            ]
          },
          "execution_count": 42,
          "metadata": {},
          "output_type": "execute_result"
        }
      ]
    },
    {
      "cell_type": "code",
      "metadata": {
        "id": "tVyeIw721se1"
      },
      "source": [
        "train_folder=('/').join(re.search('(.*)/(.*)/(.*)',train_filepaths[0], re.IGNORECASE).group(1,2))"
      ],
      "execution_count": null,
      "outputs": []
    },
    {
      "cell_type": "code",
      "metadata": {
        "colab": {
          "base_uri": "https://localhost:8080/"
        },
        "id": "JjDSAYrc1se2",
        "outputId": "b5e082bc-c486-4f9c-a379-cd194227a91e"
      },
      "source": [
        "print(train_filepaths[0])\n",
        "train_folder"
      ],
      "execution_count": null,
      "outputs": [
        {
          "name": "stdout",
          "output_type": "stream",
          "text": [
            "datasets/tweets/my_train_00.csv\n"
          ]
        },
        {
          "data": {
            "application/vnd.google.colaboratory.intrinsic+json": {
              "type": "string"
            },
            "text/plain": [
              "'datasets/tweets'"
            ]
          },
          "execution_count": 44,
          "metadata": {},
          "output_type": "execute_result"
        }
      ]
    },
    {
      "cell_type": "code",
      "metadata": {
        "id": "kQ3aMYw41se3"
      },
      "source": [
        "full_csv = train_folder+'/full_train.csv'\n",
        "with open(full_csv, \"wt\", encoding=\"utf-8\") as f:\n",
        "    if header is not None:\n",
        "        f.write(header)\n",
        "        f.write(\"\\n\")\n",
        "    for row_idx in range(train_data.shape[0]):\n",
        "        f.write(\",\".join([repr(col) for col in train_data[row_idx]]))\n",
        "        f.write(\"\\n\")"
      ],
      "execution_count": null,
      "outputs": []
    },
    {
      "cell_type": "code",
      "metadata": {
        "colab": {
          "base_uri": "https://localhost:8080/"
        },
        "id": "xrH4F4f51se6",
        "outputId": "60c2539c-16c2-496e-f605-9d8470e2a778"
      },
      "source": [
        "os.path.getsize(full_csv)"
      ],
      "execution_count": null,
      "outputs": [
        {
          "data": {
            "text/plain": [
              "19392611"
            ]
          },
          "execution_count": 46,
          "metadata": {},
          "output_type": "execute_result"
        }
      ]
    },
    {
      "cell_type": "code",
      "metadata": {
        "colab": {
          "base_uri": "https://localhost:8080/"
        },
        "id": "F3RkgNgw1se6",
        "outputId": "c473473f-32b4-4f65-a759-be33c7fa6c29"
      },
      "source": [
        "pd.read_csv(full_csv).shape"
      ],
      "execution_count": null,
      "outputs": [
        {
          "data": {
            "text/plain": [
              "(225230, 4)"
            ]
          },
          "execution_count": 47,
          "metadata": {},
          "output_type": "execute_result"
        }
      ]
    },
    {
      "cell_type": "code",
      "metadata": {
        "id": "TIgmElld1sfZ"
      },
      "source": [
        "train_data = pd.read_csv(full_csv)"
      ],
      "execution_count": null,
      "outputs": []
    },
    {
      "cell_type": "code",
      "metadata": {
        "colab": {
          "base_uri": "https://localhost:8080/"
        },
        "id": "o-f_2ry01sfZ",
        "outputId": "dfa47074-1761-41be-d9bd-5733d0a00989"
      },
      "source": [
        "train_data"
      ],
      "execution_count": null,
      "outputs": [
        {
          "data": {
            "text/html": [
              "<div>\n",
              "<style scoped>\n",
              "    .dataframe tbody tr th:only-of-type {\n",
              "        vertical-align: middle;\n",
              "    }\n",
              "\n",
              "    .dataframe tbody tr th {\n",
              "        vertical-align: top;\n",
              "    }\n",
              "\n",
              "    .dataframe thead th {\n",
              "        text-align: right;\n",
              "    }\n",
              "</style>\n",
              "<table border=\"1\" class=\"dataframe\">\n",
              "  <thead>\n",
              "    <tr style=\"text-align: right;\">\n",
              "      <th></th>\n",
              "      <th>tweets</th>\n",
              "      <th>Subjectivity</th>\n",
              "      <th>Polarity</th>\n",
              "      <th>Label</th>\n",
              "    </tr>\n",
              "  </thead>\n",
              "  <tbody>\n",
              "    <tr>\n",
              "      <th>0</th>\n",
              "      <td>'fun fact hosting 2028 summer olympics sofista...</td>\n",
              "      <td>0.0</td>\n",
              "      <td>0.0</td>\n",
              "      <td>1.0</td>\n",
              "    </tr>\n",
              "    <tr>\n",
              "      <th>1</th>\n",
              "      <td>'fantastic scenes family friends swimming coll...</td>\n",
              "      <td>0.0</td>\n",
              "      <td>0.0</td>\n",
              "      <td>1.0</td>\n",
              "    </tr>\n",
              "    <tr>\n",
              "      <th>2</th>\n",
              "      <td>'first olympic goal jamie neushul hits skipsho...</td>\n",
              "      <td>0.0</td>\n",
              "      <td>0.0</td>\n",
              "      <td>1.0</td>\n",
              "    </tr>\n",
              "    <tr>\n",
              "      <th>3</th>\n",
              "      <td>'djokovic denied olympic bronze throws racket'</td>\n",
              "      <td>1.0</td>\n",
              "      <td>0.0</td>\n",
              "      <td>0.0</td>\n",
              "    </tr>\n",
              "    <tr>\n",
              "      <th>4</th>\n",
              "      <td>'gold medallist yang qian’s ‘lucky’ hair clip ...</td>\n",
              "      <td>0.0</td>\n",
              "      <td>0.0</td>\n",
              "      <td>1.0</td>\n",
              "    </tr>\n",
              "    <tr>\n",
              "      <th>...</th>\n",
              "      <td>...</td>\n",
              "      <td>...</td>\n",
              "      <td>...</td>\n",
              "      <td>...</td>\n",
              "    </tr>\n",
              "    <tr>\n",
              "      <th>225225</th>\n",
              "      <td>'lived us since one'</td>\n",
              "      <td>1.0</td>\n",
              "      <td>0.0</td>\n",
              "      <td>0.0</td>\n",
              "    </tr>\n",
              "    <tr>\n",
              "      <th>225226</th>\n",
              "      <td>'tokyo olympics deeply hurt feelings chinese p...</td>\n",
              "      <td>1.0</td>\n",
              "      <td>0.0</td>\n",
              "      <td>0.0</td>\n",
              "    </tr>\n",
              "    <tr>\n",
              "      <th>225227</th>\n",
              "      <td>'ronda whyte got disqualified amp girl right s...</td>\n",
              "      <td>0.0</td>\n",
              "      <td>0.0</td>\n",
              "      <td>1.0</td>\n",
              "    </tr>\n",
              "    <tr>\n",
              "      <th>225228</th>\n",
              "      <td>'phew thought us it’s streaming olympics mess ...</td>\n",
              "      <td>0.0</td>\n",
              "      <td>1.0</td>\n",
              "      <td>0.0</td>\n",
              "    </tr>\n",
              "    <tr>\n",
              "      <th>225229</th>\n",
              "      <td>'simone biles leaps olympics action usa’s gap ...</td>\n",
              "      <td>0.0</td>\n",
              "      <td>0.0</td>\n",
              "      <td>1.0</td>\n",
              "    </tr>\n",
              "  </tbody>\n",
              "</table>\n",
              "<p>225230 rows × 4 columns</p>\n",
              "</div>"
            ],
            "text/plain": [
              "                                                   tweets  ...  Label\n",
              "0       'fun fact hosting 2028 summer olympics sofista...  ...    1.0\n",
              "1       'fantastic scenes family friends swimming coll...  ...    1.0\n",
              "2       'first olympic goal jamie neushul hits skipsho...  ...    1.0\n",
              "3          'djokovic denied olympic bronze throws racket'  ...    0.0\n",
              "4       'gold medallist yang qian’s ‘lucky’ hair clip ...  ...    1.0\n",
              "...                                                   ...  ...    ...\n",
              "225225                               'lived us since one'  ...    0.0\n",
              "225226  'tokyo olympics deeply hurt feelings chinese p...  ...    0.0\n",
              "225227  'ronda whyte got disqualified amp girl right s...  ...    1.0\n",
              "225228  'phew thought us it’s streaming olympics mess ...  ...    0.0\n",
              "225229  'simone biles leaps olympics action usa’s gap ...  ...    1.0\n",
              "\n",
              "[225230 rows x 4 columns]"
            ]
          },
          "execution_count": 49,
          "metadata": {},
          "output_type": "execute_result"
        }
      ]
    },
    {
      "cell_type": "markdown",
      "metadata": {
        "id": "KcBR_9Qz1sfa"
      },
      "source": [
        "### Valid dataset"
      ]
    },
    {
      "cell_type": "code",
      "metadata": {
        "colab": {
          "base_uri": "https://localhost:8080/"
        },
        "id": "L3O6O6CU1sfa",
        "outputId": "0471475b-69a2-493e-b069-0c85698e50cb"
      },
      "source": [
        "pd.read_csv(valid_filepaths[0]).head()"
      ],
      "execution_count": null,
      "outputs": [
        {
          "data": {
            "text/html": [
              "<div>\n",
              "<style scoped>\n",
              "    .dataframe tbody tr th:only-of-type {\n",
              "        vertical-align: middle;\n",
              "    }\n",
              "\n",
              "    .dataframe tbody tr th {\n",
              "        vertical-align: top;\n",
              "    }\n",
              "\n",
              "    .dataframe thead th {\n",
              "        text-align: right;\n",
              "    }\n",
              "</style>\n",
              "<table border=\"1\" class=\"dataframe\">\n",
              "  <thead>\n",
              "    <tr style=\"text-align: right;\">\n",
              "      <th></th>\n",
              "      <th>tweets</th>\n",
              "      <th>Subjectivity</th>\n",
              "      <th>Polarity</th>\n",
              "      <th>Label</th>\n",
              "    </tr>\n",
              "  </thead>\n",
              "  <tbody>\n",
              "    <tr>\n",
              "      <th>0</th>\n",
              "      <td>'one historical facts constantly think photo t...</td>\n",
              "      <td>1.0</td>\n",
              "      <td>0.0</td>\n",
              "      <td>0.0</td>\n",
              "    </tr>\n",
              "    <tr>\n",
              "      <th>1</th>\n",
              "      <td>'real tho would dcc even think coming back oly...</td>\n",
              "      <td>0.0</td>\n",
              "      <td>0.0</td>\n",
              "      <td>1.0</td>\n",
              "    </tr>\n",
              "    <tr>\n",
              "      <th>2</th>\n",
              "      <td>'jdestoop80 benjiman1983 sad part probably get...</td>\n",
              "      <td>0.0</td>\n",
              "      <td>1.0</td>\n",
              "      <td>0.0</td>\n",
              "    </tr>\n",
              "    <tr>\n",
              "      <th>3</th>\n",
              "      <td>'gong wins later would finished places 1 4 4 o...</td>\n",
              "      <td>0.0</td>\n",
              "      <td>0.0</td>\n",
              "      <td>1.0</td>\n",
              "    </tr>\n",
              "    <tr>\n",
              "      <th>4</th>\n",
              "      <td>'ind assured second medal tokyo2020 lovlina bo...</td>\n",
              "      <td>1.0</td>\n",
              "      <td>0.0</td>\n",
              "      <td>0.0</td>\n",
              "    </tr>\n",
              "  </tbody>\n",
              "</table>\n",
              "</div>"
            ],
            "text/plain": [
              "                                              tweets  ...  Label\n",
              "0  'one historical facts constantly think photo t...  ...    0.0\n",
              "1  'real tho would dcc even think coming back oly...  ...    1.0\n",
              "2  'jdestoop80 benjiman1983 sad part probably get...  ...    0.0\n",
              "3  'gong wins later would finished places 1 4 4 o...  ...    1.0\n",
              "4  'ind assured second medal tokyo2020 lovlina bo...  ...    0.0\n",
              "\n",
              "[5 rows x 4 columns]"
            ]
          },
          "execution_count": 50,
          "metadata": {},
          "output_type": "execute_result"
        }
      ]
    },
    {
      "cell_type": "code",
      "metadata": {
        "colab": {
          "base_uri": "https://localhost:8080/"
        },
        "id": "Ca3wuVG-1sfa",
        "outputId": "10ebb142-191f-4b4f-92e6-54e6dd75d7ab"
      },
      "source": [
        "os.path.getsize(valid_filepaths[0])"
      ],
      "execution_count": null,
      "outputs": [
        {
          "data": {
            "text/plain": [
              "486168"
            ]
          },
          "execution_count": 51,
          "metadata": {},
          "output_type": "execute_result"
        }
      ]
    },
    {
      "cell_type": "code",
      "metadata": {
        "id": "0eveWQ-91sfb"
      },
      "source": [
        "valid_folder=('/').join(re.search('(.*)/(.*)/(.*)',valid_filepaths[0], re.IGNORECASE).group(1,2))"
      ],
      "execution_count": null,
      "outputs": []
    },
    {
      "cell_type": "code",
      "metadata": {
        "colab": {
          "base_uri": "https://localhost:8080/"
        },
        "id": "AvoE7LxW1sfb",
        "outputId": "05db0f59-9eec-4410-f239-398fe0914771"
      },
      "source": [
        "print(valid_filepaths[0])\n",
        "valid_folder"
      ],
      "execution_count": null,
      "outputs": [
        {
          "name": "stdout",
          "output_type": "stream",
          "text": [
            "datasets/tweets/my_valid_00.csv\n"
          ]
        },
        {
          "data": {
            "application/vnd.google.colaboratory.intrinsic+json": {
              "type": "string"
            },
            "text/plain": [
              "'datasets/tweets'"
            ]
          },
          "execution_count": 53,
          "metadata": {},
          "output_type": "execute_result"
        }
      ]
    },
    {
      "cell_type": "code",
      "metadata": {
        "id": "32J1CiwK1sfc"
      },
      "source": [
        "full_csv = valid_folder+'/full_train.csv'\n",
        "with open(full_csv, \"wt\", encoding=\"utf-8\") as f:\n",
        "    if header is not None:\n",
        "        f.write(header)\n",
        "        f.write(\"\\n\")\n",
        "    for row_idx in range(valid_data.shape[0]):\n",
        "        f.write(\",\".join([repr(col) for col in valid_data[row_idx]]))\n",
        "        f.write(\"\\n\")"
      ],
      "execution_count": null,
      "outputs": []
    },
    {
      "cell_type": "code",
      "metadata": {
        "colab": {
          "base_uri": "https://localhost:8080/"
        },
        "id": "sfNyKJ7X1sfc",
        "outputId": "9976e177-21b4-44f2-dabc-e2a7d2b0b7b8"
      },
      "source": [
        "os.path.getsize(full_csv)"
      ],
      "execution_count": null,
      "outputs": [
        {
          "data": {
            "text/plain": [
              "4847473"
            ]
          },
          "execution_count": 55,
          "metadata": {},
          "output_type": "execute_result"
        }
      ]
    },
    {
      "cell_type": "code",
      "metadata": {
        "colab": {
          "base_uri": "https://localhost:8080/"
        },
        "id": "6L5f--yr1sfc",
        "outputId": "a66b63ab-86ed-48b8-fa54-06ea957cdb71"
      },
      "source": [
        "pd.read_csv(full_csv).shape"
      ],
      "execution_count": null,
      "outputs": [
        {
          "data": {
            "text/plain": [
              "(56308, 4)"
            ]
          },
          "execution_count": 56,
          "metadata": {},
          "output_type": "execute_result"
        }
      ]
    },
    {
      "cell_type": "code",
      "metadata": {
        "id": "bFrayOTO1sfd"
      },
      "source": [
        "valid_data = pd.read_csv(full_csv)"
      ],
      "execution_count": null,
      "outputs": []
    },
    {
      "cell_type": "code",
      "metadata": {
        "colab": {
          "base_uri": "https://localhost:8080/"
        },
        "id": "1ivdpiNY1sfd",
        "outputId": "58b6b7f0-e91e-4d6d-cc4d-b2a10412e69f"
      },
      "source": [
        "valid_data"
      ],
      "execution_count": null,
      "outputs": [
        {
          "data": {
            "text/html": [
              "<div>\n",
              "<style scoped>\n",
              "    .dataframe tbody tr th:only-of-type {\n",
              "        vertical-align: middle;\n",
              "    }\n",
              "\n",
              "    .dataframe tbody tr th {\n",
              "        vertical-align: top;\n",
              "    }\n",
              "\n",
              "    .dataframe thead th {\n",
              "        text-align: right;\n",
              "    }\n",
              "</style>\n",
              "<table border=\"1\" class=\"dataframe\">\n",
              "  <thead>\n",
              "    <tr style=\"text-align: right;\">\n",
              "      <th></th>\n",
              "      <th>tweets</th>\n",
              "      <th>Subjectivity</th>\n",
              "      <th>Polarity</th>\n",
              "      <th>Label</th>\n",
              "    </tr>\n",
              "  </thead>\n",
              "  <tbody>\n",
              "    <tr>\n",
              "      <th>0</th>\n",
              "      <td>'one historical facts constantly think photo t...</td>\n",
              "      <td>1.0</td>\n",
              "      <td>0.0</td>\n",
              "      <td>0.0</td>\n",
              "    </tr>\n",
              "    <tr>\n",
              "      <th>1</th>\n",
              "      <td>'real tho would dcc even think coming back oly...</td>\n",
              "      <td>0.0</td>\n",
              "      <td>0.0</td>\n",
              "      <td>1.0</td>\n",
              "    </tr>\n",
              "    <tr>\n",
              "      <th>2</th>\n",
              "      <td>'jdestoop80 benjiman1983 sad part probably get...</td>\n",
              "      <td>0.0</td>\n",
              "      <td>1.0</td>\n",
              "      <td>0.0</td>\n",
              "    </tr>\n",
              "    <tr>\n",
              "      <th>3</th>\n",
              "      <td>'gong wins later would finished places 1 4 4 o...</td>\n",
              "      <td>0.0</td>\n",
              "      <td>0.0</td>\n",
              "      <td>1.0</td>\n",
              "    </tr>\n",
              "    <tr>\n",
              "      <th>4</th>\n",
              "      <td>'ind assured second medal tokyo2020 lovlina bo...</td>\n",
              "      <td>1.0</td>\n",
              "      <td>0.0</td>\n",
              "      <td>0.0</td>\n",
              "    </tr>\n",
              "    <tr>\n",
              "      <th>...</th>\n",
              "      <td>...</td>\n",
              "      <td>...</td>\n",
              "      <td>...</td>\n",
              "      <td>...</td>\n",
              "    </tr>\n",
              "    <tr>\n",
              "      <th>56303</th>\n",
              "      <td>'nuriacruzcruz edinsu hey quick check olympics...</td>\n",
              "      <td>0.0</td>\n",
              "      <td>0.0</td>\n",
              "      <td>1.0</td>\n",
              "    </tr>\n",
              "    <tr>\n",
              "      <th>56304</th>\n",
              "      <td>'symtecboy piersmorgan ill take guy took fastb...</td>\n",
              "      <td>0.0</td>\n",
              "      <td>1.0</td>\n",
              "      <td>0.0</td>\n",
              "    </tr>\n",
              "    <tr>\n",
              "      <th>56305</th>\n",
              "      <td>'went looking opening ceremony came across cli...</td>\n",
              "      <td>1.0</td>\n",
              "      <td>0.0</td>\n",
              "      <td>0.0</td>\n",
              "    </tr>\n",
              "    <tr>\n",
              "      <th>56306</th>\n",
              "      <td>'elaine jogged 1076 claat know shackaberry hap...</td>\n",
              "      <td>0.0</td>\n",
              "      <td>0.0</td>\n",
              "      <td>1.0</td>\n",
              "    </tr>\n",
              "    <tr>\n",
              "      <th>56307</th>\n",
              "      <td>'bcci announces cash prize indias tokyo 2020 o...</td>\n",
              "      <td>1.0</td>\n",
              "      <td>0.0</td>\n",
              "      <td>0.0</td>\n",
              "    </tr>\n",
              "  </tbody>\n",
              "</table>\n",
              "<p>56308 rows × 4 columns</p>\n",
              "</div>"
            ],
            "text/plain": [
              "                                                  tweets  ...  Label\n",
              "0      'one historical facts constantly think photo t...  ...    0.0\n",
              "1      'real tho would dcc even think coming back oly...  ...    1.0\n",
              "2      'jdestoop80 benjiman1983 sad part probably get...  ...    0.0\n",
              "3      'gong wins later would finished places 1 4 4 o...  ...    1.0\n",
              "4      'ind assured second medal tokyo2020 lovlina bo...  ...    0.0\n",
              "...                                                  ...  ...    ...\n",
              "56303  'nuriacruzcruz edinsu hey quick check olympics...  ...    1.0\n",
              "56304  'symtecboy piersmorgan ill take guy took fastb...  ...    0.0\n",
              "56305  'went looking opening ceremony came across cli...  ...    0.0\n",
              "56306  'elaine jogged 1076 claat know shackaberry hap...  ...    1.0\n",
              "56307  'bcci announces cash prize indias tokyo 2020 o...  ...    0.0\n",
              "\n",
              "[56308 rows x 4 columns]"
            ]
          },
          "execution_count": 58,
          "metadata": {},
          "output_type": "execute_result"
        }
      ]
    },
    {
      "cell_type": "markdown",
      "metadata": {
        "id": "SZ-MIpKC4Bc0"
      },
      "source": [
        "#### Split train_sentences, val_sentences, train_labels,  val_labels "
      ]
    },
    {
      "cell_type": "code",
      "metadata": {
        "id": "XO07F0i34FLW"
      },
      "source": [
        "train_sentences,  train_labels = train_data.tweets, train_data.Label\n",
        "val_sentences, val_labels  = valid_data.tweets, valid_data.Label"
      ],
      "execution_count": null,
      "outputs": []
    },
    {
      "cell_type": "markdown",
      "metadata": {
        "id": "c1O5d08bi39H"
      },
      "source": [
        "#### Menyiapkan Target"
      ]
    },
    {
      "cell_type": "code",
      "metadata": {
        "id": "dn3ALilriwvF"
      },
      "source": [
        "X_train, y_train = train_dataset.tweets, train_dataset.Label\n",
        "X_test, y_test = test_dataset.tweets, test_dataset.Label"
      ],
      "execution_count": null,
      "outputs": []
    },
    {
      "cell_type": "code",
      "metadata": {
        "id": "Ycpqitviiw6f"
      },
      "source": [
        "def prepare_targets(y_train, y_test):\n",
        "    y_train_enc = to_categorical(y_train)\n",
        "    y_test_enc = to_categorical(y_test)\n",
        "    return y_train_enc, y_test_enc\n",
        "\n",
        "y_train, y_test = prepare_targets(y_train, y_test)"
      ],
      "execution_count": null,
      "outputs": []
    },
    {
      "cell_type": "markdown",
      "metadata": {
        "id": "rGPFIWNIjCkT"
      },
      "source": [
        "#### Melakukan Split Data "
      ]
    },
    {
      "cell_type": "code",
      "metadata": {
        "id": "gP9aVS6BixEY"
      },
      "source": [
        "train_sentences, val_sentences, train_labels, val_labels = train_test_split(X_train.to_numpy(),\n",
        "                                                                            y_train,\n",
        "                                                                            test_size=0.2,\n",
        "                                                                            random_state=42)"
      ],
      "execution_count": null,
      "outputs": []
    },
    {
      "cell_type": "code",
      "metadata": {
        "id": "g1X_mJdJvFDt"
      },
      "source": [
        "def counter_word(text):\n",
        "  count = Counter()\n",
        "  for i in text.values:\n",
        "      for word in i.split():\n",
        "          count[word] += 1\n",
        "  return count"
      ],
      "execution_count": null,
      "outputs": []
    },
    {
      "cell_type": "code",
      "metadata": {
        "id": "fUkTAUXay3QA"
      },
      "source": [
        "text = dataset['tweets']\n",
        "counter = counter_word(text)"
      ],
      "execution_count": null,
      "outputs": []
    },
    {
      "cell_type": "code",
      "metadata": {
        "colab": {
          "base_uri": "https://localhost:8080/"
        },
        "id": "_JbXj6fby6qH",
        "outputId": "fbd95d1b-6876-463d-e053-2f8cf9e62037"
      },
      "source": [
        "max_vocab_length = len(counter)\n",
        "max_vocab_length"
      ],
      "execution_count": null,
      "outputs": [
        {
          "data": {
            "text/plain": [
              "185954"
            ]
          },
          "execution_count": 65,
          "metadata": {},
          "output_type": "execute_result"
        }
      ]
    },
    {
      "cell_type": "markdown",
      "metadata": {
        "id": "bPFkwX3kyefh"
      },
      "source": [
        "#### Menghitung"
      ]
    },
    {
      "cell_type": "code",
      "metadata": {
        "colab": {
          "base_uri": "https://localhost:8080/"
        },
        "id": "2AmAnyPFyhVR",
        "outputId": "4ce1a60d-015f-48db-a15c-434448364610"
      },
      "source": [
        "# max number of words in a squance\n",
        "max_length = round(sum([len(i.split()) for i in train_sentences])/len(train_sentences))\n",
        "max_length"
      ],
      "execution_count": null,
      "outputs": [
        {
          "data": {
            "text/plain": [
              "10"
            ]
          },
          "execution_count": 66,
          "metadata": {},
          "output_type": "execute_result"
        }
      ]
    },
    {
      "cell_type": "markdown",
      "metadata": {
        "id": "g2kzNUZEsLXL"
      },
      "source": [
        "## Tokenizer"
      ]
    },
    {
      "cell_type": "markdown",
      "metadata": {
        "id": "HeWnkEFoFNjo"
      },
      "source": [
        "#### Setup text vectorization "
      ]
    },
    {
      "cell_type": "code",
      "metadata": {
        "id": "t97LB_XX2_u4"
      },
      "source": [
        "text_vectorizer = TextVectorization(max_tokens=max_vocab_length, \n",
        "                                    split=\"whitespace\", \n",
        "                                    output_sequence_length=max_length)"
      ],
      "execution_count": null,
      "outputs": []
    },
    {
      "cell_type": "code",
      "metadata": {
        "id": "nWzzPtYl5JW_"
      },
      "source": [
        "text_vectorizer.adapt(train_sentences)"
      ],
      "execution_count": null,
      "outputs": []
    },
    {
      "cell_type": "markdown",
      "metadata": {
        "id": "rsd6nNxBEWu9"
      },
      "source": [
        "#### Buat contoh Tweets untuk membuktikan tokenizer bekerja"
      ]
    },
    {
      "cell_type": "code",
      "metadata": {
        "colab": {
          "base_uri": "https://localhost:8080/"
        },
        "id": "nLV4zGHz8zMV",
        "outputId": "6ce83ed1-af71-40a0-cd78-d41060a1c83c"
      },
      "source": [
        "sample_sentence = \"Why is the Team USA men basketball team\"\n",
        "text_vectorizer([sample_sentence])"
      ],
      "execution_count": null,
      "outputs": [
        {
          "data": {
            "text/plain": [
              "<tf.Tensor: shape=(1, 10), dtype=int64, numpy=array([[  1,   1,   1,  12,  32, 217,  70,  12,   0,   0]])>"
            ]
          },
          "execution_count": 69,
          "metadata": {},
          "output_type": "execute_result"
        }
      ]
    },
    {
      "cell_type": "code",
      "metadata": {
        "colab": {
          "base_uri": "https://localhost:8080/"
        },
        "id": "0Lko2LV08zU0",
        "outputId": "e0c5a904-385a-4059-dec3-443ceabbd1d5"
      },
      "source": [
        "random_sentence = random.choice(train_sentences)\n",
        "print(f\"Teks Asli:\\n{random_sentence}\\\n",
        "      \\n\\nVersi Vektorisasi:\")\n",
        "text_vectorizer([random_sentence])"
      ],
      "execution_count": null,
      "outputs": [
        {
          "name": "stdout",
          "output_type": "stream",
          "text": [
            "Teks Asli:\n",
            "nbc failing olympics badly putting winner medal broadcasts usually…      \n",
            "\n",
            "Versi Vektorisasi:\n"
          ]
        },
        {
          "data": {
            "text/plain": [
              "<tf.Tensor: shape=(1, 10), dtype=int64, numpy=\n",
              "array([[  185,  1764,     2,  3253,  1125,   571,     8,  7534, 25201,\n",
              "            0]])>"
            ]
          },
          "execution_count": 70,
          "metadata": {},
          "output_type": "execute_result"
        }
      ]
    },
    {
      "cell_type": "code",
      "metadata": {
        "colab": {
          "base_uri": "https://localhost:8080/"
        },
        "id": "b3uxeg8f8zeM",
        "outputId": "84ffd0b1-c15a-4e1d-cad9-7af0ad7f44dd"
      },
      "source": [
        "words_in_vocab = text_vectorizer.get_vocabulary()\n",
        "top_5_words = words_in_vocab[:5] # token terbanyak\n",
        "bottom_5_words = words_in_vocab[-5:] # token tersedikit\n",
        "print(f\"Number of words in vocab: {len(words_in_vocab)}\")\n",
        "print(f\"Top 5 most common words: {top_5_words}\") \n",
        "print(f\"Bottom 5 least common words: {bottom_5_words}\")"
      ],
      "execution_count": null,
      "outputs": [
        {
          "name": "stdout",
          "output_type": "stream",
          "text": [
            "Number of words in vocab: 151288\n",
            "Top 5 most common words: ['', '[UNK]', 'olympics', 'tokyo', 'ateezofficial']\n",
            "Bottom 5 least common words: ['0005seconds…', '000101jd', '0000m', '0000000000', '000000']\n"
          ]
        }
      ]
    },
    {
      "cell_type": "markdown",
      "metadata": {
        "id": "YpbWHk8OueQy"
      },
      "source": [
        "#### Load GloVe Model"
      ]
    },
    {
      "cell_type": "code",
      "metadata": {
        "colab": {
          "base_uri": "https://localhost:8080/"
        },
        "id": "4FIOPIt49RzW",
        "outputId": "b9eda1f5-2d98-4549-c079-14a72bb9e871"
      },
      "source": [
        "tokenizer_obj = Tokenizer()\n",
        "tokenizer_obj.fit_on_texts(dataset['tweets'])\n",
        "\n",
        "word_index = tokenizer_obj.word_index\n",
        "print(\"unique tokens - \",len(word_index))\n",
        "vocab_size = len(tokenizer_obj.word_index) + 1\n",
        "print('vocab size -', vocab_size)"
      ],
      "execution_count": null,
      "outputs": [
        {
          "name": "stdout",
          "output_type": "stream",
          "text": [
            "unique tokens -  185954\n",
            "vocab size - 185955\n"
          ]
        }
      ]
    },
    {
      "cell_type": "code",
      "metadata": {
        "colab": {
          "base_uri": "https://localhost:8080/"
        },
        "id": "KpBwMWBRufKp",
        "outputId": "2da4f452-d038-4c21-c897-83b7f7fe75f5"
      },
      "source": [
        "embeddings_index = {}\n",
        "embedding_dim = 100\n",
        "GLOVE_DIR = \"/content/drive/MyDrive/final_project/glove.twitter.27B.100d.txt\"\n",
        "f = open(os.path.join(GLOVE_DIR, '/content/drive/MyDrive/final_project/glove.twitter.27B.100d.txt'), encoding = \"utf-8\")\n",
        "for line in f:\n",
        "    values = line.split()\n",
        "    word = values[0]\n",
        "    coefs = np.asarray(values[1:], dtype='float32')\n",
        "    embeddings_index[word] = coefs\n",
        "f.close()\n",
        "\n",
        "print('Found %s word vectors.' % len(embeddings_index))"
      ],
      "execution_count": null,
      "outputs": [
        {
          "name": "stdout",
          "output_type": "stream",
          "text": [
            "Found 1193514 word vectors.\n"
          ]
        }
      ]
    },
    {
      "cell_type": "markdown",
      "metadata": {
        "id": "apUVCWFeumSy"
      },
      "source": [
        "## membuat embedding layers"
      ]
    },
    {
      "cell_type": "code",
      "metadata": {
        "colab": {
          "base_uri": "https://localhost:8080/"
        },
        "id": "3uHa04LCufVt",
        "outputId": "393e3f20-1a2d-4721-ada2-60ac349977fd"
      },
      "source": [
        "embedding_matrix = np.zeros((len(word_index) + 1, embedding_dim))\n",
        "c = 0\n",
        "for word, i in word_index.items():\n",
        "    embedding_vector = embeddings_index.get(word)\n",
        "    if embedding_vector is not None:\n",
        "        c+=1\n",
        "        embedding_matrix[i] = embedding_vector\n",
        "print(c)"
      ],
      "execution_count": null,
      "outputs": [
        {
          "name": "stdout",
          "output_type": "stream",
          "text": [
            "50399\n"
          ]
        }
      ]
    },
    {
      "cell_type": "code",
      "metadata": {
        "id": "YrIE16xv5A0Y"
      },
      "source": [
        "embedding_glove = layers.Embedding(input_dim=vocab_size,\n",
        "                            output_dim=embedding_dim,\n",
        "                            weights=[embedding_matrix],\n",
        "                            input_length=max_length,\n",
        "                            trainable=False)"
      ],
      "execution_count": null,
      "outputs": []
    },
    {
      "cell_type": "code",
      "metadata": {
        "colab": {
          "base_uri": "https://localhost:8080/"
        },
        "id": "M9mBy5NF5BBN",
        "outputId": "f3353227-54e9-40aa-9845-df5c201e63fa"
      },
      "source": [
        "embedding_glove"
      ],
      "execution_count": null,
      "outputs": [
        {
          "data": {
            "text/plain": [
              "<keras.layers.embeddings.Embedding at 0x7ff0e341b890>"
            ]
          },
          "execution_count": 76,
          "metadata": {},
          "output_type": "execute_result"
        }
      ]
    },
    {
      "cell_type": "code",
      "metadata": {
        "id": "BhxDvRC35BNM"
      },
      "source": [
        "random_sentence = random.choice(train_sentences)"
      ],
      "execution_count": null,
      "outputs": []
    },
    {
      "cell_type": "code",
      "metadata": {
        "colab": {
          "base_uri": "https://localhost:8080/",
          "height": 35
        },
        "id": "uPyhANHBl41W",
        "outputId": "483bb2cb-d57d-4bac-ba20-a3bd02261a67"
      },
      "source": [
        "random_sentence"
      ],
      "execution_count": null,
      "outputs": [
        {
          "data": {
            "application/vnd.google.colaboratory.intrinsic+json": {
              "type": "string"
            },
            "text/plain": [
              "'yas summer olympics 2021 helwelsmith center pools'"
            ]
          },
          "execution_count": 78,
          "metadata": {},
          "output_type": "execute_result"
        }
      ]
    },
    {
      "cell_type": "code",
      "metadata": {
        "colab": {
          "base_uri": "https://localhost:8080/"
        },
        "id": "GWDlXqvPfUSM",
        "outputId": "4f919f02-25db-4547-d91a-5de177220479"
      },
      "source": [
        "sample_embed = embedding_glove(text_vectorizer([random_sentence]))\n",
        "print(f\"Teks Asli:\\n{random_sentence}\\\n",
        "      \\n\\nVersi Embedded:\", sample_embed)"
      ],
      "execution_count": null,
      "outputs": [
        {
          "name": "stdout",
          "output_type": "stream",
          "text": [
            "Teks Asli:\n",
            "yas summer olympics 2021 helwelsmith center pools      \n",
            "\n",
            "Versi Embedded: tf.Tensor(\n",
            "[[[ 0.         0.         0.         0.         0.         0.\n",
            "    0.         0.         0.         0.         0.         0.\n",
            "    0.         0.         0.         0.         0.         0.\n",
            "    0.         0.         0.         0.         0.         0.\n",
            "    0.         0.         0.         0.         0.         0.\n",
            "    0.         0.         0.         0.         0.         0.\n",
            "    0.         0.         0.         0.         0.         0.\n",
            "    0.         0.         0.         0.         0.         0.\n",
            "    0.         0.         0.         0.         0.         0.\n",
            "    0.         0.         0.         0.         0.         0.\n",
            "    0.         0.         0.         0.         0.         0.\n",
            "    0.         0.         0.         0.         0.         0.\n",
            "    0.         0.         0.         0.         0.         0.\n",
            "    0.         0.         0.         0.         0.         0.\n",
            "    0.         0.         0.         0.         0.         0.\n",
            "    0.         0.         0.         0.         0.         0.\n",
            "    0.         0.         0.         0.       ]\n",
            "  [ 0.         0.         0.         0.         0.         0.\n",
            "    0.         0.         0.         0.         0.         0.\n",
            "    0.         0.         0.         0.         0.         0.\n",
            "    0.         0.         0.         0.         0.         0.\n",
            "    0.         0.         0.         0.         0.         0.\n",
            "    0.         0.         0.         0.         0.         0.\n",
            "    0.         0.         0.         0.         0.         0.\n",
            "    0.         0.         0.         0.         0.         0.\n",
            "    0.         0.         0.         0.         0.         0.\n",
            "    0.         0.         0.         0.         0.         0.\n",
            "    0.         0.         0.         0.         0.         0.\n",
            "    0.         0.         0.         0.         0.         0.\n",
            "    0.         0.         0.         0.         0.         0.\n",
            "    0.         0.         0.         0.         0.         0.\n",
            "    0.         0.         0.         0.         0.         0.\n",
            "    0.         0.         0.         0.         0.         0.\n",
            "    0.         0.         0.         0.       ]\n",
            "  [ 0.16921   -0.10961   -0.19605   -0.3719    -0.53809    0.16143\n",
            "   -0.12472   -0.25327    0.21724   -0.44773   -0.33738    0.051271\n",
            "   -1.9254     0.0802    -0.12018   -0.18411   -0.24129   -0.029985\n",
            "   -0.25894   -0.70611   -0.29262   -0.95777    0.59425    0.11004\n",
            "    0.59313   -0.37362   -0.08937   -0.19381    0.25265    0.15346\n",
            "   -0.33002   -0.44581    0.21335   -0.12414    0.84336   -0.17687\n",
            "   -0.25986    0.29974    0.64823    0.301     -0.34852    0.13801\n",
            "   -0.12071    0.038762   0.80792    1.328     -0.32899   -0.72136\n",
            "    0.19149    0.34674    0.12602   -0.1272    -0.44757    0.61585\n",
            "    0.045474  -0.81569    0.14861   -0.76584    0.51131   -0.14442\n",
            "    0.52596   -0.36575   -0.45843    0.068871  -0.8649    -0.22915\n",
            "    0.084547   0.13216   -0.21891   -0.44025    0.10788   -0.78365\n",
            "   -0.39974   -0.51236   -0.39925   -0.53213   -1.2483     1.2615\n",
            "    0.85319   -0.50844    1.4387    -1.3346     0.69773    1.2833\n",
            "   -0.28119    0.19917    0.55888   -0.20624    0.31802    0.3068\n",
            "    0.2286     0.16101    0.46784   -0.55731   -0.47371    0.63987\n",
            "    0.10293   -0.58306   -0.32944    0.0048706]\n",
            "  [-0.89576   -0.92183    0.14913   -0.25121    0.10397    0.46965\n",
            "    0.70299   -0.39807   -0.65015   -0.20826   -0.2851    -0.11455\n",
            "   -3.5304     0.37717   -0.11199   -0.019414  -0.4496     0.42657\n",
            "   -0.39661    0.13738   -0.50071   -0.10388    0.23345   -0.21111\n",
            "    0.25814   -0.14755   -0.057121  -0.48793    0.28059   -0.73449\n",
            "   -1.1377     0.084311  -0.31729   -0.085831  -0.052985   0.62416\n",
            "    0.26254    0.27203    0.17596    0.54661   -0.94407   -0.020613\n",
            "    0.62208   -0.24703    0.10993    0.61814    0.027522  -0.17343\n",
            "   -0.70895    0.34309    0.028017   0.020393   0.37327    0.29174\n",
            "    0.044602   0.016544   0.37339   -0.11816    0.27341   -0.46893\n",
            "   -0.25912    0.10473   -0.52668   -0.71805   -0.18869   -0.42315\n",
            "   -0.26882   -0.15147    0.32614   -0.36439    0.18147   -0.0058194\n",
            "    0.85306    0.41213    0.18514   -0.07997   -0.2009     0.10362\n",
            "    0.31519   -0.1401     2.6916    -1.3852     0.049881  -0.43842\n",
            "    0.51403    0.48505    0.11895    0.51707    0.064465  -0.3\n",
            "   -0.088176   0.74324    0.010214  -0.30035   -0.22405   -0.19533\n",
            "    0.129      0.80123   -0.26657   -0.39858  ]\n",
            "  [ 0.         0.         0.         0.         0.         0.\n",
            "    0.         0.         0.         0.         0.         0.\n",
            "    0.         0.         0.         0.         0.         0.\n",
            "    0.         0.         0.         0.         0.         0.\n",
            "    0.         0.         0.         0.         0.         0.\n",
            "    0.         0.         0.         0.         0.         0.\n",
            "    0.         0.         0.         0.         0.         0.\n",
            "    0.         0.         0.         0.         0.         0.\n",
            "    0.         0.         0.         0.         0.         0.\n",
            "    0.         0.         0.         0.         0.         0.\n",
            "    0.         0.         0.         0.         0.         0.\n",
            "    0.         0.         0.         0.         0.         0.\n",
            "    0.         0.         0.         0.         0.         0.\n",
            "    0.         0.         0.         0.         0.         0.\n",
            "    0.         0.         0.         0.         0.         0.\n",
            "    0.         0.         0.         0.         0.         0.\n",
            "    0.         0.         0.         0.       ]\n",
            "  [-0.53708   -0.34991   -0.68402    0.60536   -0.20816    0.33365\n",
            "   -0.98904   -0.14417    0.23614   -0.61099   -0.20088   -0.22352\n",
            "   -1.0612     0.14268   -0.037618  -0.17162   -0.6077     0.57127\n",
            "    0.88184    0.014653   0.16499   -0.21712   -0.42945   -0.13987\n",
            "   -0.21523    1.0576    -0.59216    0.55987   -0.67374   -0.15262\n",
            "   -0.2411    -0.12846    0.057717   0.085113  -0.51488   -0.96464\n",
            "   -0.12737    0.1797    -0.15596    0.028205   0.51828    0.026164\n",
            "    0.47336   -0.040639  -0.043364   0.33694   -0.30113   -0.043076\n",
            "    0.13513   -0.15105    0.10479    0.17787    0.38458    0.67228\n",
            "   -0.67835   -0.49142   -1.0338    -0.21316    0.12047   -0.23532\n",
            "    0.41427    0.80865   -0.39353    0.01138   -0.35535    0.78055\n",
            "   -0.3812     0.023234  -0.2823    -0.147      0.34994    0.4359\n",
            "    0.052066   0.10997    0.18153   -0.50423   -0.21633    0.068246\n",
            "    0.066485  -0.007866   0.85583    0.12146    0.20133    0.80597\n",
            "    0.60242    0.015338   0.34198    0.054037  -0.042001   0.0054428\n",
            "   -0.16426    0.44042    0.085753   0.38117   -0.14372    0.8802\n",
            "   -0.25317    0.71421    0.46325    0.50711  ]\n",
            "  [ 0.18355    0.45954   -0.84046    0.17807   -0.35075   -0.409\n",
            "    0.4887     0.28701    0.28713    0.26848    0.57509   -0.6457\n",
            "   -2.1469    -0.26742    0.63967   -0.67868   -0.40961    0.51349\n",
            "    0.25176   -0.29369    0.46351    0.23953   -0.22662    0.78367\n",
            "   -0.16971    0.62377    0.2385    -0.084415  -0.5051     0.32465\n",
            "    0.99597    0.16453   -0.56138    0.034196   0.75417   -0.096497\n",
            "   -0.20575    0.077808  -0.15859    0.21447    0.59707    0.62071\n",
            "    0.74297    0.14685    0.45265    0.19314    0.59719    0.14231\n",
            "   -0.40058    0.11474    0.32509    0.01432   -0.38582    0.50059\n",
            "   -0.10797    0.65685    0.61149    0.39925   -0.24149    0.072847\n",
            "   -0.24183    0.99984   -0.14568    0.014814   0.42822    0.73415\n",
            "    0.78537    0.093088  -0.044613   0.026267   0.19614   -0.50318\n",
            "    0.075871   0.63223    0.34604   -0.035512  -0.059157  -0.27492\n",
            "    0.0090415  0.11556    0.98254   -0.10864    1.1244    -0.19218\n",
            "   -0.20956    0.28687    0.059252  -0.81833   -0.51649   -0.28327\n",
            "    0.35728   -0.069438   0.47954   -0.45696    0.20033   -0.15289\n",
            "    0.43593   -0.28775   -0.35377   -0.16307  ]\n",
            "  [ 0.         0.         0.         0.         0.         0.\n",
            "    0.         0.         0.         0.         0.         0.\n",
            "    0.         0.         0.         0.         0.         0.\n",
            "    0.         0.         0.         0.         0.         0.\n",
            "    0.         0.         0.         0.         0.         0.\n",
            "    0.         0.         0.         0.         0.         0.\n",
            "    0.         0.         0.         0.         0.         0.\n",
            "    0.         0.         0.         0.         0.         0.\n",
            "    0.         0.         0.         0.         0.         0.\n",
            "    0.         0.         0.         0.         0.         0.\n",
            "    0.         0.         0.         0.         0.         0.\n",
            "    0.         0.         0.         0.         0.         0.\n",
            "    0.         0.         0.         0.         0.         0.\n",
            "    0.         0.         0.         0.         0.         0.\n",
            "    0.         0.         0.         0.         0.         0.\n",
            "    0.         0.         0.         0.         0.         0.\n",
            "    0.         0.         0.         0.       ]\n",
            "  [ 0.         0.         0.         0.         0.         0.\n",
            "    0.         0.         0.         0.         0.         0.\n",
            "    0.         0.         0.         0.         0.         0.\n",
            "    0.         0.         0.         0.         0.         0.\n",
            "    0.         0.         0.         0.         0.         0.\n",
            "    0.         0.         0.         0.         0.         0.\n",
            "    0.         0.         0.         0.         0.         0.\n",
            "    0.         0.         0.         0.         0.         0.\n",
            "    0.         0.         0.         0.         0.         0.\n",
            "    0.         0.         0.         0.         0.         0.\n",
            "    0.         0.         0.         0.         0.         0.\n",
            "    0.         0.         0.         0.         0.         0.\n",
            "    0.         0.         0.         0.         0.         0.\n",
            "    0.         0.         0.         0.         0.         0.\n",
            "    0.         0.         0.         0.         0.         0.\n",
            "    0.         0.         0.         0.         0.         0.\n",
            "    0.         0.         0.         0.       ]\n",
            "  [ 0.         0.         0.         0.         0.         0.\n",
            "    0.         0.         0.         0.         0.         0.\n",
            "    0.         0.         0.         0.         0.         0.\n",
            "    0.         0.         0.         0.         0.         0.\n",
            "    0.         0.         0.         0.         0.         0.\n",
            "    0.         0.         0.         0.         0.         0.\n",
            "    0.         0.         0.         0.         0.         0.\n",
            "    0.         0.         0.         0.         0.         0.\n",
            "    0.         0.         0.         0.         0.         0.\n",
            "    0.         0.         0.         0.         0.         0.\n",
            "    0.         0.         0.         0.         0.         0.\n",
            "    0.         0.         0.         0.         0.         0.\n",
            "    0.         0.         0.         0.         0.         0.\n",
            "    0.         0.         0.         0.         0.         0.\n",
            "    0.         0.         0.         0.         0.         0.\n",
            "    0.         0.         0.         0.         0.         0.\n",
            "    0.         0.         0.         0.       ]]], shape=(1, 10, 100), dtype=float32)\n"
          ]
        }
      ]
    },
    {
      "cell_type": "markdown",
      "metadata": {
        "id": "urPAMmR4E2qI"
      },
      "source": [
        "# Pendefinisian dan Pelatihan Model"
      ]
    },
    {
      "cell_type": "markdown",
      "metadata": {
        "id": "jQ8z0Ywv69sB"
      },
      "source": [
        "#### Permodelan LSTM dengan GloVe weight initialization"
      ]
    },
    {
      "cell_type": "code",
      "metadata": {
        "colab": {
          "base_uri": "https://localhost:8080/"
        },
        "id": "pQYteevi5BSY",
        "outputId": "773dc0f2-3011-4eac-ccab-5df92fce7ce3"
      },
      "source": [
        "inputs = layers.Input(shape=(1,), dtype=\"string\")\n",
        "x = text_vectorizer(inputs)\n",
        "x = embedding_glove(x)\n",
        "print(x.shape)\n",
        "x = layers.LSTM(64, dropout=0.5)(x) \n",
        "print(x.shape)\n",
        "outputs = layers.Dense(3, activation=\"softmax\")(x)\n",
        "model_LSTM_GloVe = tf.keras.Model(inputs, outputs, name=\"model_LSTM_GloVe\")"
      ],
      "execution_count": null,
      "outputs": [
        {
          "name": "stdout",
          "output_type": "stream",
          "text": [
            "(None, 10, 100)\n",
            "(None, 64)\n"
          ]
        }
      ]
    },
    {
      "cell_type": "markdown",
      "metadata": {
        "id": "E5UhOSDK8aaG"
      },
      "source": [
        "menggunakan activation softmax karena output berupa 3 kategori"
      ]
    },
    {
      "cell_type": "code",
      "metadata": {
        "colab": {
          "base_uri": "https://localhost:8080/"
        },
        "id": "i6WMz8ex5BXM",
        "outputId": "0641fa67-a699-4160-d9c1-23678b564108"
      },
      "source": [
        "model_LSTM_GloVe.summary()"
      ],
      "execution_count": null,
      "outputs": [
        {
          "name": "stdout",
          "output_type": "stream",
          "text": [
            "Model: \"model_LSTM_GloVe\"\n",
            "_________________________________________________________________\n",
            "Layer (type)                 Output Shape              Param #   \n",
            "=================================================================\n",
            "input_1 (InputLayer)         [(None, 1)]               0         \n",
            "_________________________________________________________________\n",
            "text_vectorization (TextVect (None, 10)                0         \n",
            "_________________________________________________________________\n",
            "embedding (Embedding)        (None, 10, 100)           18595500  \n",
            "_________________________________________________________________\n",
            "lstm (LSTM)                  (None, 64)                42240     \n",
            "_________________________________________________________________\n",
            "dense (Dense)                (None, 3)                 195       \n",
            "=================================================================\n",
            "Total params: 18,637,935\n",
            "Trainable params: 42,435\n",
            "Non-trainable params: 18,595,500\n",
            "_________________________________________________________________\n"
          ]
        }
      ]
    },
    {
      "cell_type": "markdown",
      "metadata": {
        "id": "L9MqcMb_8ZF8"
      },
      "source": [
        "## Fit Model"
      ]
    },
    {
      "cell_type": "markdown",
      "metadata": {
        "id": "a7fiZ3848bz5"
      },
      "source": [
        "#### Compile model LSTM with Glove"
      ]
    },
    {
      "cell_type": "code",
      "metadata": {
        "id": "u81RPdSg8iH-"
      },
      "source": [
        "model_LSTM_GloVe.compile(loss=\"categorical_crossentropy\",\n",
        "                         optimizer=tf.keras.optimizers.Adam(),\n",
        "                         metrics=[\"accuracy\"])"
      ],
      "execution_count": null,
      "outputs": []
    },
    {
      "cell_type": "markdown",
      "metadata": {
        "id": "eS9_ZvLC_5r5"
      },
      "source": [
        "#### Training model LSTM with Glove"
      ]
    },
    {
      "cell_type": "code",
      "metadata": {
        "colab": {
          "background_save": true,
          "base_uri": "https://localhost:8080/"
        },
        "id": "Ih5Gsffv8oZz",
        "outputId": "2b5713bd-6921-4849-84bc-44676a2a1206"
      },
      "source": [
        "model_LSTM_GloVe_history = model_LSTM_GloVe.fit(train_sentences,\n",
        "                                                train_labels,\n",
        "                                                batch_size=32, \n",
        "                                                epochs=75,\n",
        "                                                validation_data=(val_sentences, val_labels),\n",
        "                                                verbose=2)"
      ],
      "execution_count": null,
      "outputs": [
        {
          "name": "stdout",
          "output_type": "stream",
          "text": [
            "Epoch 1/75\n",
            "7039/7039 - 58s - loss: 0.8155 - accuracy: 0.6293 - val_loss: 0.6667 - val_accuracy: 0.7260\n",
            "Epoch 2/75\n",
            "7039/7039 - 55s - loss: 0.7165 - accuracy: 0.6935 - val_loss: 0.6161 - val_accuracy: 0.7578\n",
            "Epoch 3/75\n",
            "7039/7039 - 55s - loss: 0.6765 - accuracy: 0.7205 - val_loss: 0.5801 - val_accuracy: 0.7846\n",
            "Epoch 4/75\n",
            "7039/7039 - 56s - loss: 0.6501 - accuracy: 0.7369 - val_loss: 0.5498 - val_accuracy: 0.8004\n",
            "Epoch 5/75\n",
            "7039/7039 - 56s - loss: 0.6310 - accuracy: 0.7500 - val_loss: 0.5376 - val_accuracy: 0.8047\n",
            "Epoch 6/75\n",
            "7039/7039 - 55s - loss: 0.6170 - accuracy: 0.7576 - val_loss: 0.5288 - val_accuracy: 0.8089\n",
            "Epoch 7/75\n",
            "7039/7039 - 56s - loss: 0.6064 - accuracy: 0.7644 - val_loss: 0.5228 - val_accuracy: 0.8110\n",
            "Epoch 8/75\n",
            "7039/7039 - 55s - loss: 0.5975 - accuracy: 0.7684 - val_loss: 0.5103 - val_accuracy: 0.8175\n",
            "Epoch 9/75\n",
            "7039/7039 - 56s - loss: 0.5905 - accuracy: 0.7725 - val_loss: 0.5045 - val_accuracy: 0.8207\n",
            "Epoch 10/75\n",
            "7039/7039 - 56s - loss: 0.5858 - accuracy: 0.7751 - val_loss: 0.4998 - val_accuracy: 0.8233\n",
            "Epoch 11/75\n",
            "7039/7039 - 55s - loss: 0.5807 - accuracy: 0.7786 - val_loss: 0.4947 - val_accuracy: 0.8263\n",
            "Epoch 12/75\n",
            "7039/7039 - 55s - loss: 0.5757 - accuracy: 0.7811 - val_loss: 0.4903 - val_accuracy: 0.8283\n",
            "Epoch 13/75\n",
            "7039/7039 - 55s - loss: 0.5721 - accuracy: 0.7819 - val_loss: 0.4898 - val_accuracy: 0.8283\n",
            "Epoch 14/75\n",
            "7039/7039 - 55s - loss: 0.5699 - accuracy: 0.7839 - val_loss: 0.4854 - val_accuracy: 0.8303\n",
            "Epoch 15/75\n",
            "7039/7039 - 55s - loss: 0.5673 - accuracy: 0.7844 - val_loss: 0.4853 - val_accuracy: 0.8302\n",
            "Epoch 16/75\n",
            "7039/7039 - 55s - loss: 0.5664 - accuracy: 0.7847 - val_loss: 0.4858 - val_accuracy: 0.8307\n",
            "Epoch 17/75\n",
            "7039/7039 - 55s - loss: 0.5639 - accuracy: 0.7871 - val_loss: 0.4813 - val_accuracy: 0.8325\n",
            "Epoch 18/75\n",
            "7039/7039 - 55s - loss: 0.5617 - accuracy: 0.7883 - val_loss: 0.4837 - val_accuracy: 0.8320\n",
            "Epoch 19/75\n",
            "7039/7039 - 55s - loss: 0.5596 - accuracy: 0.7896 - val_loss: 0.4814 - val_accuracy: 0.8318\n",
            "Epoch 20/75\n",
            "7039/7039 - 56s - loss: 0.5587 - accuracy: 0.7887 - val_loss: 0.4811 - val_accuracy: 0.8331\n",
            "Epoch 21/75\n",
            "7039/7039 - 57s - loss: 0.5580 - accuracy: 0.7892 - val_loss: 0.4770 - val_accuracy: 0.8345\n",
            "Epoch 22/75\n",
            "7039/7039 - 55s - loss: 0.5572 - accuracy: 0.7898 - val_loss: 0.4767 - val_accuracy: 0.8334\n",
            "Epoch 23/75\n",
            "7039/7039 - 55s - loss: 0.5560 - accuracy: 0.7903 - val_loss: 0.4756 - val_accuracy: 0.8349\n",
            "Epoch 24/75\n",
            "7039/7039 - 56s - loss: 0.5546 - accuracy: 0.7914 - val_loss: 0.4741 - val_accuracy: 0.8353\n",
            "Epoch 25/75\n",
            "7039/7039 - 55s - loss: 0.5539 - accuracy: 0.7920 - val_loss: 0.4748 - val_accuracy: 0.8356\n",
            "Epoch 26/75\n",
            "7039/7039 - 55s - loss: 0.5541 - accuracy: 0.7913 - val_loss: 0.4733 - val_accuracy: 0.8366\n",
            "Epoch 27/75\n",
            "7039/7039 - 56s - loss: 0.5525 - accuracy: 0.7927 - val_loss: 0.4728 - val_accuracy: 0.8369\n",
            "Epoch 28/75\n",
            "7039/7039 - 55s - loss: 0.5512 - accuracy: 0.7929 - val_loss: 0.4684 - val_accuracy: 0.8379\n",
            "Epoch 29/75\n",
            "7039/7039 - 55s - loss: 0.5502 - accuracy: 0.7936 - val_loss: 0.4680 - val_accuracy: 0.8389\n",
            "Epoch 30/75\n",
            "7039/7039 - 55s - loss: 0.5498 - accuracy: 0.7945 - val_loss: 0.4680 - val_accuracy: 0.8390\n",
            "Epoch 31/75\n",
            "7039/7039 - 55s - loss: 0.5489 - accuracy: 0.7952 - val_loss: 0.4687 - val_accuracy: 0.8395\n",
            "Epoch 32/75\n",
            "7039/7039 - 56s - loss: 0.5476 - accuracy: 0.7945 - val_loss: 0.4670 - val_accuracy: 0.8396\n",
            "Epoch 33/75\n",
            "7039/7039 - 55s - loss: 0.5475 - accuracy: 0.7946 - val_loss: 0.4690 - val_accuracy: 0.8383\n",
            "Epoch 34/75\n",
            "7039/7039 - 55s - loss: 0.5470 - accuracy: 0.7957 - val_loss: 0.4689 - val_accuracy: 0.8396\n",
            "Epoch 35/75\n",
            "7039/7039 - 55s - loss: 0.5467 - accuracy: 0.7955 - val_loss: 0.4672 - val_accuracy: 0.8395\n",
            "Epoch 36/75\n",
            "7039/7039 - 55s - loss: 0.5457 - accuracy: 0.7958 - val_loss: 0.4635 - val_accuracy: 0.8409\n",
            "Epoch 37/75\n",
            "7039/7039 - 55s - loss: 0.5439 - accuracy: 0.7968 - val_loss: 0.4657 - val_accuracy: 0.8410\n",
            "Epoch 38/75\n",
            "7039/7039 - 55s - loss: 0.5447 - accuracy: 0.7965 - val_loss: 0.4649 - val_accuracy: 0.8406\n",
            "Epoch 39/75\n",
            "7039/7039 - 55s - loss: 0.5443 - accuracy: 0.7960 - val_loss: 0.4677 - val_accuracy: 0.8406\n",
            "Epoch 40/75\n",
            "7039/7039 - 55s - loss: 0.5447 - accuracy: 0.7963 - val_loss: 0.4640 - val_accuracy: 0.8406\n",
            "Epoch 41/75\n",
            "7039/7039 - 55s - loss: 0.5437 - accuracy: 0.7975 - val_loss: 0.4639 - val_accuracy: 0.8413\n",
            "Epoch 42/75\n",
            "7039/7039 - 55s - loss: 0.5429 - accuracy: 0.7971 - val_loss: 0.4629 - val_accuracy: 0.8413\n",
            "Epoch 43/75\n",
            "7039/7039 - 56s - loss: 0.5436 - accuracy: 0.7970 - val_loss: 0.4628 - val_accuracy: 0.8411\n",
            "Epoch 44/75\n",
            "7039/7039 - 55s - loss: 0.5422 - accuracy: 0.7981 - val_loss: 0.4618 - val_accuracy: 0.8421\n",
            "Epoch 45/75\n",
            "7039/7039 - 55s - loss: 0.5415 - accuracy: 0.7980 - val_loss: 0.4605 - val_accuracy: 0.8416\n",
            "Epoch 46/75\n",
            "7039/7039 - 55s - loss: 0.5425 - accuracy: 0.7978 - val_loss: 0.4614 - val_accuracy: 0.8416\n",
            "Epoch 47/75\n",
            "7039/7039 - 55s - loss: 0.5427 - accuracy: 0.7975 - val_loss: 0.4608 - val_accuracy: 0.8419\n",
            "Epoch 48/75\n",
            "7039/7039 - 55s - loss: 0.5417 - accuracy: 0.7974 - val_loss: 0.4623 - val_accuracy: 0.8410\n",
            "Epoch 49/75\n",
            "7039/7039 - 55s - loss: 0.5415 - accuracy: 0.7981 - val_loss: 0.4621 - val_accuracy: 0.8414\n",
            "Epoch 50/75\n",
            "7039/7039 - 55s - loss: 0.5421 - accuracy: 0.7969 - val_loss: 0.4604 - val_accuracy: 0.8418\n",
            "Epoch 51/75\n",
            "7039/7039 - 55s - loss: 0.5407 - accuracy: 0.7982 - val_loss: 0.4628 - val_accuracy: 0.8401\n",
            "Epoch 52/75\n",
            "7039/7039 - 56s - loss: 0.5410 - accuracy: 0.7977 - val_loss: 0.4611 - val_accuracy: 0.8415\n",
            "Epoch 53/75\n",
            "7039/7039 - 55s - loss: 0.5410 - accuracy: 0.7983 - val_loss: 0.4592 - val_accuracy: 0.8419\n",
            "Epoch 54/75\n",
            "7039/7039 - 56s - loss: 0.5386 - accuracy: 0.7991 - val_loss: 0.4599 - val_accuracy: 0.8418\n",
            "Epoch 55/75\n",
            "7039/7039 - 55s - loss: 0.5395 - accuracy: 0.7992 - val_loss: 0.4596 - val_accuracy: 0.8425\n",
            "Epoch 56/75\n",
            "7039/7039 - 55s - loss: 0.5407 - accuracy: 0.7987 - val_loss: 0.4567 - val_accuracy: 0.8432\n",
            "Epoch 57/75\n",
            "7039/7039 - 55s - loss: 0.5383 - accuracy: 0.7994 - val_loss: 0.4562 - val_accuracy: 0.8439\n",
            "Epoch 58/75\n",
            "7039/7039 - 55s - loss: 0.5375 - accuracy: 0.8001 - val_loss: 0.4561 - val_accuracy: 0.8436\n",
            "Epoch 59/75\n",
            "7039/7039 - 55s - loss: 0.5380 - accuracy: 0.7997 - val_loss: 0.4578 - val_accuracy: 0.8424\n",
            "Epoch 60/75\n",
            "7039/7039 - 55s - loss: 0.5389 - accuracy: 0.7998 - val_loss: 0.4561 - val_accuracy: 0.8439\n",
            "Epoch 61/75\n",
            "7039/7039 - 54s - loss: 0.5393 - accuracy: 0.7989 - val_loss: 0.4567 - val_accuracy: 0.8442\n",
            "Epoch 62/75\n",
            "7039/7039 - 54s - loss: 0.5394 - accuracy: 0.7993 - val_loss: 0.4572 - val_accuracy: 0.8440\n",
            "Epoch 63/75\n",
            "7039/7039 - 55s - loss: 0.5363 - accuracy: 0.8005 - val_loss: 0.4557 - val_accuracy: 0.8442\n",
            "Epoch 64/75\n",
            "7039/7039 - 54s - loss: 0.5365 - accuracy: 0.8005 - val_loss: 0.4549 - val_accuracy: 0.8448\n",
            "Epoch 65/75\n",
            "7039/7039 - 55s - loss: 0.5370 - accuracy: 0.8001 - val_loss: 0.4573 - val_accuracy: 0.8445\n",
            "Epoch 66/75\n",
            "7039/7039 - 54s - loss: 0.5379 - accuracy: 0.8000 - val_loss: 0.4569 - val_accuracy: 0.8442\n",
            "Epoch 67/75\n",
            "7039/7039 - 54s - loss: 0.5372 - accuracy: 0.8001 - val_loss: 0.4556 - val_accuracy: 0.8455\n",
            "Epoch 68/75\n",
            "7039/7039 - 55s - loss: 0.5380 - accuracy: 0.7993 - val_loss: 0.4564 - val_accuracy: 0.8441\n",
            "Epoch 69/75\n",
            "7039/7039 - 55s - loss: 0.5361 - accuracy: 0.8004 - val_loss: 0.4566 - val_accuracy: 0.8444\n",
            "Epoch 70/75\n",
            "7039/7039 - 55s - loss: 0.5357 - accuracy: 0.8008 - val_loss: 0.4600 - val_accuracy: 0.8431\n",
            "Epoch 71/75\n",
            "7039/7039 - 55s - loss: 0.5367 - accuracy: 0.8005 - val_loss: 0.4550 - val_accuracy: 0.8441\n",
            "Epoch 72/75\n",
            "7039/7039 - 55s - loss: 0.5359 - accuracy: 0.8004 - val_loss: 0.4569 - val_accuracy: 0.8439\n",
            "Epoch 73/75\n",
            "7039/7039 - 55s - loss: 0.5342 - accuracy: 0.8019 - val_loss: 0.4551 - val_accuracy: 0.8452\n",
            "Epoch 74/75\n",
            "7039/7039 - 55s - loss: 0.5364 - accuracy: 0.7999 - val_loss: 0.4574 - val_accuracy: 0.8445\n",
            "Epoch 75/75\n",
            "7039/7039 - 54s - loss: 0.5378 - accuracy: 0.8002 - val_loss: 0.4569 - val_accuracy: 0.8439\n"
          ]
        }
      ]
    },
    {
      "cell_type": "code",
      "metadata": {
        "colab": {
          "base_uri": "https://localhost:8080/",
          "height": 545
        },
        "id": "_xl8twZTFxCW",
        "outputId": "ba5a13ba-ded1-4423-a147-cc15f6c76685"
      },
      "source": [
        "# Plot results\n",
        "acc = model_LSTM_GloVe_history.history[\"accuracy\"]\n",
        "val_acc = model_LSTM_GloVe_history.history['val_accuracy']\n",
        "loss = model_LSTM_GloVe_history.history['loss']\n",
        "val_loss = model_LSTM_GloVe_history.history['val_loss']\n",
        "\n",
        "epochs = range(1, len(acc)+1)\n",
        "\n",
        "plt.plot(epochs, acc, 'g', label='Training accuracy')\n",
        "plt.plot(epochs, val_acc, 'r', label='Validation accuracy')\n",
        "plt.title('Training and validation accuracy')\n",
        "plt.legend()\n",
        "\n",
        "plt.figure()\n",
        "\n",
        "plt.plot(epochs, loss, 'g', label='Training loss')\n",
        "plt.plot(epochs, val_loss, 'r', label='Validation loss')\n",
        "plt.title('Training and validation loss')\n",
        "plt.legend()\n",
        "\n",
        "plt.show()"
      ],
      "execution_count": 91,
      "outputs": [
        {
          "output_type": "display_data",
          "data": {
            "image/png": "[encoded data removed]",
            "text/plain": [
              "<Figure size 432x288 with 1 Axes>"
            ]
          },
          "metadata": {
            "needs_background": "light"
          }
        },
        {
          "output_type": "display_data",
          "data": {
            "image/png": "[encoded data removed]",
            "text/plain": [
              "<Figure size 432x288 with 1 Axes>"
            ]
          },
          "metadata": {
            "needs_background": "light"
          }
        }
      ]
    },
    {
      "cell_type": "markdown",
      "metadata": {
        "id": "sJAkEyRa9mwd"
      },
      "source": [
        "## Model LSTM with word2vec Evaluation"
      ]
    },
    {
      "cell_type": "code",
      "metadata": {
        "colab": {
          "background_save": true
        },
        "id": "1npQ5ZY19uMj"
      },
      "source": [
        "y_pred = model_LSTM_GloVe.predict(val_sentences)"
      ],
      "execution_count": null,
      "outputs": []
    },
    {
      "cell_type": "code",
      "metadata": {
        "id": "VZEa-CS999cM"
      },
      "source": [
        "def calculate_results(y_true, y_pred):\n",
        "  model_accuracy = accuracy_score(y_true, y_pred) * 100\n",
        "  model_precision, model_recall, model_f1, _ = precision_recall_fscore_support(y_true, y_pred, average=\"weighted\")\n",
        "  model_results = {\"accuracy\": model_accuracy,\n",
        "                  \"precision\": model_precision,\n",
        "                  \"recall\": model_recall,\n",
        "                  \"f1\": model_f1}\n",
        "  return model_results"
      ],
      "execution_count": 92,
      "outputs": []
    },
    {
      "cell_type": "code",
      "metadata": {
        "colab": {
          "base_uri": "https://localhost:8080/"
        },
        "id": "PTYEQbB599o2",
        "outputId": "0e487fa8-6651-4aff-8bc0-2232a37a591f"
      },
      "source": [
        "model_LSTM_GloVe_results = calculate_results(y_true= val_labels.argmax(axis=1), \n",
        "                                    y_pred= y_pred.argmax(axis=1))\n",
        "model_LSTM_GloVe_results"
      ],
      "execution_count": 93,
      "outputs": [
        {
          "output_type": "execute_result",
          "data": {
            "text/plain": [
              "{'accuracy': 84.38587767279961,\n",
              " 'f1': 0.8376270659595391,\n",
              " 'precision': 0.8574184866823014,\n",
              " 'recall': 0.843858776727996}"
            ]
          },
          "metadata": {},
          "execution_count": 93
        }
      ]
    },
    {
      "cell_type": "markdown",
      "metadata": {
        "id": "eORIeyNxl0Kl"
      },
      "source": [
        "# Model Evaluation"
      ]
    },
    {
      "cell_type": "code",
      "metadata": {
        "colab": {
          "base_uri": "https://localhost:8080/"
        },
        "id": "xsOJwmUQl0-Q",
        "outputId": "558293be-4b1f-41d5-cee9-8d71b9c15778"
      },
      "source": [
        "print('Hasil Performa dengan Layers Embedding :')\n",
        "print('\\n',model_LSTM_GloVe_results)"
      ],
      "execution_count": 94,
      "outputs": [
        {
          "output_type": "stream",
          "name": "stdout",
          "text": [
            "Hasil Performa dengan Layers Embedding :\n",
            "\n",
            " {'accuracy': 84.38587767279961, 'precision': 0.8574184866823014, 'recall': 0.843858776727996, 'f1': 0.8376270659595391}\n"
          ]
        }
      ]
    },
    {
      "cell_type": "markdown",
      "metadata": {
        "id": "K2kTiZFbiD0I"
      },
      "source": [
        "# Data Inference"
      ]
    },
    {
      "cell_type": "markdown",
      "metadata": {
        "id": "OfsDy9mO4n9U"
      },
      "source": [
        "#### membuat data baru"
      ]
    },
    {
      "cell_type": "code",
      "metadata": {
        "id": "ZfdCFJ_PdVhz"
      },
      "source": [
        "new_tweets = [\n",
        "            \"Japanese nationalists are targeting their own medals\",\n",
        "            \"The Indian mens hockey team beat current Olympycs\",\n",
        "            \"Wales wins its firstever Olympic gold after 20 years\"\n",
        "]"
      ],
      "execution_count": 95,
      "outputs": []
    },
    {
      "cell_type": "markdown",
      "metadata": {
        "id": "6C9TwGuG4n9V"
      },
      "source": [
        "#### melakukan prediksi terhadap data baru"
      ]
    },
    {
      "cell_type": "code",
      "metadata": {
        "colab": {
          "base_uri": "https://localhost:8080/"
        },
        "id": "ru7Pgr9Iissf",
        "outputId": "f5d652da-faeb-4cc2-d9b6-92edc7e73c31"
      },
      "source": [
        "predict = model_LSTM_GloVe.predict(new_tweets)\n",
        "predict.argmax(axis=1)"
      ],
      "execution_count": 96,
      "outputs": [
        {
          "output_type": "execute_result",
          "data": {
            "text/plain": [
              "array([0, 0, 2])"
            ]
          },
          "metadata": {},
          "execution_count": 96
        }
      ]
    },
    {
      "cell_type": "markdown",
      "metadata": {
        "id": "zkwUFtPJ4n9V"
      },
      "source": [
        "dari hasil prediksi dengan menggunakan data baru didapatkan hasil sebagai berikut:\n",
        "* tweet pertama termasuk kedalam label tweet Netral\n",
        "* tweet kedua termasuk kedalam label tweet Netral\n",
        "* tweet ketiga termasuk kedalam label tweet Positive"
      ]
    }
  ]
}